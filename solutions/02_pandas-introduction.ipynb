{
 "cells": [
  {
   "cell_type": "markdown",
   "metadata": {},
   "source": [
    "# Pandas - Introduction\n",
    "\n",
    "This notebook is the first part of the collection devoted to the pandas library.\n",
    "It presents the basic objects "
   ]
  },
  {
   "cell_type": "code",
   "execution_count": null,
   "metadata": {},
   "outputs": [],
   "source": [
    "import jupy_helpers\n",
    "from IPython.display import display"
   ]
  },
  {
   "cell_type": "code",
   "execution_count": null,
   "metadata": {},
   "outputs": [],
   "source": [
    "# Start using pandas (default import convention)\n",
    "import pandas as pd\n",
    "import numpy as np"
   ]
  },
  {
   "cell_type": "code",
   "execution_count": null,
   "metadata": {
    "scrolled": true
   },
   "outputs": [],
   "source": [
    "# Let pandas speak for themselves\n",
    "print(pd.__doc__)"
   ]
  },
  {
   "cell_type": "markdown",
   "metadata": {},
   "source": [
    "Visit the official website: https://pandas.pydata.org"
   ]
  },
  {
   "cell_type": "code",
   "execution_count": null,
   "metadata": {},
   "outputs": [],
   "source": [
    "# Current version (should be 0.24 in 2019)\n",
    "print(pd.__version__)"
   ]
  },
  {
   "cell_type": "markdown",
   "metadata": {},
   "source": [
    "## Basic objects "
   ]
  },
  {
   "cell_type": "markdown",
   "metadata": {},
   "source": [
    "The **pandas** library has a vast API with many useful functions. However, most of this revolves\n",
    "around two important classes:\n",
    "\n",
    "* Series\n",
    "* DataFrame\n",
    "\n",
    "In this introduction, we will focus on them - what each of them does and how they relate to each other\n",
    "and numpy objects."
   ]
  },
  {
   "cell_type": "markdown",
   "metadata": {},
   "source": [
    "### Series\n",
    "\n",
    "Series is a one-dimensional data structure, central to pandas. \n",
    "\n",
    "For a complete API, visit https://pandas.pydata.org/pandas-docs/stable/reference/api/pandas.Series.html"
   ]
  },
  {
   "cell_type": "code",
   "execution_count": null,
   "metadata": {},
   "outputs": [],
   "source": [
    "# My first series\n",
    "series = pd.Series([1, 2, 3])\n",
    "series"
   ]
  },
  {
   "cell_type": "markdown",
   "metadata": {},
   "source": [
    "This looks a bit like a Numpy array, does it not?\n",
    "\n",
    "Actually, in most cases the Series wraps a Numpy array..."
   ]
  },
  {
   "cell_type": "code",
   "execution_count": null,
   "metadata": {},
   "outputs": [],
   "source": [
    "series.values  # The result is a Numpy array"
   ]
  },
  {
   "cell_type": "markdown",
   "metadata": {},
   "source": [
    "...and if we construct the series from a numpy array, it wraps it directly."
   ]
  },
  {
   "cell_type": "code",
   "execution_count": null,
   "metadata": {},
   "outputs": [],
   "source": [
    "zeros_array = np.zeros(10)\n",
    "\n",
    "# We check object identity\n",
    "pd.Series(zeros_array).values is zeros_array"
   ]
  },
  {
   "cell_type": "markdown",
   "metadata": {},
   "source": [
    "But there is something more. Alongside the values, we see that each item (or \"row\") has a certain label. The collection of lables is called **index**."
   ]
  },
  {
   "cell_type": "code",
   "execution_count": null,
   "metadata": {},
   "outputs": [],
   "source": [
    "series.index"
   ]
  },
  {
   "cell_type": "markdown",
   "metadata": {},
   "source": [
    "This index (see below) can be used, as its name suggests, to index items of the series."
   ]
  },
  {
   "cell_type": "code",
   "execution_count": null,
   "metadata": {},
   "outputs": [],
   "source": [
    "# Return an element from the series\n",
    "series.loc[1]"
   ]
  },
  {
   "cell_type": "code",
   "execution_count": null,
   "metadata": {},
   "outputs": [],
   "source": [
    "# Construction from a dictionary\n",
    "series_ab = pd.Series({\"a\": 2, \"b\": 4})\n",
    "series_ab"
   ]
  },
  {
   "cell_type": "markdown",
   "metadata": {},
   "source": [
    "**Exercise**: Create a series with 5 elements."
   ]
  },
  {
   "cell_type": "code",
   "execution_count": null,
   "metadata": {},
   "outputs": [],
   "source": [
    "%exercise\n",
    "\n",
    "# result = ...\n",
    "\n",
    "result = pd.Series([1,2,3,4,5])"
   ]
  },
  {
   "cell_type": "code",
   "execution_count": null,
   "metadata": {},
   "outputs": [],
   "source": [
    "%validate\n",
    "assert len(result) == 5"
   ]
  },
  {
   "cell_type": "markdown",
   "metadata": {},
   "source": [
    "### DataFrame"
   ]
  },
  {
   "cell_type": "markdown",
   "metadata": {},
   "source": [
    "A **DataFrame** is pandas' answer to Excel sheets - it is a collection of columns (or, in our case, a collection of **Series**).\n",
    "Quite often, we directly read data frames from an external source, but it is possible to create them from:\n",
    "* a dict of Series, numpy arrays or other array-like objects\n",
    "* from an iterable of rows (where rows are Series, lists, ...)"
   ]
  },
  {
   "cell_type": "code",
   "execution_count": null,
   "metadata": {},
   "outputs": [],
   "source": [
    "# List of lists\n",
    "table = [\n",
    "    ['a', 1],\n",
    "    ['b', 3],\n",
    "    ['c', 5]\n",
    "]\n",
    "table_df = pd.DataFrame(table)\n",
    "table_df"
   ]
  },
  {
   "cell_type": "code",
   "execution_count": null,
   "metadata": {},
   "outputs": [],
   "source": [
    "# Dict of Series\n",
    "df = pd.DataFrame({\n",
    "    'number': pd.Series([1, 2, 3, 4], dtype=np.int8),\n",
    "    'letter': pd.Series(['a', 'b', 'c', 'd'])\n",
    "})\n",
    "df"
   ]
  },
  {
   "cell_type": "code",
   "execution_count": null,
   "metadata": {
    "scrolled": true
   },
   "outputs": [],
   "source": [
    "# Numpy array (10x2), specify column names\n",
    "data = np.random.normal(0, 1, (10, 2))\n",
    "\n",
    "df = pd.DataFrame(data, columns=['a', 'b'])\n",
    "df"
   ]
  },
  {
   "cell_type": "code",
   "execution_count": null,
   "metadata": {},
   "outputs": [],
   "source": [
    "# A DataFrame also has an index...\n",
    "df.index"
   ]
  },
  {
   "cell_type": "code",
   "execution_count": null,
   "metadata": {},
   "outputs": [],
   "source": [
    "# ...that is shared by all columns\n",
    "df.index is df[\"a\"].index"
   ]
  },
  {
   "cell_type": "markdown",
   "metadata": {},
   "source": [
    "## D(ata) types\n",
    "\n",
    "Pandas builds upon the numpy data types (mentioned earlier) and adds a couple of more."
   ]
  },
  {
   "cell_type": "code",
   "execution_count": null,
   "metadata": {},
   "outputs": [],
   "source": [
    "typed_df = pd.DataFrame({\n",
    "  \"bool\": np.arange(5) % 2 == 0,\n",
    "  \"int\": range(5),\n",
    "  \"int[nan]\": pd.Series([np.nan, 0, 1, 2, 3], dtype=\"Int64\"),\n",
    "  \"float\": np.arange(5) * 3.14,\n",
    "  \"object\": [None, 1, \"2\", 3.0, 4 + 1j],\n",
    "  \"string?\": [\"a\", \"b\", \"c\", \"d\", \"e\"],\n",
    "  \"datetime\": pd.date_range('2018-01-01', periods=5, freq='3M'),\n",
    "  \"timedelta\": pd.timedelta_range(0, freq=\"1s\", periods=5),\n",
    "  \"category\": pd.Series([\"animal\", \"plant\", \"animal\", \"animal\", \"plant\"], dtype=\"category\")\n",
    "})\n",
    "typed_df"
   ]
  },
  {
   "cell_type": "code",
   "execution_count": null,
   "metadata": {},
   "outputs": [],
   "source": [
    "typed_df.dtypes"
   ]
  },
  {
   "cell_type": "markdown",
   "metadata": {},
   "source": [
    "We will see some of the types practically used in further analysis."
   ]
  },
  {
   "cell_type": "markdown",
   "metadata": {},
   "source": [
    "## Indices & indexing\n",
    "\n"
   ]
  },
  {
   "cell_type": "code",
   "execution_count": null,
   "metadata": {},
   "outputs": [],
   "source": [
    "abc_series = pd.Series(range(3), index=[\"a\", \"b\", \"c\"])\n",
    "abc_series"
   ]
  },
  {
   "cell_type": "code",
   "execution_count": null,
   "metadata": {},
   "outputs": [],
   "source": [
    "abc_series.index"
   ]
  },
  {
   "cell_type": "code",
   "execution_count": null,
   "metadata": {},
   "outputs": [],
   "source": [
    "abc_series.index = [\"c\", \"d\", \"e\"]  # Changes the labels in-place!\n",
    "abc_series.index.name = \"letter\"\n",
    "abc_series"
   ]
  },
  {
   "cell_type": "code",
   "execution_count": null,
   "metadata": {},
   "outputs": [],
   "source": [
    "table = [\n",
    "    ['a', 1],\n",
    "    ['b', 3],\n",
    "    ['c', 5]\n",
    "]\n",
    "table_df = pd.DataFrame(\n",
    "    table,\n",
    "    index=[\"first\", \"second\", \"third\"],\n",
    "    columns=[\"alpha\", \"beta\"]\n",
    ")\n",
    "table_df"
   ]
  },
  {
   "cell_type": "code",
   "execution_count": null,
   "metadata": {},
   "outputs": [],
   "source": [
    "alpha = table_df[\"alpha\"]  # Simple [] indexing in DataFrame returns Series\n",
    "alpha"
   ]
  },
  {
   "cell_type": "code",
   "execution_count": null,
   "metadata": {},
   "outputs": [],
   "source": [
    "alpha[\"second\"]             # Simple [] indexing in Series returns scalar values."
   ]
  },
  {
   "cell_type": "code",
   "execution_count": null,
   "metadata": {},
   "outputs": [],
   "source": [
    "alpha.second   # This also works"
   ]
  },
  {
   "cell_type": "markdown",
   "metadata": {},
   "source": [
    "but careful!"
   ]
  },
  {
   "cell_type": "code",
   "execution_count": null,
   "metadata": {},
   "outputs": [],
   "source": [
    "alpha.first"
   ]
  },
  {
   "cell_type": "markdown",
   "metadata": {},
   "source": [
    "There are two ways how to properly index rows & cells in the DataFrame:\n",
    "\n",
    "- `loc` for label-based indexing\n",
    "- `iloc` for order-based indexing (it does not use the **index** at all)\n",
    "\n",
    "Note the square brackets. The mentioned attributes actually are not methods\n",
    "but special \"indexer\" objects. They accept one or two arguments specifying\n",
    "the position along one or both axes."
   ]
  },
  {
   "cell_type": "markdown",
   "metadata": {},
   "source": [
    "**Exercise:** Create `DataFrame` whose `x`-column is $0, \\frac{1}{4}\\pi, \\frac{1}{2}pi, .. 2\\pi $, `y` column is `cos(x)` and index are `fractions` `0, 1/4, 1/2 ... 2`"
   ]
  },
  {
   "cell_type": "code",
   "execution_count": null,
   "metadata": {},
   "outputs": [],
   "source": [
    "%exercise\n",
    "\n",
    "import fractions\n",
    "\n",
    "# index = [fractions.Fraction(n, ___) for n in range(___)]\n",
    "# x = np.___([___ for ___ in ___])\n",
    "# y = ___\n",
    "\n",
    "# df = pd.DataFrame(___, index = ___)\n",
    "\n",
    "index = [fractions.Fraction(n, 4) for n in range(9)]\n",
    "x = np.array([np.pi * i for i in index])\n",
    "y = np.cos(x)\n",
    "df = pd.DataFrame({\"x\": x, \"y\": y}, index = index)\n",
    "\n",
    "# display\n",
    "df"
   ]
  },
  {
   "cell_type": "code",
   "execution_count": null,
   "metadata": {},
   "outputs": [],
   "source": [
    "%validate\n",
    "\n",
    "np.allclose(df.loc[fractions.Fraction(3, 2)], [fractions.Fraction(3, 2) * np.pi, 0])"
   ]
  },
  {
   "cell_type": "markdown",
   "metadata": {},
   "source": [
    "#### loc\n"
   ]
  },
  {
   "cell_type": "code",
   "execution_count": null,
   "metadata": {},
   "outputs": [],
   "source": [
    "first = table_df.loc[\"first\"]\n",
    "first"
   ]
  },
  {
   "cell_type": "code",
   "execution_count": null,
   "metadata": {},
   "outputs": [],
   "source": [
    "table_df.loc[\"first\", \"beta\"]            "
   ]
  },
  {
   "cell_type": "code",
   "execution_count": null,
   "metadata": {},
   "outputs": [],
   "source": [
    "table_df.loc[\"first\":\"second\", \"beta\"]   # Use ranges (inclusive)"
   ]
  },
  {
   "cell_type": "markdown",
   "metadata": {},
   "source": [
    "#### iloc"
   ]
  },
  {
   "cell_type": "code",
   "execution_count": null,
   "metadata": {},
   "outputs": [],
   "source": [
    "table_df.iloc[1]"
   ]
  },
  {
   "cell_type": "code",
   "execution_count": null,
   "metadata": {},
   "outputs": [],
   "source": [
    "table_df.iloc[0:4:2]   # Select every second row"
   ]
  },
  {
   "cell_type": "code",
   "execution_count": null,
   "metadata": {},
   "outputs": [],
   "source": [
    "table_df.at[\"first\", \"beta\"]"
   ]
  },
  {
   "cell_type": "code",
   "execution_count": null,
   "metadata": {},
   "outputs": [],
   "source": [
    "type(table_df.at)"
   ]
  },
  {
   "cell_type": "markdown",
   "metadata": {},
   "source": [
    "## Modifying DataFrames\n",
    "\n",
    "Adding a new column is like assigning to adding a key/value pair to a dict.\n",
    "Note that the operation, unlike most others, does modify the DataFrame."
   ]
  },
  {
   "cell_type": "code",
   "execution_count": null,
   "metadata": {},
   "outputs": [],
   "source": [
    "from datetime import datetime\n",
    "table_df[\"now\"] = datetime.now()\n",
    "table_df"
   ]
  },
  {
   "cell_type": "markdown",
   "metadata": {},
   "source": [
    "Non-destructive version that returns a new DataFrame, uses the `assign` method:"
   ]
  },
  {
   "cell_type": "code",
   "execution_count": null,
   "metadata": {},
   "outputs": [],
   "source": [
    "table_df.assign(delta = [True, False, True])"
   ]
  },
  {
   "cell_type": "code",
   "execution_count": null,
   "metadata": {},
   "outputs": [],
   "source": [
    "# However, the original DataFrame is not changed\n",
    "table_df"
   ]
  },
  {
   "cell_type": "markdown",
   "metadata": {},
   "source": [
    "Deleting a column is very easy too."
   ]
  },
  {
   "cell_type": "code",
   "execution_count": null,
   "metadata": {},
   "outputs": [],
   "source": [
    "del table_df[\"now\"]\n",
    "table_df"
   ]
  },
  {
   "cell_type": "markdown",
   "metadata": {},
   "source": [
    "The **drop** method works with both rows and columns"
   ]
  },
  {
   "cell_type": "code",
   "execution_count": null,
   "metadata": {},
   "outputs": [],
   "source": [
    "table_df.drop(\"beta\", axis=1)"
   ]
  },
  {
   "cell_type": "code",
   "execution_count": null,
   "metadata": {},
   "outputs": [],
   "source": [
    "table_df.drop(\"second\", axis=0)"
   ]
  },
  {
   "cell_type": "markdown",
   "metadata": {},
   "source": [
    "**Exercise:** Use a combination of `reset_index`, `drop` and `set_index` to transform `table_df` into `pd.DataFrame({'index': table_df.index}, index=table_df[\"alpha\"])`"
   ]
  },
  {
   "cell_type": "code",
   "execution_count": null,
   "metadata": {},
   "outputs": [],
   "source": [
    "%exercise\n",
    "\n",
    "# results = table_df.___.___.___\n",
    "\n",
    "result = table_df.reset_index().drop(columns=['beta']).set_index('alpha')\n",
    "\n",
    "result"
   ]
  },
  {
   "cell_type": "code",
   "execution_count": null,
   "metadata": {},
   "outputs": [],
   "source": [
    "%validate\n",
    "\n",
    "pd.testing.assert_frame_equal(result, pd.DataFrame({'index': table_df.index}, index=table_df[\"alpha\"]))"
   ]
  },
  {
   "cell_type": "markdown",
   "metadata": {},
   "source": [
    "---\n",
    "**Let's get some data!**"
   ]
  }
 ],
 "metadata": {
  "kernelspec": {
   "display_name": "Python 3",
   "language": "python",
   "name": "python3"
  },
  "language_info": {
   "codemirror_mode": {
    "name": "ipython",
    "version": 3
   },
   "file_extension": ".py",
   "mimetype": "text/x-python",
   "name": "python",
   "nbconvert_exporter": "python",
   "pygments_lexer": "ipython3",
   "version": "3.7.3"
  }
 },
 "nbformat": 4,
 "nbformat_minor": 2
}
