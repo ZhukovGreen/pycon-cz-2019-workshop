{
 "cells": [
  {
   "cell_type": "markdown",
   "metadata": {},
   "source": [
    "# Pandas - Merging, grouping, aggregation and complex relationships"
   ]
  },
  {
   "cell_type": "code",
   "execution_count": 1,
   "metadata": {},
   "outputs": [],
   "source": [
    "# Necesssary import evil\n",
    "\n",
    "import jupy_helpers\n",
    "import pandas as pd\n",
    "import numpy as np\n",
    "from IPython.display import display, HTML, IFrame\n",
    "\n",
    "np.random.seed(42)"
   ]
  },
  {
   "cell_type": "code",
   "execution_count": 2,
   "metadata": {},
   "outputs": [],
   "source": [
    "%matplotlib inline  \n",
    "# This will enable us to see plots embedded in the noteboo"
   ]
  },
  {
   "cell_type": "code",
   "execution_count": 3,
   "metadata": {},
   "outputs": [
    {
     "data": {
      "text/html": [
       "<style>.container { width:95% !important; }</style>"
      ],
      "text/plain": [
       "<IPython.core.display.HTML object>"
      ]
     },
     "metadata": {},
     "output_type": "display_data"
    }
   ],
   "source": [
    "   # make the cells wide\n",
    "display(HTML(\"<style>.container { width:95% !important; }</style>\"))"
   ]
  },
  {
   "cell_type": "code",
   "execution_count": 4,
   "metadata": {},
   "outputs": [],
   "source": [
    "con = 'sqlite:///./workshop_data.sqlite'"
   ]
  },
  {
   "cell_type": "code",
   "execution_count": 5,
   "metadata": {},
   "outputs": [],
   "source": [
    "# Read the data that we stored in the previous examples\n",
    "imdb_titles = pd.read_sql('imdb_titles', con)\n",
    "imdb_ratings = pd.read_sql('imdb_ratings', con)\n",
    "boxoffice = pd.read_sql('boxoffice', con)\n",
    "rotten_tomatoes = pd.read_sql(\"rotten_tomatoes\", con)"
   ]
  },
  {
   "cell_type": "code",
   "execution_count": 6,
   "metadata": {},
   "outputs": [],
   "source": [
    "# alternative for Binder\n",
    "\n",
    "# imdb_titles = pd.read_csv('../data/title.basics.tsv.gz', sep='\\t', na_values=\"\\\\N\"),\n",
    "# imdb_ratings = pd.read_csv('../data/title.ratings.tsv.gz', sep='\\t', na_values=\"\\\\N\"),\n",
    "# boxoffice = pd.read_csv('../data/boxoffice_march_2019.csv.gz'),\n",
    "# rotten_tomatoes = pd.read_csv(\"../data/rotten_tomatoes_top_movies_2019-01-15.csv\"),\n",
    "# awards = pd.read_sql(\"awards\", con='sqlite:///../data/awards.sqlite')"
   ]
  },
  {
   "cell_type": "code",
   "execution_count": 7,
   "metadata": {},
   "outputs": [],
   "source": [
    "# Repeat the operations from the previous notebook for a clean start\n",
    "imdb_titles[\"title_type\"] = imdb_titles.titleType.astype(\"category\")\n",
    "imdb_titles.loc[imdb_titles.isAdult > 1, 'isAdult'] = 0\n",
    "imdb_titles = imdb_titles.dropna(subset=[\"startYear\"])\n",
    "imdb_titles[\"runtimeMinutes\"] = pd.to_numeric(imdb_titles.runtimeMinutes, errors=\"coerce\").astype(\"Int64\")\n",
    "movie_titles = imdb_titles[imdb_titles.titleType.isin([\"movie\", \"tvMovie\"])]\n",
    "movie_titles = movie_titles.drop(columns=[\"titleType\", \"endYear\"]).dropna()"
   ]
  },
  {
   "cell_type": "markdown",
   "metadata": {},
   "source": [
    "## Merging data\n",
    "\n",
    "We would like to attach ratings to the movies data set. \n",
    "Let's merge (join) the two two IMDB data sets. That's quite simple becase they share the `tconst` columns."
   ]
  },
  {
   "cell_type": "markdown",
   "metadata": {},
   "source": [
    "### Simple merging - IMDB ratings"
   ]
  },
  {
   "cell_type": "code",
   "execution_count": 8,
   "metadata": {
    "scrolled": true
   },
   "outputs": [
    {
     "data": {
      "text/html": [
       "<div>\n",
       "<style scoped>\n",
       "    .dataframe tbody tr th:only-of-type {\n",
       "        vertical-align: middle;\n",
       "    }\n",
       "\n",
       "    .dataframe tbody tr th {\n",
       "        vertical-align: top;\n",
       "    }\n",
       "\n",
       "    .dataframe thead th {\n",
       "        text-align: right;\n",
       "    }\n",
       "</style>\n",
       "<table border=\"1\" class=\"dataframe\">\n",
       "  <thead>\n",
       "    <tr style=\"text-align: right;\">\n",
       "      <th></th>\n",
       "      <th>tconst</th>\n",
       "      <th>averageRating</th>\n",
       "      <th>numVotes</th>\n",
       "    </tr>\n",
       "  </thead>\n",
       "  <tbody>\n",
       "    <tr>\n",
       "      <th>881062</th>\n",
       "      <td>tt7650288</td>\n",
       "      <td>7.1</td>\n",
       "      <td>16</td>\n",
       "    </tr>\n",
       "    <tr>\n",
       "      <th>115012</th>\n",
       "      <td>tt0177855</td>\n",
       "      <td>7.8</td>\n",
       "      <td>10</td>\n",
       "    </tr>\n",
       "    <tr>\n",
       "      <th>868149</th>\n",
       "      <td>tt7243750</td>\n",
       "      <td>5.7</td>\n",
       "      <td>266</td>\n",
       "    </tr>\n",
       "    <tr>\n",
       "      <th>896608</th>\n",
       "      <td>tt8214814</td>\n",
       "      <td>8.2</td>\n",
       "      <td>302</td>\n",
       "    </tr>\n",
       "    <tr>\n",
       "      <th>505788</th>\n",
       "      <td>tt1495071</td>\n",
       "      <td>7.7</td>\n",
       "      <td>7</td>\n",
       "    </tr>\n",
       "    <tr>\n",
       "      <th>250602</th>\n",
       "      <td>tt0502182</td>\n",
       "      <td>8.5</td>\n",
       "      <td>1111</td>\n",
       "    </tr>\n",
       "    <tr>\n",
       "      <th>903639</th>\n",
       "      <td>tt8514704</td>\n",
       "      <td>7.5</td>\n",
       "      <td>39</td>\n",
       "    </tr>\n",
       "    <tr>\n",
       "      <th>627530</th>\n",
       "      <td>tt2377572</td>\n",
       "      <td>7.8</td>\n",
       "      <td>6</td>\n",
       "    </tr>\n",
       "    <tr>\n",
       "      <th>640206</th>\n",
       "      <td>tt2540152</td>\n",
       "      <td>8.8</td>\n",
       "      <td>24</td>\n",
       "    </tr>\n",
       "    <tr>\n",
       "      <th>791318</th>\n",
       "      <td>tt5460384</td>\n",
       "      <td>5.0</td>\n",
       "      <td>52</td>\n",
       "    </tr>\n",
       "  </tbody>\n",
       "</table>\n",
       "</div>"
      ],
      "text/plain": [
       "           tconst  averageRating  numVotes\n",
       "881062  tt7650288            7.1        16\n",
       "115012  tt0177855            7.8        10\n",
       "868149  tt7243750            5.7       266\n",
       "896608  tt8214814            8.2       302\n",
       "505788  tt1495071            7.7         7\n",
       "250602  tt0502182            8.5      1111\n",
       "903639  tt8514704            7.5        39\n",
       "627530  tt2377572            7.8         6\n",
       "640206  tt2540152            8.8        24\n",
       "791318  tt5460384            5.0        52"
      ]
     },
     "execution_count": 8,
     "metadata": {},
     "output_type": "execute_result"
    }
   ],
   "source": [
    "imdb_ratings.sample(10)"
   ]
  },
  {
   "cell_type": "markdown",
   "metadata": {},
   "source": [
    "Luckily, the datasets have a common column (tconst) and can be merged easily:"
   ]
  },
  {
   "cell_type": "code",
   "execution_count": 9,
   "metadata": {},
   "outputs": [],
   "source": [
    "movies_rated = movie_titles.merge(imdb_ratings, on='tconst', how='inner')"
   ]
  },
  {
   "cell_type": "code",
   "execution_count": 11,
   "metadata": {},
   "outputs": [
    {
     "data": {
      "text/html": [
       "<div>\n",
       "<style scoped>\n",
       "    .dataframe tbody tr th:only-of-type {\n",
       "        vertical-align: middle;\n",
       "    }\n",
       "\n",
       "    .dataframe tbody tr th {\n",
       "        vertical-align: top;\n",
       "    }\n",
       "\n",
       "    .dataframe thead th {\n",
       "        text-align: right;\n",
       "    }\n",
       "</style>\n",
       "<table border=\"1\" class=\"dataframe\">\n",
       "  <thead>\n",
       "    <tr style=\"text-align: right;\">\n",
       "      <th></th>\n",
       "      <th>tconst</th>\n",
       "      <th>primaryTitle</th>\n",
       "      <th>originalTitle</th>\n",
       "      <th>isAdult</th>\n",
       "      <th>startYear</th>\n",
       "      <th>runtimeMinutes</th>\n",
       "      <th>genres</th>\n",
       "      <th>title_type</th>\n",
       "      <th>averageRating</th>\n",
       "      <th>numVotes</th>\n",
       "    </tr>\n",
       "  </thead>\n",
       "  <tbody>\n",
       "    <tr>\n",
       "      <th>0</th>\n",
       "      <td>tt0000009</td>\n",
       "      <td>Miss Jerry</td>\n",
       "      <td>Miss Jerry</td>\n",
       "      <td>0</td>\n",
       "      <td>1894.0</td>\n",
       "      <td>45</td>\n",
       "      <td>Romance</td>\n",
       "      <td>movie</td>\n",
       "      <td>5.5</td>\n",
       "      <td>77</td>\n",
       "    </tr>\n",
       "    <tr>\n",
       "      <th>1</th>\n",
       "      <td>tt0000147</td>\n",
       "      <td>The Corbett-Fitzsimmons Fight</td>\n",
       "      <td>The Corbett-Fitzsimmons Fight</td>\n",
       "      <td>0</td>\n",
       "      <td>1897.0</td>\n",
       "      <td>20</td>\n",
       "      <td>Documentary,News,Sport</td>\n",
       "      <td>movie</td>\n",
       "      <td>5.2</td>\n",
       "      <td>289</td>\n",
       "    </tr>\n",
       "    <tr>\n",
       "      <th>2</th>\n",
       "      <td>tt0000574</td>\n",
       "      <td>The Story of the Kelly Gang</td>\n",
       "      <td>The Story of the Kelly Gang</td>\n",
       "      <td>0</td>\n",
       "      <td>1906.0</td>\n",
       "      <td>70</td>\n",
       "      <td>Biography,Crime,Drama</td>\n",
       "      <td>movie</td>\n",
       "      <td>6.2</td>\n",
       "      <td>505</td>\n",
       "    </tr>\n",
       "    <tr>\n",
       "      <th>3</th>\n",
       "      <td>tt0000679</td>\n",
       "      <td>The Fairylogue and Radio-Plays</td>\n",
       "      <td>The Fairylogue and Radio-Plays</td>\n",
       "      <td>0</td>\n",
       "      <td>1908.0</td>\n",
       "      <td>120</td>\n",
       "      <td>Adventure,Fantasy</td>\n",
       "      <td>movie</td>\n",
       "      <td>4.8</td>\n",
       "      <td>33</td>\n",
       "    </tr>\n",
       "    <tr>\n",
       "      <th>4</th>\n",
       "      <td>tt0001184</td>\n",
       "      <td>Don Juan de Serrallonga</td>\n",
       "      <td>Don Juan de Serrallonga</td>\n",
       "      <td>0</td>\n",
       "      <td>1910.0</td>\n",
       "      <td>58</td>\n",
       "      <td>Adventure,Drama</td>\n",
       "      <td>movie</td>\n",
       "      <td>3.1</td>\n",
       "      <td>10</td>\n",
       "    </tr>\n",
       "    <tr>\n",
       "      <th>5</th>\n",
       "      <td>tt0001258</td>\n",
       "      <td>The White Slave Trade</td>\n",
       "      <td>Den hvide slavehandel</td>\n",
       "      <td>0</td>\n",
       "      <td>1910.0</td>\n",
       "      <td>45</td>\n",
       "      <td>Drama</td>\n",
       "      <td>movie</td>\n",
       "      <td>5.7</td>\n",
       "      <td>68</td>\n",
       "    </tr>\n",
       "    <tr>\n",
       "      <th>6</th>\n",
       "      <td>tt0001790</td>\n",
       "      <td>Les Misérables, Part 1: Jean Valjean</td>\n",
       "      <td>Les misérables - Époque 1: Jean Valjean</td>\n",
       "      <td>0</td>\n",
       "      <td>1913.0</td>\n",
       "      <td>60</td>\n",
       "      <td>Drama</td>\n",
       "      <td>movie</td>\n",
       "      <td>5.7</td>\n",
       "      <td>22</td>\n",
       "    </tr>\n",
       "    <tr>\n",
       "      <th>7</th>\n",
       "      <td>tt0001892</td>\n",
       "      <td>Den sorte drøm</td>\n",
       "      <td>Den sorte drøm</td>\n",
       "      <td>0</td>\n",
       "      <td>1911.0</td>\n",
       "      <td>53</td>\n",
       "      <td>Drama</td>\n",
       "      <td>movie</td>\n",
       "      <td>6.1</td>\n",
       "      <td>163</td>\n",
       "    </tr>\n",
       "    <tr>\n",
       "      <th>8</th>\n",
       "      <td>tt0001911</td>\n",
       "      <td>Nell Gwynne</td>\n",
       "      <td>Sweet Nell of Old Drury</td>\n",
       "      <td>0</td>\n",
       "      <td>1911.0</td>\n",
       "      <td>50</td>\n",
       "      <td>Biography,Drama,History</td>\n",
       "      <td>movie</td>\n",
       "      <td>4.2</td>\n",
       "      <td>8</td>\n",
       "    </tr>\n",
       "    <tr>\n",
       "      <th>9</th>\n",
       "      <td>tt0001964</td>\n",
       "      <td>The Traitress</td>\n",
       "      <td>Die Verräterin</td>\n",
       "      <td>0</td>\n",
       "      <td>1911.0</td>\n",
       "      <td>48</td>\n",
       "      <td>Drama</td>\n",
       "      <td>movie</td>\n",
       "      <td>6.2</td>\n",
       "      <td>45</td>\n",
       "    </tr>\n",
       "  </tbody>\n",
       "</table>\n",
       "</div>"
      ],
      "text/plain": [
       "      tconst                          primaryTitle  \\\n",
       "0  tt0000009                            Miss Jerry   \n",
       "1  tt0000147         The Corbett-Fitzsimmons Fight   \n",
       "2  tt0000574           The Story of the Kelly Gang   \n",
       "3  tt0000679        The Fairylogue and Radio-Plays   \n",
       "4  tt0001184               Don Juan de Serrallonga   \n",
       "5  tt0001258                 The White Slave Trade   \n",
       "6  tt0001790  Les Misérables, Part 1: Jean Valjean   \n",
       "7  tt0001892                        Den sorte drøm   \n",
       "8  tt0001911                           Nell Gwynne   \n",
       "9  tt0001964                         The Traitress   \n",
       "\n",
       "                             originalTitle  isAdult  startYear  \\\n",
       "0                               Miss Jerry        0     1894.0   \n",
       "1            The Corbett-Fitzsimmons Fight        0     1897.0   \n",
       "2              The Story of the Kelly Gang        0     1906.0   \n",
       "3           The Fairylogue and Radio-Plays        0     1908.0   \n",
       "4                  Don Juan de Serrallonga        0     1910.0   \n",
       "5                    Den hvide slavehandel        0     1910.0   \n",
       "6  Les misérables - Époque 1: Jean Valjean        0     1913.0   \n",
       "7                           Den sorte drøm        0     1911.0   \n",
       "8                  Sweet Nell of Old Drury        0     1911.0   \n",
       "9                           Die Verräterin        0     1911.0   \n",
       "\n",
       "   runtimeMinutes                   genres title_type  averageRating  numVotes  \n",
       "0              45                  Romance      movie            5.5        77  \n",
       "1              20   Documentary,News,Sport      movie            5.2       289  \n",
       "2              70    Biography,Crime,Drama      movie            6.2       505  \n",
       "3             120        Adventure,Fantasy      movie            4.8        33  \n",
       "4              58          Adventure,Drama      movie            3.1        10  \n",
       "5              45                    Drama      movie            5.7        68  \n",
       "6              60                    Drama      movie            5.7        22  \n",
       "7              53                    Drama      movie            6.1       163  \n",
       "8              50  Biography,Drama,History      movie            4.2         8  \n",
       "9              48                    Drama      movie            6.2        45  "
      ]
     },
     "execution_count": 11,
     "metadata": {},
     "output_type": "execute_result"
    }
   ],
   "source": [
    "movies_rated.head(10)"
   ]
  },
  {
   "cell_type": "code",
   "execution_count": 12,
   "metadata": {},
   "outputs": [
    {
     "data": {
      "text/html": [
       "<div>\n",
       "<style scoped>\n",
       "    .dataframe tbody tr th:only-of-type {\n",
       "        vertical-align: middle;\n",
       "    }\n",
       "\n",
       "    .dataframe tbody tr th {\n",
       "        vertical-align: top;\n",
       "    }\n",
       "\n",
       "    .dataframe thead th {\n",
       "        text-align: right;\n",
       "    }\n",
       "</style>\n",
       "<table border=\"1\" class=\"dataframe\">\n",
       "  <thead>\n",
       "    <tr style=\"text-align: right;\">\n",
       "      <th></th>\n",
       "      <th>primaryTitle</th>\n",
       "      <th>originalTitle</th>\n",
       "      <th>isAdult</th>\n",
       "      <th>startYear</th>\n",
       "      <th>runtimeMinutes</th>\n",
       "      <th>genres</th>\n",
       "      <th>title_type</th>\n",
       "      <th>averageRating</th>\n",
       "      <th>numVotes</th>\n",
       "    </tr>\n",
       "    <tr>\n",
       "      <th>tconst</th>\n",
       "      <th></th>\n",
       "      <th></th>\n",
       "      <th></th>\n",
       "      <th></th>\n",
       "      <th></th>\n",
       "      <th></th>\n",
       "      <th></th>\n",
       "      <th></th>\n",
       "      <th></th>\n",
       "    </tr>\n",
       "  </thead>\n",
       "  <tbody>\n",
       "    <tr>\n",
       "      <th>tt0000009</th>\n",
       "      <td>Miss Jerry</td>\n",
       "      <td>Miss Jerry</td>\n",
       "      <td>0</td>\n",
       "      <td>1894.0</td>\n",
       "      <td>45</td>\n",
       "      <td>Romance</td>\n",
       "      <td>movie</td>\n",
       "      <td>5.5</td>\n",
       "      <td>77.0</td>\n",
       "    </tr>\n",
       "    <tr>\n",
       "      <th>tt0000147</th>\n",
       "      <td>The Corbett-Fitzsimmons Fight</td>\n",
       "      <td>The Corbett-Fitzsimmons Fight</td>\n",
       "      <td>0</td>\n",
       "      <td>1897.0</td>\n",
       "      <td>20</td>\n",
       "      <td>Documentary,News,Sport</td>\n",
       "      <td>movie</td>\n",
       "      <td>5.2</td>\n",
       "      <td>289.0</td>\n",
       "    </tr>\n",
       "    <tr>\n",
       "      <th>tt0000574</th>\n",
       "      <td>The Story of the Kelly Gang</td>\n",
       "      <td>The Story of the Kelly Gang</td>\n",
       "      <td>0</td>\n",
       "      <td>1906.0</td>\n",
       "      <td>70</td>\n",
       "      <td>Biography,Crime,Drama</td>\n",
       "      <td>movie</td>\n",
       "      <td>6.2</td>\n",
       "      <td>505.0</td>\n",
       "    </tr>\n",
       "    <tr>\n",
       "      <th>tt0000679</th>\n",
       "      <td>The Fairylogue and Radio-Plays</td>\n",
       "      <td>The Fairylogue and Radio-Plays</td>\n",
       "      <td>0</td>\n",
       "      <td>1908.0</td>\n",
       "      <td>120</td>\n",
       "      <td>Adventure,Fantasy</td>\n",
       "      <td>movie</td>\n",
       "      <td>4.8</td>\n",
       "      <td>33.0</td>\n",
       "    </tr>\n",
       "    <tr>\n",
       "      <th>tt0001184</th>\n",
       "      <td>Don Juan de Serrallonga</td>\n",
       "      <td>Don Juan de Serrallonga</td>\n",
       "      <td>0</td>\n",
       "      <td>1910.0</td>\n",
       "      <td>58</td>\n",
       "      <td>Adventure,Drama</td>\n",
       "      <td>movie</td>\n",
       "      <td>3.1</td>\n",
       "      <td>10.0</td>\n",
       "    </tr>\n",
       "    <tr>\n",
       "      <th>tt0001258</th>\n",
       "      <td>The White Slave Trade</td>\n",
       "      <td>Den hvide slavehandel</td>\n",
       "      <td>0</td>\n",
       "      <td>1910.0</td>\n",
       "      <td>45</td>\n",
       "      <td>Drama</td>\n",
       "      <td>movie</td>\n",
       "      <td>5.7</td>\n",
       "      <td>68.0</td>\n",
       "    </tr>\n",
       "    <tr>\n",
       "      <th>tt0001498</th>\n",
       "      <td>The Battle of Trafalgar</td>\n",
       "      <td>The Battle of Trafalgar</td>\n",
       "      <td>0</td>\n",
       "      <td>1911.0</td>\n",
       "      <td>51</td>\n",
       "      <td>War</td>\n",
       "      <td>movie</td>\n",
       "      <td>NaN</td>\n",
       "      <td>NaN</td>\n",
       "    </tr>\n",
       "    <tr>\n",
       "      <th>tt0001790</th>\n",
       "      <td>Les Misérables, Part 1: Jean Valjean</td>\n",
       "      <td>Les misérables - Époque 1: Jean Valjean</td>\n",
       "      <td>0</td>\n",
       "      <td>1913.0</td>\n",
       "      <td>60</td>\n",
       "      <td>Drama</td>\n",
       "      <td>movie</td>\n",
       "      <td>5.7</td>\n",
       "      <td>22.0</td>\n",
       "    </tr>\n",
       "    <tr>\n",
       "      <th>tt0001812</th>\n",
       "      <td>Oedipus Rex</td>\n",
       "      <td>Oedipus Rex</td>\n",
       "      <td>0</td>\n",
       "      <td>1911.0</td>\n",
       "      <td>56</td>\n",
       "      <td>Drama</td>\n",
       "      <td>movie</td>\n",
       "      <td>NaN</td>\n",
       "      <td>NaN</td>\n",
       "    </tr>\n",
       "    <tr>\n",
       "      <th>tt0001892</th>\n",
       "      <td>Den sorte drøm</td>\n",
       "      <td>Den sorte drøm</td>\n",
       "      <td>0</td>\n",
       "      <td>1911.0</td>\n",
       "      <td>53</td>\n",
       "      <td>Drama</td>\n",
       "      <td>movie</td>\n",
       "      <td>6.1</td>\n",
       "      <td>163.0</td>\n",
       "    </tr>\n",
       "  </tbody>\n",
       "</table>\n",
       "</div>"
      ],
      "text/plain": [
       "                                   primaryTitle  \\\n",
       "tconst                                            \n",
       "tt0000009                            Miss Jerry   \n",
       "tt0000147         The Corbett-Fitzsimmons Fight   \n",
       "tt0000574           The Story of the Kelly Gang   \n",
       "tt0000679        The Fairylogue and Radio-Plays   \n",
       "tt0001184               Don Juan de Serrallonga   \n",
       "tt0001258                 The White Slave Trade   \n",
       "tt0001498               The Battle of Trafalgar   \n",
       "tt0001790  Les Misérables, Part 1: Jean Valjean   \n",
       "tt0001812                           Oedipus Rex   \n",
       "tt0001892                        Den sorte drøm   \n",
       "\n",
       "                                     originalTitle  isAdult  startYear  \\\n",
       "tconst                                                                   \n",
       "tt0000009                               Miss Jerry        0     1894.0   \n",
       "tt0000147            The Corbett-Fitzsimmons Fight        0     1897.0   \n",
       "tt0000574              The Story of the Kelly Gang        0     1906.0   \n",
       "tt0000679           The Fairylogue and Radio-Plays        0     1908.0   \n",
       "tt0001184                  Don Juan de Serrallonga        0     1910.0   \n",
       "tt0001258                    Den hvide slavehandel        0     1910.0   \n",
       "tt0001498                  The Battle of Trafalgar        0     1911.0   \n",
       "tt0001790  Les misérables - Époque 1: Jean Valjean        0     1913.0   \n",
       "tt0001812                              Oedipus Rex        0     1911.0   \n",
       "tt0001892                           Den sorte drøm        0     1911.0   \n",
       "\n",
       "           runtimeMinutes                  genres title_type  averageRating  \\\n",
       "tconst                                                                        \n",
       "tt0000009              45                 Romance      movie            5.5   \n",
       "tt0000147              20  Documentary,News,Sport      movie            5.2   \n",
       "tt0000574              70   Biography,Crime,Drama      movie            6.2   \n",
       "tt0000679             120       Adventure,Fantasy      movie            4.8   \n",
       "tt0001184              58         Adventure,Drama      movie            3.1   \n",
       "tt0001258              45                   Drama      movie            5.7   \n",
       "tt0001498              51                     War      movie            NaN   \n",
       "tt0001790              60                   Drama      movie            5.7   \n",
       "tt0001812              56                   Drama      movie            NaN   \n",
       "tt0001892              53                   Drama      movie            6.1   \n",
       "\n",
       "           numVotes  \n",
       "tconst               \n",
       "tt0000009      77.0  \n",
       "tt0000147     289.0  \n",
       "tt0000574     505.0  \n",
       "tt0000679      33.0  \n",
       "tt0001184      10.0  \n",
       "tt0001258      68.0  \n",
       "tt0001498       NaN  \n",
       "tt0001790      22.0  \n",
       "tt0001812       NaN  \n",
       "tt0001892     163.0  "
      ]
     },
     "execution_count": 12,
     "metadata": {},
     "output_type": "execute_result"
    }
   ],
   "source": [
    "# Alternative (based on automatic index matching)\n",
    "movie_titles.set_index(\"tconst\").join(imdb_ratings.set_index(\"tconst\")).head(10)"
   ]
  },
  {
   "cell_type": "markdown",
   "metadata": {},
   "source": [
    "### Advanced merging"
   ]
  },
  {
   "cell_type": "markdown",
   "metadata": {},
   "source": [
    "Then we have two more data sets to merge: `rotten_tomatoes` and `boxoffice`. "
   ]
  },
  {
   "cell_type": "code",
   "execution_count": 13,
   "metadata": {},
   "outputs": [
    {
     "data": {
      "text/html": [
       "<div>\n",
       "<style scoped>\n",
       "    .dataframe tbody tr th:only-of-type {\n",
       "        vertical-align: middle;\n",
       "    }\n",
       "\n",
       "    .dataframe tbody tr th {\n",
       "        vertical-align: top;\n",
       "    }\n",
       "\n",
       "    .dataframe thead th {\n",
       "        text-align: right;\n",
       "    }\n",
       "</style>\n",
       "<table border=\"1\" class=\"dataframe\">\n",
       "  <thead>\n",
       "    <tr style=\"text-align: right;\">\n",
       "      <th></th>\n",
       "      <th>Rank</th>\n",
       "      <th>Title</th>\n",
       "      <th>RatingTomatometer</th>\n",
       "      <th>No. of Reviews</th>\n",
       "      <th>Genres</th>\n",
       "    </tr>\n",
       "  </thead>\n",
       "  <tbody>\n",
       "    <tr>\n",
       "      <th>116</th>\n",
       "      <td>17</td>\n",
       "      <td>Kubo and the Two Strings (2016)</td>\n",
       "      <td>97</td>\n",
       "      <td>207</td>\n",
       "      <td>animation</td>\n",
       "    </tr>\n",
       "    <tr>\n",
       "      <th>775</th>\n",
       "      <td>76</td>\n",
       "      <td>Gerald's Game (2017)</td>\n",
       "      <td>90</td>\n",
       "      <td>69</td>\n",
       "      <td>horror</td>\n",
       "    </tr>\n",
       "    <tr>\n",
       "      <th>1342</th>\n",
       "      <td>43</td>\n",
       "      <td>Sicko (2007)</td>\n",
       "      <td>92</td>\n",
       "      <td>216</td>\n",
       "      <td>special_interest</td>\n",
       "    </tr>\n",
       "    <tr>\n",
       "      <th>990</th>\n",
       "      <td>91</td>\n",
       "      <td>Chicago (2002)</td>\n",
       "      <td>85</td>\n",
       "      <td>252</td>\n",
       "      <td>musical|performing_arts</td>\n",
       "    </tr>\n",
       "    <tr>\n",
       "      <th>1527</th>\n",
       "      <td>12</td>\n",
       "      <td>Johnny Guitar (1954)</td>\n",
       "      <td>95</td>\n",
       "      <td>44</td>\n",
       "      <td>western</td>\n",
       "    </tr>\n",
       "  </tbody>\n",
       "</table>\n",
       "</div>"
      ],
      "text/plain": [
       "      Rank                            Title  RatingTomatometer  \\\n",
       "116     17  Kubo and the Two Strings (2016)                 97   \n",
       "775     76             Gerald's Game (2017)                 90   \n",
       "1342    43                     Sicko (2007)                 92   \n",
       "990     91                   Chicago (2002)                 85   \n",
       "1527    12             Johnny Guitar (1954)                 95   \n",
       "\n",
       "      No. of Reviews                   Genres  \n",
       "116              207                animation  \n",
       "775               69                   horror  \n",
       "1342             216         special_interest  \n",
       "990              252  musical|performing_arts  \n",
       "1527              44                  western  "
      ]
     },
     "execution_count": 13,
     "metadata": {},
     "output_type": "execute_result"
    }
   ],
   "source": [
    "rotten_tomatoes.sample(5)"
   ]
  },
  {
   "cell_type": "code",
   "execution_count": 14,
   "metadata": {},
   "outputs": [
    {
     "data": {
      "text/html": [
       "<div>\n",
       "<style scoped>\n",
       "    .dataframe tbody tr th:only-of-type {\n",
       "        vertical-align: middle;\n",
       "    }\n",
       "\n",
       "    .dataframe tbody tr th {\n",
       "        vertical-align: top;\n",
       "    }\n",
       "\n",
       "    .dataframe thead th {\n",
       "        text-align: right;\n",
       "    }\n",
       "</style>\n",
       "<table border=\"1\" class=\"dataframe\">\n",
       "  <thead>\n",
       "    <tr style=\"text-align: right;\">\n",
       "      <th></th>\n",
       "      <th>rank</th>\n",
       "      <th>title</th>\n",
       "      <th>studio</th>\n",
       "      <th>lifetime_gross</th>\n",
       "      <th>year</th>\n",
       "    </tr>\n",
       "  </thead>\n",
       "  <tbody>\n",
       "    <tr>\n",
       "      <th>13782</th>\n",
       "      <td>13783</td>\n",
       "      <td>L'Iceberg</td>\n",
       "      <td>FRun</td>\n",
       "      <td>19789</td>\n",
       "      <td>2007</td>\n",
       "    </tr>\n",
       "    <tr>\n",
       "      <th>10458</th>\n",
       "      <td>10459</td>\n",
       "      <td>Hybrid</td>\n",
       "      <td>Indic.</td>\n",
       "      <td>164386</td>\n",
       "      <td>2002</td>\n",
       "    </tr>\n",
       "    <tr>\n",
       "      <th>14686</th>\n",
       "      <td>14687</td>\n",
       "      <td>Approaching the Unknown</td>\n",
       "      <td>INDEP</td>\n",
       "      <td>10232</td>\n",
       "      <td>2016</td>\n",
       "    </tr>\n",
       "    <tr>\n",
       "      <th>7553</th>\n",
       "      <td>7554</td>\n",
       "      <td>Beautifully Broken</td>\n",
       "      <td>AAE</td>\n",
       "      <td>1208925</td>\n",
       "      <td>2018</td>\n",
       "    </tr>\n",
       "    <tr>\n",
       "      <th>8750</th>\n",
       "      <td>8751</td>\n",
       "      <td>Willy Wonka and the Chocolate Factory</td>\n",
       "      <td>Par.</td>\n",
       "      <td>526633</td>\n",
       "      <td>1971</td>\n",
       "    </tr>\n",
       "  </tbody>\n",
       "</table>\n",
       "</div>"
      ],
      "text/plain": [
       "        rank                                  title  studio  lifetime_gross  \\\n",
       "13782  13783                              L'Iceberg    FRun           19789   \n",
       "10458  10459                                 Hybrid  Indic.          164386   \n",
       "14686  14687                Approaching the Unknown   INDEP           10232   \n",
       "7553    7554                     Beautifully Broken     AAE         1208925   \n",
       "8750    8751  Willy Wonka and the Chocolate Factory    Par.          526633   \n",
       "\n",
       "       year  \n",
       "13782  2007  \n",
       "10458  2002  \n",
       "14686  2016  \n",
       "7553   2018  \n",
       "8750   1971  "
      ]
     },
     "execution_count": 14,
     "metadata": {},
     "output_type": "execute_result"
    }
   ],
   "source": [
    "boxoffice.sample(5)"
   ]
  },
  {
   "cell_type": "markdown",
   "metadata": {},
   "source": [
    "Observations :(\n",
    "1. No `tconst` \n",
    "2. (year) in titles"
   ]
  },
  {
   "cell_type": "markdown",
   "metadata": {},
   "source": [
    "**Exercise:**: \n",
    "1. Create `year` column with year simply parsed from `Title` by slicins and convert to `int` type.\n",
    "2. Create `correctedTitle` column with ` (year)` removed."
   ]
  },
  {
   "cell_type": "code",
   "execution_count": 26,
   "metadata": {},
   "outputs": [
    {
     "data": {
      "text/html": [
       "<img src onerror=\"var cell = this.closest('.jp-CodeCell, .cell');var editor = cell.querySelector('.jp-Editor, .input_area');editor.style.background='Bisque';this.parentNode.removeChild(this)\">"
      ],
      "text/plain": [
       "<IPython.core.display.HTML object>"
      ]
     },
     "metadata": {},
     "output_type": "display_data"
    },
    {
     "data": {
      "text/html": [
       "<div>\n",
       "<style scoped>\n",
       "    .dataframe tbody tr th:only-of-type {\n",
       "        vertical-align: middle;\n",
       "    }\n",
       "\n",
       "    .dataframe tbody tr th {\n",
       "        vertical-align: top;\n",
       "    }\n",
       "\n",
       "    .dataframe thead th {\n",
       "        text-align: right;\n",
       "    }\n",
       "</style>\n",
       "<table border=\"1\" class=\"dataframe\">\n",
       "  <thead>\n",
       "    <tr style=\"text-align: right;\">\n",
       "      <th></th>\n",
       "      <th>Rank</th>\n",
       "      <th>Title</th>\n",
       "      <th>RatingTomatometer</th>\n",
       "      <th>No. of Reviews</th>\n",
       "      <th>Genres</th>\n",
       "      <th>year</th>\n",
       "    </tr>\n",
       "  </thead>\n",
       "  <tbody>\n",
       "    <tr>\n",
       "      <th>798</th>\n",
       "      <td>99</td>\n",
       "      <td></td>\n",
       "      <td>80</td>\n",
       "      <td>240</td>\n",
       "      <td>horror</td>\n",
       "      <td></td>\n",
       "    </tr>\n",
       "    <tr>\n",
       "      <th>239</th>\n",
       "      <td>40</td>\n",
       "      <td></td>\n",
       "      <td>95</td>\n",
       "      <td>59</td>\n",
       "      <td>art_house|international</td>\n",
       "      <td></td>\n",
       "    </tr>\n",
       "    <tr>\n",
       "      <th>271</th>\n",
       "      <td>72</td>\n",
       "      <td></td>\n",
       "      <td>96</td>\n",
       "      <td>127</td>\n",
       "      <td>art_house|international</td>\n",
       "      <td></td>\n",
       "    </tr>\n",
       "    <tr>\n",
       "      <th>1314</th>\n",
       "      <td>15</td>\n",
       "      <td></td>\n",
       "      <td>100</td>\n",
       "      <td>62</td>\n",
       "      <td>special_interest</td>\n",
       "      <td></td>\n",
       "    </tr>\n",
       "    <tr>\n",
       "      <th>1306</th>\n",
       "      <td>7</td>\n",
       "      <td></td>\n",
       "      <td>94</td>\n",
       "      <td>260</td>\n",
       "      <td>special_interest</td>\n",
       "      <td></td>\n",
       "    </tr>\n",
       "    <tr>\n",
       "      <th>1561</th>\n",
       "      <td>46</td>\n",
       "      <td></td>\n",
       "      <td>72</td>\n",
       "      <td>78</td>\n",
       "      <td>western</td>\n",
       "      <td></td>\n",
       "    </tr>\n",
       "    <tr>\n",
       "      <th>13</th>\n",
       "      <td>14</td>\n",
       "      <td></td>\n",
       "      <td>93</td>\n",
       "      <td>343</td>\n",
       "      <td>action|adventure</td>\n",
       "      <td></td>\n",
       "    </tr>\n",
       "    <tr>\n",
       "      <th>763</th>\n",
       "      <td>64</td>\n",
       "      <td></td>\n",
       "      <td>87</td>\n",
       "      <td>166</td>\n",
       "      <td>horror</td>\n",
       "      <td></td>\n",
       "    </tr>\n",
       "    <tr>\n",
       "      <th>688</th>\n",
       "      <td>89</td>\n",
       "      <td></td>\n",
       "      <td>92</td>\n",
       "      <td>89</td>\n",
       "      <td>drama</td>\n",
       "      <td></td>\n",
       "    </tr>\n",
       "    <tr>\n",
       "      <th>966</th>\n",
       "      <td>67</td>\n",
       "      <td></td>\n",
       "      <td>91</td>\n",
       "      <td>46</td>\n",
       "      <td>musical|performing_arts</td>\n",
       "      <td></td>\n",
       "    </tr>\n",
       "  </tbody>\n",
       "</table>\n",
       "</div>"
      ],
      "text/plain": [
       "      Rank Title  RatingTomatometer  No. of Reviews                   Genres  \\\n",
       "798     99                       80             240                   horror   \n",
       "239     40                       95              59  art_house|international   \n",
       "271     72                       96             127  art_house|international   \n",
       "1314    15                      100              62         special_interest   \n",
       "1306     7                       94             260         special_interest   \n",
       "1561    46                       72              78                  western   \n",
       "13      14                       93             343         action|adventure   \n",
       "763     64                       87             166                   horror   \n",
       "688     89                       92              89                    drama   \n",
       "966     67                       91              46  musical|performing_arts   \n",
       "\n",
       "     year  \n",
       "798        \n",
       "239        \n",
       "271        \n",
       "1314       \n",
       "1306       \n",
       "1561       \n",
       "13         \n",
       "763        \n",
       "688        \n",
       "966        "
      ]
     },
     "execution_count": 26,
     "metadata": {},
     "output_type": "execute_result"
    }
   ],
   "source": [
    "%exercise\n",
    "\n",
    "rotten_tomatoes[\"year\"] = rotten_tomatoes.Title.str.slice(-5, -1)\n",
    "rotten_tomatoes[\"Title\"] = rotten_tomatoes.Title.str.slice_replace(-7, None,\"\")\n",
    "rotten_tomatoes.sample(10)"
   ]
  },
  {
   "cell_type": "code",
   "execution_count": null,
   "metadata": {},
   "outputs": [],
   "source": [
    "%validate\n",
    "\n",
    "assert (rotten_tomatoes.year[:5] == [2018, 2015, 2017, 1927, 2017]).all()\n",
    "assert rotten_tomatoes.iloc[2].correctedTitle == 'Wonder Woman'"
   ]
  },
  {
   "cell_type": "markdown",
   "metadata": {},
   "source": [
    "So no title `endswith` `\")\"` any more, right?"
   ]
  },
  {
   "cell_type": "code",
   "execution_count": null,
   "metadata": {},
   "outputs": [],
   "source": [
    "rotten_tomatoes[rotten_tomatoes.correctedTitle.str.endswith(')')].head(10)"
   ]
  },
  {
   "cell_type": "markdown",
   "metadata": {},
   "source": [
    "Have you heard of regural expressions? Get yourselves trained at https://regex101.com/ :)\n",
    "\n",
    "Shortcut for now. To match strings like `\"(Shichinin no Samurai)\"` at the end of a string, we can use this regex: `\\(.*\\)$`.\n",
    "\n",
    "The second ingredient to use is the `.str` accessor (see https://pandas.pydata.org/pandas-docs/stable/user_guide/text.html), which can help us to `extract` and `replace` the year from the titles."
   ]
  },
  {
   "cell_type": "code",
   "execution_count": null,
   "metadata": {},
   "outputs": [],
   "source": [
    "rotten_tomatoes.correctedTitle.str.extract(r'\\((.*)\\)$').dropna().head()"
   ]
  },
  {
   "cell_type": "markdown",
   "metadata": {},
   "source": [
    "We have just extracted the original titles. Let's construct `primaryTitle` by replacing the original titles in the `Title` column by empty strings. We also need to delete any trailing white space characters. "
   ]
  },
  {
   "cell_type": "code",
   "execution_count": null,
   "metadata": {},
   "outputs": [],
   "source": [
    "rotten_tomatoes[\"primaryTitle\"] = rotten_tomatoes.correctedTitle.str.replace(r'(\\s*\\(.*\\))$', '')"
   ]
  },
  {
   "cell_type": "markdown",
   "metadata": {},
   "source": [
    "See how we succeeded ;)"
   ]
  },
  {
   "cell_type": "code",
   "execution_count": null,
   "metadata": {},
   "outputs": [],
   "source": [
    "rotten_tomatoes[rotten_tomatoes.correctedTitle.str.contains(\"\\\\(\")][[\"Title\", \"correctedTitle\", \"primaryTitle\", \"year\"]].sample(10)"
   ]
  },
  {
   "cell_type": "markdown",
   "metadata": {},
   "source": [
    "Feeling like a regex expert already? Try to write a RFC email address validator ... or just use an existing one: http://www.ex-parrot.com/~pdw/Mail-RFC822-Address.html 😈 "
   ]
  },
  {
   "cell_type": "markdown",
   "metadata": {},
   "source": [
    "What about duplicated titles?"
   ]
  },
  {
   "cell_type": "code",
   "execution_count": null,
   "metadata": {},
   "outputs": [],
   "source": [
    "# Use the duplicated method\n",
    "rotten_tomatoes[rotten_tomatoes.primaryTitle.duplicated(keep=False)].sort_values(\"primaryTitle\").head(20)"
   ]
  },
  {
   "cell_type": "markdown",
   "metadata": {},
   "source": [
    "Seems like the differences are in genres and **years**. Let's make it easy and \n",
    "\n",
    "**Exercise:** Create an `honest_tomatoes` data set from `rotten_tamatoes`\n",
    "1. with no duplicates (use `duplicated` by `primaryTitle` and `year` columns with a different `keep` option for indexing),\n",
    "2. without `Title` and `correctedTitle` columns."
   ]
  },
  {
   "cell_type": "code",
   "execution_count": null,
   "metadata": {},
   "outputs": [],
   "source": [
    "%exercise\n",
    "\n",
    "honest_tomatoes = rotten_tomatoes.loc[___].drop(___)"
   ]
  },
  {
   "cell_type": "code",
   "execution_count": null,
   "metadata": {},
   "outputs": [],
   "source": [
    "%validate\n",
    "\n",
    "assert honest_tomatoes[honest_tomatoes.primaryTitle == \"Hairspray\"].year.tolist() == [1988, 2007]\n",
    "assert sorted(honest_tomatoes.columns) == ['Genres', 'No. of Reviews', 'Rank', 'RatingTomatometer', 'primaryTitle', 'year']"
   ]
  },
  {
   "cell_type": "markdown",
   "metadata": {},
   "source": [
    "See what are the honestly duplicated titles:"
   ]
  },
  {
   "cell_type": "code",
   "execution_count": null,
   "metadata": {},
   "outputs": [],
   "source": [
    "honest_tomatoes[honest_tomatoes.primaryTitle.duplicated(keep=False)].sort_values(\"primaryTitle\")"
   ]
  },
  {
   "cell_type": "markdown",
   "metadata": {},
   "source": [
    "Luckily, the boxoffice data are somewhat easier to work with."
   ]
  },
  {
   "cell_type": "code",
   "execution_count": null,
   "metadata": {},
   "outputs": [],
   "source": [
    "boxoffice[\"primaryTitle\"] = boxoffice.title.str.rstrip().str.replace(r'\\s*\\(.*\\)$', '')"
   ]
  },
  {
   "cell_type": "markdown",
   "metadata": {},
   "source": [
    "And now, let's do the big big merge:"
   ]
  },
  {
   "cell_type": "code",
   "execution_count": null,
   "metadata": {},
   "outputs": [],
   "source": [
    "movies = pd.merge(\n",
    "    movies_rated,\n",
    "    pd.merge(honest_tomatoes, boxoffice, on=[\"primaryTitle\", \"year\"], how=\"left\"),\n",
    "    left_on=[\"primaryTitle\", \"startYear\"],\n",
    "    right_on=[\"primaryTitle\", \"year\"],\n",
    ")"
   ]
  },
  {
   "cell_type": "code",
   "execution_count": null,
   "metadata": {},
   "outputs": [],
   "source": [
    "movies.sample(10)"
   ]
  },
  {
   "cell_type": "code",
   "execution_count": null,
   "metadata": {},
   "outputs": [],
   "source": [
    "movies.describe()"
   ]
  },
  {
   "cell_type": "code",
   "execution_count": null,
   "metadata": {},
   "outputs": [],
   "source": [
    "unique_movies = movies.loc[~movies.duplicated(subset=[\"primaryTitle\", \"year\"], keep='first')]\n",
    "\n",
    "# And just to make sure\n",
    "unique_movies = unique_movies.dropna()"
   ]
  },
  {
   "cell_type": "code",
   "execution_count": null,
   "metadata": {},
   "outputs": [],
   "source": [
    "unique_movies.describe()"
   ]
  },
  {
   "cell_type": "code",
   "execution_count": null,
   "metadata": {},
   "outputs": [],
   "source": [
    "unique_movies.shape[0], movies_rated.shape[0], boxoffice.shape[0], honest_tomatoes.shape[0]"
   ]
  },
  {
   "cell_type": "markdown",
   "metadata": {},
   "source": [
    "We have much less titles compared to IMDB or even boxoffice data :-| We could probably improve the merge by sanitizing the titles, likely there are punctuation, white space, Roman vs. Arabic numerals nuances."
   ]
  },
  {
   "cell_type": "markdown",
   "metadata": {},
   "source": [
    "## Visual analysis"
   ]
  },
  {
   "cell_type": "markdown",
   "metadata": {},
   "source": [
    "### Matplotlib"
   ]
  },
  {
   "cell_type": "code",
   "execution_count": null,
   "metadata": {},
   "outputs": [],
   "source": [
    "import matplotlib.pyplot as plt"
   ]
  },
  {
   "cell_type": "markdown",
   "metadata": {},
   "source": [
    "Is the number of votes related to rating?"
   ]
  },
  {
   "cell_type": "code",
   "execution_count": null,
   "metadata": {},
   "outputs": [],
   "source": [
    "movies_rated.plot(kind=\"scatter\", x=\"numVotes\", y=\"averageRating\")"
   ]
  },
  {
   "cell_type": "markdown",
   "metadata": {},
   "source": [
    "We can use `scatter_matrix` to scatter-plot all variables against each other."
   ]
  },
  {
   "cell_type": "code",
   "execution_count": null,
   "metadata": {},
   "outputs": [],
   "source": [
    "fig = pd.plotting.scatter_matrix(unique_movies, figsize=(10, 7))"
   ]
  },
  {
   "cell_type": "markdown",
   "metadata": {},
   "source": [
    "Hmm, maybe not every column is useful.\n",
    "\n",
    "**Exercise:** Use only some columns for scatter plot."
   ]
  },
  {
   "cell_type": "code",
   "execution_count": null,
   "metadata": {},
   "outputs": [],
   "source": [
    "%exercise\n",
    "\n",
    "fig = pd.plotting.scatter_matrix(___, figsize=(10, 7))"
   ]
  },
  {
   "cell_type": "markdown",
   "metadata": {},
   "source": [
    "### Seaborn\n",
    "\n",
    "[Seaborn](https://seaborn.pydata.org/) is a Python data visualization library based on matplotlib. It provides a high-level interface for drawing attractive and informative statistical graphics."
   ]
  },
  {
   "cell_type": "code",
   "execution_count": null,
   "metadata": {},
   "outputs": [],
   "source": [
    "import seaborn as sns"
   ]
  },
  {
   "cell_type": "markdown",
   "metadata": {},
   "source": [
    "There are convenient functions to set plot styles and colout palettes."
   ]
  },
  {
   "cell_type": "code",
   "execution_count": null,
   "metadata": {},
   "outputs": [],
   "source": [
    "sns.set_context(\"notebook\")\n",
    "sns.set_style(\"whitegrid\")\n",
    "sns.set_palette(\"hls\")"
   ]
  },
  {
   "cell_type": "markdown",
   "metadata": {},
   "source": [
    "A powerful tool to visualize pairwise relationships is `pairplot`."
   ]
  },
  {
   "cell_type": "code",
   "execution_count": null,
   "metadata": {},
   "outputs": [],
   "source": [
    "sns.pairplot(unique_movies[[\"startYear\", \"averageRating\", \"numVotes\", \"RatingTomatometer\", \"lifetime_gross\"]])"
   ]
  },
  {
   "cell_type": "markdown",
   "metadata": {},
   "source": [
    "**Exercise:** Adapt the example from https://seaborn.pydata.org/examples/pair_grid_with_kde.html to match this figure.\n",
    "\n",
    "![pairgrid_exercise.png](pairgrid_exercise.png)"
   ]
  },
  {
   "cell_type": "code",
   "execution_count": null,
   "metadata": {},
   "outputs": [],
   "source": [
    "%exercise\n",
    "\n",
    "df = sns.load_dataset(\"iris\")\n",
    "\n",
    "g = sns.PairGrid(df, diag_sharey=False)\n",
    "g.map_lower(sns.kdeplot)\n",
    "g.map_upper(sns.scatterplot)\n",
    "g.map_diag(sns.kdeplot, lw=3)"
   ]
  },
  {
   "cell_type": "markdown",
   "metadata": {},
   "source": [
    "Do you see any interesting relationships?"
   ]
  },
  {
   "cell_type": "markdown",
   "metadata": {},
   "source": [
    "### Adding interactivity to plots\n",
    "\n",
    "Seaborn is great. But maybe we would like to add some interactivity: zooming, panning, ... you name it. \n",
    "Some of that we can get with just using a different [Matplotlib backend](https://matplotlib.org/3.1.0/tutorials/introductory/usage.html#backends).\n",
    "There are libraries for that. We'll show [Plotly Express](https://www.plotly.express/) here, which builds Seaborn-like interface on top of https://plot.ly/.\n",
    "\n",
    "There are more libraries you can explore when you have more time: https://bokeh.pydata.org/en/latest/, https://altair-viz.github.io/, http://holoviews.org."
   ]
  },
  {
   "cell_type": "code",
   "execution_count": null,
   "metadata": {},
   "outputs": [],
   "source": [
    "import plotly_express as px"
   ]
  },
  {
   "cell_type": "code",
   "execution_count": null,
   "metadata": {},
   "outputs": [],
   "source": [
    "px.scatter(\n",
    "    movies.dropna(), \n",
    "    x=\"averageRating\", \n",
    "    y=\"RatingTomatometer\",\n",
    "    marginal_x=\"histogram\", \n",
    "    marginal_y=\"histogram\",\n",
    "    color=\"numVotes\", \n",
    "    size=\"lifetime_gross\",\n",
    "    hover_name=\"title\",\n",
    ")"
   ]
  },
  {
   "cell_type": "markdown",
   "metadata": {},
   "source": [
    "## Grouping & aggregation\n",
    "\n",
    "A common pattern in data analysis is grouping (or binning) data based on some property and getting some aggredate statistics.\n",
    "\n",
    "*Example:* Group this workshop participants by nationality a get the cardinality (the size) of each group."
   ]
  },
  {
   "cell_type": "code",
   "execution_count": null,
   "metadata": {},
   "outputs": [],
   "source": [
    "# we use all title types here\n",
    "# let's merge first\n",
    "imdb_data = imdb_titles.merge(imdb_ratings, on=\"tconst\")\n",
    "imdb_data.sample(3)"
   ]
  },
  {
   "cell_type": "code",
   "execution_count": null,
   "metadata": {},
   "outputs": [],
   "source": [
    "grouped_by_type = imdb_data.groupby('titleType')"
   ]
  },
  {
   "cell_type": "markdown",
   "metadata": {},
   "source": [
    "What did we get? "
   ]
  },
  {
   "cell_type": "code",
   "execution_count": null,
   "metadata": {},
   "outputs": [],
   "source": [
    "grouped_by_type"
   ]
  },
  {
   "cell_type": "markdown",
   "metadata": {},
   "source": [
    "What's this `DataFrameGroupBy` object? [Its use case is](http://pandas.pydata.org/pandas-docs/stable/user_guide/groupby.html):\n",
    "* Splitting the data into groups based on some criteria.\n",
    "* Applying a function to each group independently.\n",
    "* Combining the results into a data structure.\n"
   ]
  },
  {
   "cell_type": "markdown",
   "metadata": {},
   "source": [
    "Let's try a simple aggregate: mean of rating per type group:"
   ]
  },
  {
   "cell_type": "code",
   "execution_count": null,
   "metadata": {},
   "outputs": [],
   "source": [
    "grouped_by_type.averageRating.mean().sort_values()"
   ]
  },
  {
   "cell_type": "markdown",
   "metadata": {},
   "source": [
    "Movies are worst rated, TV episodes and video games are much better rated. What does that mean?"
   ]
  },
  {
   "cell_type": "markdown",
   "metadata": {},
   "source": [
    "`GroupBy` objects have `agg` method which is quite versatile to describe what aggregations we need. As an example:"
   ]
  },
  {
   "cell_type": "code",
   "execution_count": null,
   "metadata": {},
   "outputs": [],
   "source": [
    "grouped_by_type.agg({\"averageRating\": [\"mean\", \"median\", \"std\"], \"startYear\": [\"min\", \"max\", \"median\"]})"
   ]
  },
  {
   "cell_type": "markdown",
   "metadata": {},
   "source": [
    "Grouping is also behind Seaborn's `FacetGrid` plots of categorical data"
   ]
  },
  {
   "cell_type": "code",
   "execution_count": null,
   "metadata": {
    "scrolled": false
   },
   "outputs": [],
   "source": [
    "g = sns.FacetGrid(imdb_data, col=\"titleType\", col_wrap=4)\n",
    "# g.map(plt.hist, \"averageRating\", density=True)\n",
    "g.map(sns.distplot, \"averageRating\", norm_hist=True)"
   ]
  },
  {
   "cell_type": "markdown",
   "metadata": {},
   "source": [
    "What if we were to group by decade? We don't have a decade column but we can just calculate the decades and use it for `groupby`."
   ]
  },
  {
   "cell_type": "code",
   "execution_count": null,
   "metadata": {},
   "outputs": [],
   "source": [
    "group_by_decade = movies_rated.groupby((np.floor_divide(movies_rated.startYear, 10) * 10))"
   ]
  },
  {
   "cell_type": "markdown",
   "metadata": {},
   "source": [
    "**Exercise:** Use `group_by_decade.agg` similarly to above to get the mean of average rating and the total number of votes in each decade."
   ]
  },
  {
   "cell_type": "code",
   "execution_count": null,
   "metadata": {},
   "outputs": [],
   "source": [
    "%exercise\n",
    "\n",
    "decade_statistics = group_by_decade.agg({___})\n",
    "\n",
    "# Display (do not edit)\n",
    "decade_statistics[\"averageRating\"].plot(kind=\"bar\")\n",
    "decade_statistics"
   ]
  },
  {
   "cell_type": "code",
   "execution_count": null,
   "metadata": {},
   "outputs": [],
   "source": [
    "%validate\n",
    "\n",
    "assert np.allclose(decade_statistics.iloc[-1].averageRating, 6.364, rtol=0.01)\n",
    "assert np.allclose(decade_statistics.iloc[-1].numVotes, 2.55e+08, rtol=0.01)"
   ]
  },
  {
   "cell_type": "markdown",
   "metadata": {},
   "source": [
    "70's, 80's, 90's are the dark ages of the film industry?"
   ]
  },
  {
   "cell_type": "markdown",
   "metadata": {},
   "source": [
    "**Exercise:**: Find the most profitable film for each studio. Use `groupby` and either `apply` with `pn.nlargest` or `sort_values` and `first`."
   ]
  },
  {
   "cell_type": "code",
   "execution_count": null,
   "metadata": {},
   "outputs": [],
   "source": [
    "%exercise\n",
    "\n",
    "# result = movies.groupby ...\n",
    "\n",
    "# display \n",
    "result.nlargest(10, columns=\"lifetime_gross\")[[\"title\", \"startYear\", \"lifetime_gross\"]]"
   ]
  },
  {
   "cell_type": "code",
   "execution_count": null,
   "metadata": {},
   "outputs": [],
   "source": [
    "%validate\n",
    "\n",
    "assert result.loc[\"Sony\", \"lifetime_gross\"].values == 373585825"
   ]
  },
  {
   "cell_type": "markdown",
   "metadata": {},
   "source": [
    "## Pivoting\n",
    "\n",
    "> pivot (third-person singular simple present pivots, present participle pivoting, simple past and past participle pivoted)\n",
    " **To turn on an exact spot.**\n",
    " \n",
    "> A pivot table is a table of statistics that summarizes the data of a more extensive table ...\n",
    "> Although pivot table is a generic term, Microsoft Corporation trademarked PivotTable in the United States in 1994."
   ]
  },
  {
   "cell_type": "markdown",
   "metadata": {},
   "source": [
    "Our pivoting task: Get a table with numbers of titles per year (as row) and type (as column).\n",
    "\n",
    "One approach is to use `groupby`, `count` aggregation and `unstack`."
   ]
  },
  {
   "cell_type": "code",
   "execution_count": null,
   "metadata": {},
   "outputs": [],
   "source": [
    "grouped_by_year_and_type = imdb_data.groupby(['startYear', 'titleType'])"
   ]
  },
  {
   "cell_type": "code",
   "execution_count": null,
   "metadata": {},
   "outputs": [],
   "source": [
    "pivoted = (\n",
    "    grouped_by_year_and_type\n",
    "    .numVotes\n",
    "    .count()\n",
    "    .unstack()\n",
    ")\n",
    "pivoted.tail()"
   ]
  },
  {
   "cell_type": "markdown",
   "metadata": {},
   "source": [
    "There's a shortcut though, see if you we can use it.\n",
    "\n",
    "**Exercise:** Create the `pivoted` table using `pivot_table`:"
   ]
  },
  {
   "cell_type": "code",
   "execution_count": null,
   "metadata": {},
   "outputs": [],
   "source": [
    "%exercise\n",
    "\n",
    "pivot_table = imdb_data.pivot_table(values=___, index=___, columns=___, aggfunc=___)\n",
    "\n",
    "# display - do not edit\n",
    "pivot_table.tail()"
   ]
  },
  {
   "cell_type": "code",
   "execution_count": null,
   "metadata": {},
   "outputs": [],
   "source": [
    "%validate\n",
    "\n",
    "pd.testing.assert_frame_equal(pivoted, pivot_table)"
   ]
  },
  {
   "cell_type": "markdown",
   "metadata": {},
   "source": [
    "We can now use this to plot a kind of a histogram with colour for title types."
   ]
  },
  {
   "cell_type": "code",
   "execution_count": null,
   "metadata": {},
   "outputs": [],
   "source": [
    "with sns.color_palette(\"Paired\"):\n",
    "    fig, ax = plt.subplots(figsize=(16, 6))\n",
    "    pivoted.loc[1990:].plot.bar(stacked=True, ax=ax)"
   ]
  },
  {
   "cell_type": "markdown",
   "metadata": {},
   "source": [
    "## Final mini-project - creative, unbounded, free-style\n",
    "\n",
    "Here are some ideas of what you can do with the data.\n",
    "\n",
    "* Create 5-star rating based on quantiles using `quantile` and `cut` or `qcut`.\n",
    "* Group by studio / decade / rating\n",
    "* Compare simple (arithmetic) mean `averageRating` in each group with `averageRating` average weighted by `numVotes` ($ \\frac{\\sum \\rm{averageRating} \\times \\rm{numVotes}} {\\sum \\rm{numVotes}} $). Use `apply` and the `wavg` function from https://pbpython.com/weighted-average.html. This function is quite time and memory consuming and thus not ideal for large data sets. You can try to implement weighted average using standard `mean`. Check the performance with the `%timeit` magic.\n",
    "* Use the 5-star rating for `hue` in an interesting seaborn plot (see https://seaborn.pydata.org/tutorial/relational.html)\n",
    "* Use `sns.catplot` to visualize the distrubution of incomes in each 5-star rating group. \n",
    "\n",
    "A couple more ideas can be found in https://github.com/brandon-rhodes/pycon-pandas-tutorial\n",
    "\n",
    "After you have solved all of those, come up with your own quests - we may still be around and help you :-D"
   ]
  },
  {
   "cell_type": "code",
   "execution_count": null,
   "metadata": {},
   "outputs": [],
   "source": []
  }
 ],
 "metadata": {
  "kernelspec": {
   "display_name": "Python 3",
   "language": "python",
   "name": "python3"
  },
  "language_info": {
   "codemirror_mode": {
    "name": "ipython",
    "version": 3
   },
   "file_extension": ".py",
   "mimetype": "text/x-python",
   "name": "python",
   "nbconvert_exporter": "python",
   "pygments_lexer": "ipython3",
   "version": "3.7.3+"
  }
 },
 "nbformat": 4,
 "nbformat_minor": 2
}
