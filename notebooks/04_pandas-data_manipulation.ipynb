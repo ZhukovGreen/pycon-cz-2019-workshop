{
 "cells": [
  {
   "cell_type": "markdown",
   "metadata": {},
   "source": [
    "# Pandas - Data manipulations\n",
    "\n",
    "This notebook is the third part of the collection devoted to the pandas library."
   ]
  },
  {
   "cell_type": "code",
   "execution_count": 1,
   "metadata": {},
   "outputs": [],
   "source": [
    "# Necesssary import evil\n",
    "\n",
    "import jupy_helpers\n",
    "import pandas as pd\n",
    "import numpy as np\n",
    "from IPython.display import display, HTML, IFrame\n",
    "\n",
    "np.random.seed(42)"
   ]
  },
  {
   "cell_type": "code",
   "execution_count": 2,
   "metadata": {},
   "outputs": [],
   "source": [
    "%matplotlib inline  \n",
    "# This will enable us to see plots embedded in the notebook"
   ]
  },
  {
   "cell_type": "code",
   "execution_count": 3,
   "metadata": {},
   "outputs": [
    {
     "data": {
      "text/html": [
       "<style>.container { width:95% !important; }</style>"
      ],
      "text/plain": [
       "<IPython.core.display.HTML object>"
      ]
     },
     "metadata": {},
     "output_type": "display_data"
    }
   ],
   "source": [
    "# make the cells wide\n",
    "display(HTML(\"<style>.container { width:95% !important; }</style>\"))"
   ]
  },
  {
   "cell_type": "markdown",
   "metadata": {},
   "source": [
    "In the previous notebook, we imported data from several data formats.\n",
    "Let's start from there and see what basic manipulations we can do\n",
    "with the DataFrames."
   ]
  },
  {
   "cell_type": "code",
   "execution_count": 4,
   "metadata": {},
   "outputs": [],
   "source": [
    "con = 'sqlite:///./workshop_data.sqlite'"
   ]
  },
  {
   "cell_type": "code",
   "execution_count": 5,
   "metadata": {},
   "outputs": [],
   "source": [
    "# Read the data that we stored in the previous example\n",
    "imdb_titles = pd.read_sql('imdb_titles', con)\n",
    "imdb_ratings = pd.read_sql('imdb_ratings', con)\n",
    "boxoffice = pd.read_sql('boxoffice', con)\n",
    "rotten_tomatoes = pd.read_sql(\"rotten_tomatoes\", con)"
   ]
  },
  {
   "cell_type": "code",
   "execution_count": 1,
   "metadata": {},
   "outputs": [],
   "source": [
    "# alternative for Binder\n",
    "\n",
    "# imdb_titles = pd.read_csv('../data/title.basics.tsv.gz', sep='\\t', na_values=\"\\\\N\"),\n",
    "# imdb_ratings = pd.read_csv('../data/title.ratings.tsv.gz', sep='\\t', na_values=\"\\\\N\"),\n",
    "# boxoffice = pd.read_csv('../data/boxoffice_march_2019.csv.gz'),\n",
    "# rotten_tomatoes = pd.read_csv(\"../data/rotten_tomatoes_top_movies_2019-01-15.csv\"),\n",
    "# awards = pd.read_sql(\"awards\", con='sqlite:///../data/awards.sqlite')"
   ]
  },
  {
   "cell_type": "markdown",
   "metadata": {},
   "source": [
    "## First look at the data\n",
    "\n",
    "Let's see what we have in the datasets..."
   ]
  },
  {
   "cell_type": "code",
   "execution_count": 6,
   "metadata": {},
   "outputs": [
    {
     "data": {
      "text/html": [
       "<div>\n",
       "<style scoped>\n",
       "    .dataframe tbody tr th:only-of-type {\n",
       "        vertical-align: middle;\n",
       "    }\n",
       "\n",
       "    .dataframe tbody tr th {\n",
       "        vertical-align: top;\n",
       "    }\n",
       "\n",
       "    .dataframe thead th {\n",
       "        text-align: right;\n",
       "    }\n",
       "</style>\n",
       "<table border=\"1\" class=\"dataframe\">\n",
       "  <thead>\n",
       "    <tr style=\"text-align: right;\">\n",
       "      <th></th>\n",
       "      <th>tconst</th>\n",
       "      <th>titleType</th>\n",
       "      <th>primaryTitle</th>\n",
       "      <th>originalTitle</th>\n",
       "      <th>isAdult</th>\n",
       "      <th>startYear</th>\n",
       "      <th>endYear</th>\n",
       "      <th>runtimeMinutes</th>\n",
       "      <th>genres</th>\n",
       "    </tr>\n",
       "  </thead>\n",
       "  <tbody>\n",
       "    <tr>\n",
       "      <th>0</th>\n",
       "      <td>tt0000001</td>\n",
       "      <td>short</td>\n",
       "      <td>Carmencita</td>\n",
       "      <td>Carmencita</td>\n",
       "      <td>0</td>\n",
       "      <td>1894.0</td>\n",
       "      <td>NaN</td>\n",
       "      <td>1.0</td>\n",
       "      <td>Documentary,Short</td>\n",
       "    </tr>\n",
       "    <tr>\n",
       "      <th>1</th>\n",
       "      <td>tt0000002</td>\n",
       "      <td>short</td>\n",
       "      <td>Le clown et ses chiens</td>\n",
       "      <td>Le clown et ses chiens</td>\n",
       "      <td>0</td>\n",
       "      <td>1892.0</td>\n",
       "      <td>NaN</td>\n",
       "      <td>5.0</td>\n",
       "      <td>Animation,Short</td>\n",
       "    </tr>\n",
       "    <tr>\n",
       "      <th>2</th>\n",
       "      <td>tt0000003</td>\n",
       "      <td>short</td>\n",
       "      <td>Pauvre Pierrot</td>\n",
       "      <td>Pauvre Pierrot</td>\n",
       "      <td>0</td>\n",
       "      <td>1892.0</td>\n",
       "      <td>NaN</td>\n",
       "      <td>4.0</td>\n",
       "      <td>Animation,Comedy,Romance</td>\n",
       "    </tr>\n",
       "    <tr>\n",
       "      <th>3</th>\n",
       "      <td>tt0000004</td>\n",
       "      <td>short</td>\n",
       "      <td>Un bon bock</td>\n",
       "      <td>Un bon bock</td>\n",
       "      <td>0</td>\n",
       "      <td>1892.0</td>\n",
       "      <td>NaN</td>\n",
       "      <td>NaN</td>\n",
       "      <td>Animation,Short</td>\n",
       "    </tr>\n",
       "    <tr>\n",
       "      <th>4</th>\n",
       "      <td>tt0000005</td>\n",
       "      <td>short</td>\n",
       "      <td>Blacksmith Scene</td>\n",
       "      <td>Blacksmith Scene</td>\n",
       "      <td>0</td>\n",
       "      <td>1893.0</td>\n",
       "      <td>NaN</td>\n",
       "      <td>1.0</td>\n",
       "      <td>Comedy,Short</td>\n",
       "    </tr>\n",
       "  </tbody>\n",
       "</table>\n",
       "</div>"
      ],
      "text/plain": [
       "      tconst titleType            primaryTitle           originalTitle  \\\n",
       "0  tt0000001     short              Carmencita              Carmencita   \n",
       "1  tt0000002     short  Le clown et ses chiens  Le clown et ses chiens   \n",
       "2  tt0000003     short          Pauvre Pierrot          Pauvre Pierrot   \n",
       "3  tt0000004     short             Un bon bock             Un bon bock   \n",
       "4  tt0000005     short        Blacksmith Scene        Blacksmith Scene   \n",
       "\n",
       "   isAdult  startYear  endYear  runtimeMinutes                    genres  \n",
       "0        0     1894.0      NaN             1.0         Documentary,Short  \n",
       "1        0     1892.0      NaN             5.0           Animation,Short  \n",
       "2        0     1892.0      NaN             4.0  Animation,Comedy,Romance  \n",
       "3        0     1892.0      NaN             NaN           Animation,Short  \n",
       "4        0     1893.0      NaN             1.0              Comedy,Short  "
      ]
     },
     "execution_count": 6,
     "metadata": {},
     "output_type": "execute_result"
    }
   ],
   "source": [
    "imdb_titles.head()"
   ]
  },
  {
   "cell_type": "code",
   "execution_count": 7,
   "metadata": {},
   "outputs": [
    {
     "data": {
      "text/html": [
       "<div>\n",
       "<style scoped>\n",
       "    .dataframe tbody tr th:only-of-type {\n",
       "        vertical-align: middle;\n",
       "    }\n",
       "\n",
       "    .dataframe tbody tr th {\n",
       "        vertical-align: top;\n",
       "    }\n",
       "\n",
       "    .dataframe thead th {\n",
       "        text-align: right;\n",
       "    }\n",
       "</style>\n",
       "<table border=\"1\" class=\"dataframe\">\n",
       "  <thead>\n",
       "    <tr style=\"text-align: right;\">\n",
       "      <th></th>\n",
       "      <th>tconst</th>\n",
       "      <th>titleType</th>\n",
       "      <th>primaryTitle</th>\n",
       "      <th>originalTitle</th>\n",
       "      <th>isAdult</th>\n",
       "      <th>startYear</th>\n",
       "      <th>endYear</th>\n",
       "      <th>runtimeMinutes</th>\n",
       "      <th>genres</th>\n",
       "    </tr>\n",
       "  </thead>\n",
       "  <tbody>\n",
       "    <tr>\n",
       "      <th>1783511</th>\n",
       "      <td>tt9916734</td>\n",
       "      <td>video</td>\n",
       "      <td>Manca: Peleo</td>\n",
       "      <td>Manca: Peleo</td>\n",
       "      <td>0</td>\n",
       "      <td>2018.0</td>\n",
       "      <td>NaN</td>\n",
       "      <td>NaN</td>\n",
       "      <td>Music,Short</td>\n",
       "    </tr>\n",
       "    <tr>\n",
       "      <th>1783512</th>\n",
       "      <td>tt9916754</td>\n",
       "      <td>movie</td>\n",
       "      <td>Chico Albuquerque - Revelações</td>\n",
       "      <td>Chico Albuquerque - Revelações</td>\n",
       "      <td>0</td>\n",
       "      <td>2013.0</td>\n",
       "      <td>NaN</td>\n",
       "      <td>NaN</td>\n",
       "      <td>Documentary</td>\n",
       "    </tr>\n",
       "    <tr>\n",
       "      <th>1783513</th>\n",
       "      <td>tt9916756</td>\n",
       "      <td>short</td>\n",
       "      <td>Pretty Pretty Black Girl</td>\n",
       "      <td>Pretty Pretty Black Girl</td>\n",
       "      <td>0</td>\n",
       "      <td>2019.0</td>\n",
       "      <td>NaN</td>\n",
       "      <td>NaN</td>\n",
       "      <td>Short</td>\n",
       "    </tr>\n",
       "    <tr>\n",
       "      <th>1783514</th>\n",
       "      <td>tt9916764</td>\n",
       "      <td>short</td>\n",
       "      <td>38</td>\n",
       "      <td>38</td>\n",
       "      <td>0</td>\n",
       "      <td>2018.0</td>\n",
       "      <td>NaN</td>\n",
       "      <td>NaN</td>\n",
       "      <td>Short</td>\n",
       "    </tr>\n",
       "    <tr>\n",
       "      <th>1783515</th>\n",
       "      <td>tt9916856</td>\n",
       "      <td>short</td>\n",
       "      <td>The Wind</td>\n",
       "      <td>The Wind</td>\n",
       "      <td>0</td>\n",
       "      <td>2015.0</td>\n",
       "      <td>NaN</td>\n",
       "      <td>27.0</td>\n",
       "      <td>Short</td>\n",
       "    </tr>\n",
       "  </tbody>\n",
       "</table>\n",
       "</div>"
      ],
      "text/plain": [
       "            tconst titleType                    primaryTitle  \\\n",
       "1783511  tt9916734     video                    Manca: Peleo   \n",
       "1783512  tt9916754     movie  Chico Albuquerque - Revelações   \n",
       "1783513  tt9916756     short        Pretty Pretty Black Girl   \n",
       "1783514  tt9916764     short                              38   \n",
       "1783515  tt9916856     short                        The Wind   \n",
       "\n",
       "                          originalTitle  isAdult  startYear  endYear  \\\n",
       "1783511                    Manca: Peleo        0     2018.0      NaN   \n",
       "1783512  Chico Albuquerque - Revelações        0     2013.0      NaN   \n",
       "1783513        Pretty Pretty Black Girl        0     2019.0      NaN   \n",
       "1783514                              38        0     2018.0      NaN   \n",
       "1783515                        The Wind        0     2015.0      NaN   \n",
       "\n",
       "         runtimeMinutes       genres  \n",
       "1783511             NaN  Music,Short  \n",
       "1783512             NaN  Documentary  \n",
       "1783513             NaN        Short  \n",
       "1783514             NaN        Short  \n",
       "1783515            27.0        Short  "
      ]
     },
     "execution_count": 7,
     "metadata": {},
     "output_type": "execute_result"
    }
   ],
   "source": [
    "imdb_titles.tail()"
   ]
  },
  {
   "cell_type": "markdown",
   "metadata": {},
   "source": [
    "For an unknown, potentially unevenly distributed dataset, looking at the beginning / end is typically not the best idea. We'd rather sample randomly:"
   ]
  },
  {
   "cell_type": "code",
   "execution_count": 8,
   "metadata": {},
   "outputs": [
    {
     "data": {
      "text/html": [
       "<div>\n",
       "<style scoped>\n",
       "    .dataframe tbody tr th:only-of-type {\n",
       "        vertical-align: middle;\n",
       "    }\n",
       "\n",
       "    .dataframe tbody tr th {\n",
       "        vertical-align: top;\n",
       "    }\n",
       "\n",
       "    .dataframe thead th {\n",
       "        text-align: right;\n",
       "    }\n",
       "</style>\n",
       "<table border=\"1\" class=\"dataframe\">\n",
       "  <thead>\n",
       "    <tr style=\"text-align: right;\">\n",
       "      <th></th>\n",
       "      <th>tconst</th>\n",
       "      <th>titleType</th>\n",
       "      <th>primaryTitle</th>\n",
       "      <th>originalTitle</th>\n",
       "      <th>isAdult</th>\n",
       "      <th>startYear</th>\n",
       "      <th>endYear</th>\n",
       "      <th>runtimeMinutes</th>\n",
       "      <th>genres</th>\n",
       "    </tr>\n",
       "  </thead>\n",
       "  <tbody>\n",
       "    <tr>\n",
       "      <th>819942</th>\n",
       "      <td>tt1991254</td>\n",
       "      <td>tvMovie</td>\n",
       "      <td>Wolf in a Holy Place: The Varg Veum Story</td>\n",
       "      <td>Wolf in a Holy Place: The Varg Veum Story</td>\n",
       "      <td>0</td>\n",
       "      <td>2010.0</td>\n",
       "      <td>NaN</td>\n",
       "      <td>15.0</td>\n",
       "      <td>Documentary</td>\n",
       "    </tr>\n",
       "    <tr>\n",
       "      <th>1274430</th>\n",
       "      <td>tt5089748</td>\n",
       "      <td>short</td>\n",
       "      <td>Hyacinthe</td>\n",
       "      <td>Hyacinthe</td>\n",
       "      <td>0</td>\n",
       "      <td>1936.0</td>\n",
       "      <td>NaN</td>\n",
       "      <td>35.0</td>\n",
       "      <td>Comedy,Short</td>\n",
       "    </tr>\n",
       "    <tr>\n",
       "      <th>201491</th>\n",
       "      <td>tt0213393</td>\n",
       "      <td>short</td>\n",
       "      <td>The Abduction of Pinkie</td>\n",
       "      <td>The Abduction of Pinkie</td>\n",
       "      <td>0</td>\n",
       "      <td>1913.0</td>\n",
       "      <td>NaN</td>\n",
       "      <td>NaN</td>\n",
       "      <td>Comedy,Short</td>\n",
       "    </tr>\n",
       "    <tr>\n",
       "      <th>685127</th>\n",
       "      <td>tt1528778</td>\n",
       "      <td>video</td>\n",
       "      <td>La vida del tahur</td>\n",
       "      <td>La vida del tahur</td>\n",
       "      <td>0</td>\n",
       "      <td>2006.0</td>\n",
       "      <td>NaN</td>\n",
       "      <td>88.0</td>\n",
       "      <td>Action</td>\n",
       "    </tr>\n",
       "    <tr>\n",
       "      <th>1445211</th>\n",
       "      <td>tt6448120</td>\n",
       "      <td>movie</td>\n",
       "      <td>Hutushenpan</td>\n",
       "      <td>Hutushenpan</td>\n",
       "      <td>0</td>\n",
       "      <td>2008.0</td>\n",
       "      <td>NaN</td>\n",
       "      <td>NaN</td>\n",
       "      <td>None</td>\n",
       "    </tr>\n",
       "    <tr>\n",
       "      <th>882336</th>\n",
       "      <td>tt2233608</td>\n",
       "      <td>short</td>\n",
       "      <td>The Laughing Club</td>\n",
       "      <td>The Laughing Club</td>\n",
       "      <td>0</td>\n",
       "      <td>2012.0</td>\n",
       "      <td>NaN</td>\n",
       "      <td>11.0</td>\n",
       "      <td>Biography,Comedy,Documentary</td>\n",
       "    </tr>\n",
       "    <tr>\n",
       "      <th>1077437</th>\n",
       "      <td>tt3548134</td>\n",
       "      <td>short</td>\n",
       "      <td>The Yellow Sky</td>\n",
       "      <td>The Yellow Sky</td>\n",
       "      <td>0</td>\n",
       "      <td>2014.0</td>\n",
       "      <td>NaN</td>\n",
       "      <td>15.0</td>\n",
       "      <td>Drama,Short</td>\n",
       "    </tr>\n",
       "    <tr>\n",
       "      <th>1573011</th>\n",
       "      <td>tt7624254</td>\n",
       "      <td>tvSeries</td>\n",
       "      <td>Regent's &amp; Vicky (AKA Cheek by Jowl)</td>\n",
       "      <td>Regent's &amp; Vicky (AKA Cheek by Jowl)</td>\n",
       "      <td>0</td>\n",
       "      <td>NaN</td>\n",
       "      <td>NaN</td>\n",
       "      <td>NaN</td>\n",
       "      <td>None</td>\n",
       "    </tr>\n",
       "    <tr>\n",
       "      <th>172860</th>\n",
       "      <td>tt0182120</td>\n",
       "      <td>movie</td>\n",
       "      <td>For Your Thighs Only</td>\n",
       "      <td>For Your Thighs Only</td>\n",
       "      <td>1</td>\n",
       "      <td>1984.0</td>\n",
       "      <td>NaN</td>\n",
       "      <td>NaN</td>\n",
       "      <td>Adult,Comedy</td>\n",
       "    </tr>\n",
       "    <tr>\n",
       "      <th>1553103</th>\n",
       "      <td>tt7424358</td>\n",
       "      <td>movie</td>\n",
       "      <td>Steve McQueen: American Icon</td>\n",
       "      <td>Steve McQueen: American Icon</td>\n",
       "      <td>0</td>\n",
       "      <td>2017.0</td>\n",
       "      <td>NaN</td>\n",
       "      <td>120.0</td>\n",
       "      <td>Biography,Documentary</td>\n",
       "    </tr>\n",
       "    <tr>\n",
       "      <th>401186</th>\n",
       "      <td>tt0427166</td>\n",
       "      <td>video</td>\n",
       "      <td>Doing Hard Time</td>\n",
       "      <td>Doing Hard Time</td>\n",
       "      <td>0</td>\n",
       "      <td>2004.0</td>\n",
       "      <td>NaN</td>\n",
       "      <td>100.0</td>\n",
       "      <td>Action,Drama</td>\n",
       "    </tr>\n",
       "    <tr>\n",
       "      <th>1677734</th>\n",
       "      <td>tt8705492</td>\n",
       "      <td>video</td>\n",
       "      <td>Vanessa Carlton: White Houses</td>\n",
       "      <td>Vanessa Carlton: White Houses</td>\n",
       "      <td>0</td>\n",
       "      <td>2004.0</td>\n",
       "      <td>NaN</td>\n",
       "      <td>4.0</td>\n",
       "      <td>Music,Short</td>\n",
       "    </tr>\n",
       "    <tr>\n",
       "      <th>984096</th>\n",
       "      <td>tt2862540</td>\n",
       "      <td>tvMovie</td>\n",
       "      <td>Yarennoka!: New Years Eve 2007</td>\n",
       "      <td>Yarennoka!: New Years Eve 2007</td>\n",
       "      <td>0</td>\n",
       "      <td>2007.0</td>\n",
       "      <td>NaN</td>\n",
       "      <td>NaN</td>\n",
       "      <td>Sport</td>\n",
       "    </tr>\n",
       "    <tr>\n",
       "      <th>1306667</th>\n",
       "      <td>tt5321808</td>\n",
       "      <td>movie</td>\n",
       "      <td>Hero Wohi Jo Heroine Le Jaye</td>\n",
       "      <td>Hero Wohi Jo Heroine Le Jaye</td>\n",
       "      <td>0</td>\n",
       "      <td>2000.0</td>\n",
       "      <td>NaN</td>\n",
       "      <td>NaN</td>\n",
       "      <td>Romance</td>\n",
       "    </tr>\n",
       "    <tr>\n",
       "      <th>1458830</th>\n",
       "      <td>tt6567234</td>\n",
       "      <td>movie</td>\n",
       "      <td>Bury Me Standing</td>\n",
       "      <td>Bury Me Standing</td>\n",
       "      <td>0</td>\n",
       "      <td>2008.0</td>\n",
       "      <td>NaN</td>\n",
       "      <td>NaN</td>\n",
       "      <td>Drama</td>\n",
       "    </tr>\n",
       "    <tr>\n",
       "      <th>975438</th>\n",
       "      <td>tt2788716</td>\n",
       "      <td>movie</td>\n",
       "      <td>Welcome to Me</td>\n",
       "      <td>Welcome to Me</td>\n",
       "      <td>0</td>\n",
       "      <td>2014.0</td>\n",
       "      <td>NaN</td>\n",
       "      <td>87.0</td>\n",
       "      <td>Comedy,Drama</td>\n",
       "    </tr>\n",
       "    <tr>\n",
       "      <th>1241845</th>\n",
       "      <td>tt4816362</td>\n",
       "      <td>video</td>\n",
       "      <td>Yagai gomu wo hame nai nama nama shî sex</td>\n",
       "      <td>Yagai gomu wo hame nai nama nama shî sex</td>\n",
       "      <td>1</td>\n",
       "      <td>2006.0</td>\n",
       "      <td>NaN</td>\n",
       "      <td>125.0</td>\n",
       "      <td>Adult</td>\n",
       "    </tr>\n",
       "    <tr>\n",
       "      <th>1376108</th>\n",
       "      <td>tt5889162</td>\n",
       "      <td>movie</td>\n",
       "      <td>Return to Beethoven Street: Sam Fuller in Germany</td>\n",
       "      <td>Return to Beethoven Street: Sam Fuller in Germany</td>\n",
       "      <td>0</td>\n",
       "      <td>2015.0</td>\n",
       "      <td>NaN</td>\n",
       "      <td>105.0</td>\n",
       "      <td>Documentary</td>\n",
       "    </tr>\n",
       "    <tr>\n",
       "      <th>1171264</th>\n",
       "      <td>tt4234668</td>\n",
       "      <td>tvSeries</td>\n",
       "      <td>Sudby zagadochnoe zavtra</td>\n",
       "      <td>Sudby zagadochnoe zavtra</td>\n",
       "      <td>0</td>\n",
       "      <td>2010.0</td>\n",
       "      <td>NaN</td>\n",
       "      <td>NaN</td>\n",
       "      <td>None</td>\n",
       "    </tr>\n",
       "    <tr>\n",
       "      <th>156412</th>\n",
       "      <td>tt0164309</td>\n",
       "      <td>movie</td>\n",
       "      <td>'O' de amor</td>\n",
       "      <td>'O' de amor</td>\n",
       "      <td>0</td>\n",
       "      <td>1995.0</td>\n",
       "      <td>NaN</td>\n",
       "      <td>87.0</td>\n",
       "      <td>Drama</td>\n",
       "    </tr>\n",
       "  </tbody>\n",
       "</table>\n",
       "</div>"
      ],
      "text/plain": [
       "            tconst titleType  \\\n",
       "819942   tt1991254   tvMovie   \n",
       "1274430  tt5089748     short   \n",
       "201491   tt0213393     short   \n",
       "685127   tt1528778     video   \n",
       "1445211  tt6448120     movie   \n",
       "882336   tt2233608     short   \n",
       "1077437  tt3548134     short   \n",
       "1573011  tt7624254  tvSeries   \n",
       "172860   tt0182120     movie   \n",
       "1553103  tt7424358     movie   \n",
       "401186   tt0427166     video   \n",
       "1677734  tt8705492     video   \n",
       "984096   tt2862540   tvMovie   \n",
       "1306667  tt5321808     movie   \n",
       "1458830  tt6567234     movie   \n",
       "975438   tt2788716     movie   \n",
       "1241845  tt4816362     video   \n",
       "1376108  tt5889162     movie   \n",
       "1171264  tt4234668  tvSeries   \n",
       "156412   tt0164309     movie   \n",
       "\n",
       "                                              primaryTitle  \\\n",
       "819942           Wolf in a Holy Place: The Varg Veum Story   \n",
       "1274430                                          Hyacinthe   \n",
       "201491                             The Abduction of Pinkie   \n",
       "685127                                   La vida del tahur   \n",
       "1445211                                        Hutushenpan   \n",
       "882336                                   The Laughing Club   \n",
       "1077437                                     The Yellow Sky   \n",
       "1573011               Regent's & Vicky (AKA Cheek by Jowl)   \n",
       "172860                                For Your Thighs Only   \n",
       "1553103                       Steve McQueen: American Icon   \n",
       "401186                                     Doing Hard Time   \n",
       "1677734                      Vanessa Carlton: White Houses   \n",
       "984096                      Yarennoka!: New Years Eve 2007   \n",
       "1306667                       Hero Wohi Jo Heroine Le Jaye   \n",
       "1458830                                   Bury Me Standing   \n",
       "975438                                       Welcome to Me   \n",
       "1241845           Yagai gomu wo hame nai nama nama shî sex   \n",
       "1376108  Return to Beethoven Street: Sam Fuller in Germany   \n",
       "1171264                           Sudby zagadochnoe zavtra   \n",
       "156412                                         'O' de amor   \n",
       "\n",
       "                                             originalTitle  isAdult  \\\n",
       "819942           Wolf in a Holy Place: The Varg Veum Story        0   \n",
       "1274430                                          Hyacinthe        0   \n",
       "201491                             The Abduction of Pinkie        0   \n",
       "685127                                   La vida del tahur        0   \n",
       "1445211                                        Hutushenpan        0   \n",
       "882336                                   The Laughing Club        0   \n",
       "1077437                                     The Yellow Sky        0   \n",
       "1573011               Regent's & Vicky (AKA Cheek by Jowl)        0   \n",
       "172860                                For Your Thighs Only        1   \n",
       "1553103                       Steve McQueen: American Icon        0   \n",
       "401186                                     Doing Hard Time        0   \n",
       "1677734                      Vanessa Carlton: White Houses        0   \n",
       "984096                      Yarennoka!: New Years Eve 2007        0   \n",
       "1306667                       Hero Wohi Jo Heroine Le Jaye        0   \n",
       "1458830                                   Bury Me Standing        0   \n",
       "975438                                       Welcome to Me        0   \n",
       "1241845           Yagai gomu wo hame nai nama nama shî sex        1   \n",
       "1376108  Return to Beethoven Street: Sam Fuller in Germany        0   \n",
       "1171264                           Sudby zagadochnoe zavtra        0   \n",
       "156412                                         'O' de amor        0   \n",
       "\n",
       "         startYear  endYear  runtimeMinutes                        genres  \n",
       "819942      2010.0      NaN            15.0                   Documentary  \n",
       "1274430     1936.0      NaN            35.0                  Comedy,Short  \n",
       "201491      1913.0      NaN             NaN                  Comedy,Short  \n",
       "685127      2006.0      NaN            88.0                        Action  \n",
       "1445211     2008.0      NaN             NaN                          None  \n",
       "882336      2012.0      NaN            11.0  Biography,Comedy,Documentary  \n",
       "1077437     2014.0      NaN            15.0                   Drama,Short  \n",
       "1573011        NaN      NaN             NaN                          None  \n",
       "172860      1984.0      NaN             NaN                  Adult,Comedy  \n",
       "1553103     2017.0      NaN           120.0         Biography,Documentary  \n",
       "401186      2004.0      NaN           100.0                  Action,Drama  \n",
       "1677734     2004.0      NaN             4.0                   Music,Short  \n",
       "984096      2007.0      NaN             NaN                         Sport  \n",
       "1306667     2000.0      NaN             NaN                       Romance  \n",
       "1458830     2008.0      NaN             NaN                         Drama  \n",
       "975438      2014.0      NaN            87.0                  Comedy,Drama  \n",
       "1241845     2006.0      NaN           125.0                         Adult  \n",
       "1376108     2015.0      NaN           105.0                   Documentary  \n",
       "1171264     2010.0      NaN             NaN                          None  \n",
       "156412      1995.0      NaN            87.0                         Drama  "
      ]
     },
     "execution_count": 8,
     "metadata": {},
     "output_type": "execute_result"
    }
   ],
   "source": [
    "# Show a few examples\n",
    "imdb_titles.sample(20)"
   ]
  },
  {
   "cell_type": "markdown",
   "metadata": {},
   "source": [
    "`describe` is often useful to get the basics statistics."
   ]
  },
  {
   "cell_type": "code",
   "execution_count": 9,
   "metadata": {},
   "outputs": [
    {
     "data": {
      "text/html": [
       "<div>\n",
       "<style scoped>\n",
       "    .dataframe tbody tr th:only-of-type {\n",
       "        vertical-align: middle;\n",
       "    }\n",
       "\n",
       "    .dataframe tbody tr th {\n",
       "        vertical-align: top;\n",
       "    }\n",
       "\n",
       "    .dataframe thead th {\n",
       "        text-align: right;\n",
       "    }\n",
       "</style>\n",
       "<table border=\"1\" class=\"dataframe\">\n",
       "  <thead>\n",
       "    <tr style=\"text-align: right;\">\n",
       "      <th></th>\n",
       "      <th>tconst</th>\n",
       "      <th>titleType</th>\n",
       "      <th>primaryTitle</th>\n",
       "      <th>originalTitle</th>\n",
       "      <th>isAdult</th>\n",
       "      <th>startYear</th>\n",
       "      <th>endYear</th>\n",
       "      <th>runtimeMinutes</th>\n",
       "      <th>genres</th>\n",
       "    </tr>\n",
       "  </thead>\n",
       "  <tbody>\n",
       "    <tr>\n",
       "      <th>count</th>\n",
       "      <td>1783516</td>\n",
       "      <td>1783516</td>\n",
       "      <td>1783516</td>\n",
       "      <td>1783408</td>\n",
       "      <td>1.783516e+06</td>\n",
       "      <td>1.694982e+06</td>\n",
       "      <td>47795.000000</td>\n",
       "      <td>1.093869e+06</td>\n",
       "      <td>1661968</td>\n",
       "    </tr>\n",
       "    <tr>\n",
       "      <th>unique</th>\n",
       "      <td>1783516</td>\n",
       "      <td>9</td>\n",
       "      <td>1434902</td>\n",
       "      <td>1449134</td>\n",
       "      <td>NaN</td>\n",
       "      <td>NaN</td>\n",
       "      <td>NaN</td>\n",
       "      <td>NaN</td>\n",
       "      <td>2225</td>\n",
       "    </tr>\n",
       "    <tr>\n",
       "      <th>top</th>\n",
       "      <td>tt0445882</td>\n",
       "      <td>short</td>\n",
       "      <td>Home</td>\n",
       "      <td>Home</td>\n",
       "      <td>NaN</td>\n",
       "      <td>NaN</td>\n",
       "      <td>NaN</td>\n",
       "      <td>NaN</td>\n",
       "      <td>Drama</td>\n",
       "    </tr>\n",
       "    <tr>\n",
       "      <th>freq</th>\n",
       "      <td>1</td>\n",
       "      <td>676930</td>\n",
       "      <td>306</td>\n",
       "      <td>294</td>\n",
       "      <td>NaN</td>\n",
       "      <td>NaN</td>\n",
       "      <td>NaN</td>\n",
       "      <td>NaN</td>\n",
       "      <td>130137</td>\n",
       "    </tr>\n",
       "    <tr>\n",
       "      <th>mean</th>\n",
       "      <td>NaN</td>\n",
       "      <td>NaN</td>\n",
       "      <td>NaN</td>\n",
       "      <td>NaN</td>\n",
       "      <td>5.114841e-02</td>\n",
       "      <td>1.993789e+03</td>\n",
       "      <td>2001.114719</td>\n",
       "      <td>5.000369e+01</td>\n",
       "      <td>NaN</td>\n",
       "    </tr>\n",
       "    <tr>\n",
       "      <th>std</th>\n",
       "      <td>NaN</td>\n",
       "      <td>NaN</td>\n",
       "      <td>NaN</td>\n",
       "      <td>NaN</td>\n",
       "      <td>2.203004e-01</td>\n",
       "      <td>3.030284e+01</td>\n",
       "      <td>16.851629</td>\n",
       "      <td>1.423723e+02</td>\n",
       "      <td>NaN</td>\n",
       "    </tr>\n",
       "    <tr>\n",
       "      <th>min</th>\n",
       "      <td>NaN</td>\n",
       "      <td>NaN</td>\n",
       "      <td>NaN</td>\n",
       "      <td>NaN</td>\n",
       "      <td>0.000000e+00</td>\n",
       "      <td>1.874000e+03</td>\n",
       "      <td>1924.000000</td>\n",
       "      <td>0.000000e+00</td>\n",
       "      <td>NaN</td>\n",
       "    </tr>\n",
       "    <tr>\n",
       "      <th>25%</th>\n",
       "      <td>NaN</td>\n",
       "      <td>NaN</td>\n",
       "      <td>NaN</td>\n",
       "      <td>NaN</td>\n",
       "      <td>0.000000e+00</td>\n",
       "      <td>1.986000e+03</td>\n",
       "      <td>1992.000000</td>\n",
       "      <td>1.000000e+01</td>\n",
       "      <td>NaN</td>\n",
       "    </tr>\n",
       "    <tr>\n",
       "      <th>50%</th>\n",
       "      <td>NaN</td>\n",
       "      <td>NaN</td>\n",
       "      <td>NaN</td>\n",
       "      <td>NaN</td>\n",
       "      <td>0.000000e+00</td>\n",
       "      <td>2.007000e+03</td>\n",
       "      <td>2007.000000</td>\n",
       "      <td>3.000000e+01</td>\n",
       "      <td>NaN</td>\n",
       "    </tr>\n",
       "    <tr>\n",
       "      <th>75%</th>\n",
       "      <td>NaN</td>\n",
       "      <td>NaN</td>\n",
       "      <td>NaN</td>\n",
       "      <td>NaN</td>\n",
       "      <td>0.000000e+00</td>\n",
       "      <td>2.014000e+03</td>\n",
       "      <td>2015.000000</td>\n",
       "      <td>8.500000e+01</td>\n",
       "      <td>NaN</td>\n",
       "    </tr>\n",
       "    <tr>\n",
       "      <th>max</th>\n",
       "      <td>NaN</td>\n",
       "      <td>NaN</td>\n",
       "      <td>NaN</td>\n",
       "      <td>NaN</td>\n",
       "      <td>1.000000e+00</td>\n",
       "      <td>2.115000e+03</td>\n",
       "      <td>2027.000000</td>\n",
       "      <td>1.251560e+05</td>\n",
       "      <td>NaN</td>\n",
       "    </tr>\n",
       "  </tbody>\n",
       "</table>\n",
       "</div>"
      ],
      "text/plain": [
       "           tconst titleType primaryTitle originalTitle       isAdult  \\\n",
       "count     1783516   1783516      1783516       1783408  1.783516e+06   \n",
       "unique    1783516         9      1434902       1449134           NaN   \n",
       "top     tt0445882     short         Home          Home           NaN   \n",
       "freq            1    676930          306           294           NaN   \n",
       "mean          NaN       NaN          NaN           NaN  5.114841e-02   \n",
       "std           NaN       NaN          NaN           NaN  2.203004e-01   \n",
       "min           NaN       NaN          NaN           NaN  0.000000e+00   \n",
       "25%           NaN       NaN          NaN           NaN  0.000000e+00   \n",
       "50%           NaN       NaN          NaN           NaN  0.000000e+00   \n",
       "75%           NaN       NaN          NaN           NaN  0.000000e+00   \n",
       "max           NaN       NaN          NaN           NaN  1.000000e+00   \n",
       "\n",
       "           startYear       endYear  runtimeMinutes   genres  \n",
       "count   1.694982e+06  47795.000000    1.093869e+06  1661968  \n",
       "unique           NaN           NaN             NaN     2225  \n",
       "top              NaN           NaN             NaN    Drama  \n",
       "freq             NaN           NaN             NaN   130137  \n",
       "mean    1.993789e+03   2001.114719    5.000369e+01      NaN  \n",
       "std     3.030284e+01     16.851629    1.423723e+02      NaN  \n",
       "min     1.874000e+03   1924.000000    0.000000e+00      NaN  \n",
       "25%     1.986000e+03   1992.000000    1.000000e+01      NaN  \n",
       "50%     2.007000e+03   2007.000000    3.000000e+01      NaN  \n",
       "75%     2.014000e+03   2015.000000    8.500000e+01      NaN  \n",
       "max     2.115000e+03   2027.000000    1.251560e+05      NaN  "
      ]
     },
     "execution_count": 9,
     "metadata": {},
     "output_type": "execute_result"
    }
   ],
   "source": [
    "imdb_titles.describe(include=\"all\")"
   ]
  },
  {
   "cell_type": "markdown",
   "metadata": {},
   "source": [
    "Notice that only some columns, to be procise columns with properly recognized numeric type, are reported."
   ]
  },
  {
   "cell_type": "markdown",
   "metadata": {},
   "source": [
    "### Column data types"
   ]
  },
  {
   "cell_type": "code",
   "execution_count": 10,
   "metadata": {},
   "outputs": [
    {
     "data": {
      "text/plain": [
       "tconst             object\n",
       "titleType          object\n",
       "primaryTitle       object\n",
       "originalTitle      object\n",
       "isAdult             int64\n",
       "startYear         float64\n",
       "endYear           float64\n",
       "runtimeMinutes    float64\n",
       "genres             object\n",
       "dtype: object"
      ]
     },
     "execution_count": 10,
     "metadata": {},
     "output_type": "execute_result"
    }
   ],
   "source": [
    "imdb_titles.dtypes"
   ]
  },
  {
   "cell_type": "markdown",
   "metadata": {},
   "source": [
    "Let's investigate some of the columns...\n",
    "\n",
    "**tconst** is probably the key used in the IMDB database. We will get to this later.\n",
    "\n",
    "To analyze **titleType**, we can look at its typical values."
   ]
  },
  {
   "cell_type": "code",
   "execution_count": 11,
   "metadata": {},
   "outputs": [
    {
     "data": {
      "text/plain": [
       "count     1783516\n",
       "unique          9\n",
       "top         short\n",
       "freq       676930\n",
       "Name: titleType, dtype: object"
      ]
     },
     "execution_count": 11,
     "metadata": {},
     "output_type": "execute_result"
    }
   ],
   "source": [
    "imdb_titles.titleType.describe()"
   ]
  },
  {
   "cell_type": "markdown",
   "metadata": {},
   "source": [
    "Not too many different values."
   ]
  },
  {
   "cell_type": "code",
   "execution_count": 12,
   "metadata": {},
   "outputs": [
    {
     "data": {
      "text/plain": [
       "array(['short', 'movie', 'tvMovie', 'tvSeries', 'tvShort', 'tvMiniSeries',\n",
       "       'tvSpecial', 'video', 'videoGame'], dtype=object)"
      ]
     },
     "execution_count": 12,
     "metadata": {},
     "output_type": "execute_result"
    }
   ],
   "source": [
    "imdb_titles.titleType.unique()"
   ]
  },
  {
   "cell_type": "code",
   "execution_count": 13,
   "metadata": {
    "scrolled": true
   },
   "outputs": [
    {
     "data": {
      "text/plain": [
       "short           0.379548\n",
       "movie           0.288561\n",
       "video           0.127603\n",
       "tvSeries        0.091270\n",
       "tvMovie         0.070931\n",
       "tvMiniSeries    0.014339\n",
       "videoGame       0.013070\n",
       "tvSpecial       0.009536\n",
       "tvShort         0.005142\n",
       "Name: titleType, dtype: float64"
      ]
     },
     "execution_count": 13,
     "metadata": {},
     "output_type": "execute_result"
    }
   ],
   "source": [
    "imdb_titles.titleType.value_counts(normalize=True)"
   ]
  },
  {
   "cell_type": "markdown",
   "metadata": {},
   "source": [
    "This column is a very good candidate to turn into a pandas-special, **Categorical** data type. (See https://pandas.pydata.org/pandas-docs/stable/user_guide/categorical.html)"
   ]
  },
  {
   "cell_type": "code",
   "execution_count": 14,
   "metadata": {},
   "outputs": [
    {
     "data": {
      "text/plain": [
       "14268208"
      ]
     },
     "execution_count": 14,
     "metadata": {},
     "output_type": "execute_result"
    }
   ],
   "source": [
    "imdb_titles.titleType.memory_usage()   # ~8 bytes per item"
   ]
  },
  {
   "cell_type": "code",
   "execution_count": 15,
   "metadata": {},
   "outputs": [
    {
     "data": {
      "text/plain": [
       "737053            short\n",
       "817179            short\n",
       "445525            short\n",
       "627256            short\n",
       "1053666    tvMiniSeries\n",
       "849541            video\n",
       "1716539        tvSeries\n",
       "1081416        tvSeries\n",
       "385840            short\n",
       "622763          tvShort\n",
       "Name: titleType, dtype: category\n",
       "Categories (9, object): [movie, short, tvMiniSeries, tvMovie, ..., tvShort, tvSpecial, video, videoGame]"
      ]
     },
     "execution_count": 15,
     "metadata": {},
     "output_type": "execute_result"
    }
   ],
   "source": [
    "title_type = imdb_titles.titleType.astype(\"category\")\n",
    "title_type.sample(10)"
   ]
  },
  {
   "cell_type": "code",
   "execution_count": 16,
   "metadata": {},
   "outputs": [
    {
     "data": {
      "text/plain": [
       "1783988"
      ]
     },
     "execution_count": 16,
     "metadata": {},
     "output_type": "execute_result"
    }
   ],
   "source": [
    "title_type.memory_usage()              # ~1 byte per item"
   ]
  },
  {
   "cell_type": "markdown",
   "metadata": {},
   "source": [
    "**Exercise:** Remember that assigning or replacing a column inside a dataframe works the same way as setting a value inside a dict. Please, replace the original \"titleType\" column with the new Categorical series:"
   ]
  },
  {
   "cell_type": "code",
   "execution_count": 22,
   "metadata": {},
   "outputs": [
    {
     "data": {
      "text/html": [
       "<img src onerror=\"var cell = this.closest('.jp-CodeCell, .cell');var editor = cell.querySelector('.jp-Editor, .input_area');editor.style.background='Bisque';this.parentNode.removeChild(this)\">"
      ],
      "text/plain": [
       "<IPython.core.display.HTML object>"
      ]
     },
     "metadata": {},
     "output_type": "display_data"
    },
    {
     "data": {
      "text/plain": [
       "CategoricalDtype(categories=['movie', 'short', 'tvMiniSeries', 'tvMovie', 'tvSeries',\n",
       "                  'tvShort', 'tvSpecial', 'video', 'videoGame'],\n",
       "                 ordered=False)"
      ]
     },
     "execution_count": 22,
     "metadata": {},
     "output_type": "execute_result"
    }
   ],
   "source": [
    "%exercise\n",
    "\n",
    "imdb_titles.titleType = imdb_titles.titleType.astype(\"category\")\n",
    "imdb_titles.titleType.dtype"
   ]
  },
  {
   "cell_type": "code",
   "execution_count": 23,
   "metadata": {},
   "outputs": [
    {
     "data": {
      "text/html": [
       "<img src onerror=\"var cell = this.closest('.jp-CodeCell, .cell');var editor = cell.querySelector('.jp-Editor, .input_area');editor.style.background='Khaki';this.parentNode.removeChild(this)\">"
      ],
      "text/plain": [
       "<IPython.core.display.HTML object>"
      ]
     },
     "metadata": {},
     "output_type": "display_data"
    }
   ],
   "source": [
    "%validate\n",
    "\n",
    "assert imdb_titles['titleType'].dtype.name == 'category'"
   ]
  },
  {
   "cell_type": "markdown",
   "metadata": {},
   "source": [
    "Pandas is generally quite good at guessing (inferring) number types. \n",
    "You may wonder why `startYear` is float and not int though. \n",
    "This is a consequence of not having an integer nan in numpy. There's been many discussions about this."
   ]
  },
  {
   "cell_type": "code",
   "execution_count": 24,
   "metadata": {},
   "outputs": [
    {
     "data": {
      "text/plain": [
       "dtype('float64')"
      ]
     },
     "execution_count": 24,
     "metadata": {},
     "output_type": "execute_result"
    }
   ],
   "source": [
    "imdb_titles.startYear.dtype"
   ]
  },
  {
   "cell_type": "markdown",
   "metadata": {},
   "source": [
    "`ValueError: Cannot convert non-finite values (NA or inf) to integer` \n",
    " is throw if you try to convert to `int`"
   ]
  },
  {
   "cell_type": "code",
   "execution_count": 25,
   "metadata": {},
   "outputs": [
    {
     "ename": "ValueError",
     "evalue": "Cannot convert non-finite values (NA or inf) to integer",
     "output_type": "error",
     "traceback": [
      "\u001b[0;31m---------------------------------------------------------------------------\u001b[0m",
      "\u001b[0;31mValueError\u001b[0m                                Traceback (most recent call last)",
      "\u001b[0;32m<ipython-input-25-b63e3ee86711>\u001b[0m in \u001b[0;36m<module>\u001b[0;34m\u001b[0m\n\u001b[0;32m----> 1\u001b[0;31m \u001b[0mimdb_titles\u001b[0m\u001b[0;34m.\u001b[0m\u001b[0mstartYear\u001b[0m\u001b[0;34m.\u001b[0m\u001b[0mastype\u001b[0m\u001b[0;34m(\u001b[0m\u001b[0mint\u001b[0m\u001b[0;34m)\u001b[0m\u001b[0;34m\u001b[0m\u001b[0;34m\u001b[0m\u001b[0m\n\u001b[0m",
      "\u001b[0;32m~/.cache/pypoetry/virtualenvs/np-py3.7/lib/python3.7/site-packages/pandas/core/generic.py\u001b[0m in \u001b[0;36mastype\u001b[0;34m(self, dtype, copy, errors, **kwargs)\u001b[0m\n\u001b[1;32m   5689\u001b[0m             \u001b[0;31m# else, only a single dtype is given\u001b[0m\u001b[0;34m\u001b[0m\u001b[0;34m\u001b[0m\u001b[0;34m\u001b[0m\u001b[0m\n\u001b[1;32m   5690\u001b[0m             new_data = self._data.astype(dtype=dtype, copy=copy, errors=errors,\n\u001b[0;32m-> 5691\u001b[0;31m                                          **kwargs)\n\u001b[0m\u001b[1;32m   5692\u001b[0m             \u001b[0;32mreturn\u001b[0m \u001b[0mself\u001b[0m\u001b[0;34m.\u001b[0m\u001b[0m_constructor\u001b[0m\u001b[0;34m(\u001b[0m\u001b[0mnew_data\u001b[0m\u001b[0;34m)\u001b[0m\u001b[0;34m.\u001b[0m\u001b[0m__finalize__\u001b[0m\u001b[0;34m(\u001b[0m\u001b[0mself\u001b[0m\u001b[0;34m)\u001b[0m\u001b[0;34m\u001b[0m\u001b[0;34m\u001b[0m\u001b[0m\n\u001b[1;32m   5693\u001b[0m \u001b[0;34m\u001b[0m\u001b[0m\n",
      "\u001b[0;32m~/.cache/pypoetry/virtualenvs/np-py3.7/lib/python3.7/site-packages/pandas/core/internals/managers.py\u001b[0m in \u001b[0;36mastype\u001b[0;34m(self, dtype, **kwargs)\u001b[0m\n\u001b[1;32m    529\u001b[0m \u001b[0;34m\u001b[0m\u001b[0m\n\u001b[1;32m    530\u001b[0m     \u001b[0;32mdef\u001b[0m \u001b[0mastype\u001b[0m\u001b[0;34m(\u001b[0m\u001b[0mself\u001b[0m\u001b[0;34m,\u001b[0m \u001b[0mdtype\u001b[0m\u001b[0;34m,\u001b[0m \u001b[0;34m**\u001b[0m\u001b[0mkwargs\u001b[0m\u001b[0;34m)\u001b[0m\u001b[0;34m:\u001b[0m\u001b[0;34m\u001b[0m\u001b[0;34m\u001b[0m\u001b[0m\n\u001b[0;32m--> 531\u001b[0;31m         \u001b[0;32mreturn\u001b[0m \u001b[0mself\u001b[0m\u001b[0;34m.\u001b[0m\u001b[0mapply\u001b[0m\u001b[0;34m(\u001b[0m\u001b[0;34m'astype'\u001b[0m\u001b[0;34m,\u001b[0m \u001b[0mdtype\u001b[0m\u001b[0;34m=\u001b[0m\u001b[0mdtype\u001b[0m\u001b[0;34m,\u001b[0m \u001b[0;34m**\u001b[0m\u001b[0mkwargs\u001b[0m\u001b[0;34m)\u001b[0m\u001b[0;34m\u001b[0m\u001b[0;34m\u001b[0m\u001b[0m\n\u001b[0m\u001b[1;32m    532\u001b[0m \u001b[0;34m\u001b[0m\u001b[0m\n\u001b[1;32m    533\u001b[0m     \u001b[0;32mdef\u001b[0m \u001b[0mconvert\u001b[0m\u001b[0;34m(\u001b[0m\u001b[0mself\u001b[0m\u001b[0;34m,\u001b[0m \u001b[0;34m**\u001b[0m\u001b[0mkwargs\u001b[0m\u001b[0;34m)\u001b[0m\u001b[0;34m:\u001b[0m\u001b[0;34m\u001b[0m\u001b[0;34m\u001b[0m\u001b[0m\n",
      "\u001b[0;32m~/.cache/pypoetry/virtualenvs/np-py3.7/lib/python3.7/site-packages/pandas/core/internals/managers.py\u001b[0m in \u001b[0;36mapply\u001b[0;34m(self, f, axes, filter, do_integrity_check, consolidate, **kwargs)\u001b[0m\n\u001b[1;32m    393\u001b[0m                                             copy=align_copy)\n\u001b[1;32m    394\u001b[0m \u001b[0;34m\u001b[0m\u001b[0m\n\u001b[0;32m--> 395\u001b[0;31m             \u001b[0mapplied\u001b[0m \u001b[0;34m=\u001b[0m \u001b[0mgetattr\u001b[0m\u001b[0;34m(\u001b[0m\u001b[0mb\u001b[0m\u001b[0;34m,\u001b[0m \u001b[0mf\u001b[0m\u001b[0;34m)\u001b[0m\u001b[0;34m(\u001b[0m\u001b[0;34m**\u001b[0m\u001b[0mkwargs\u001b[0m\u001b[0;34m)\u001b[0m\u001b[0;34m\u001b[0m\u001b[0;34m\u001b[0m\u001b[0m\n\u001b[0m\u001b[1;32m    396\u001b[0m             \u001b[0mresult_blocks\u001b[0m \u001b[0;34m=\u001b[0m \u001b[0m_extend_blocks\u001b[0m\u001b[0;34m(\u001b[0m\u001b[0mapplied\u001b[0m\u001b[0;34m,\u001b[0m \u001b[0mresult_blocks\u001b[0m\u001b[0;34m)\u001b[0m\u001b[0;34m\u001b[0m\u001b[0;34m\u001b[0m\u001b[0m\n\u001b[1;32m    397\u001b[0m \u001b[0;34m\u001b[0m\u001b[0m\n",
      "\u001b[0;32m~/.cache/pypoetry/virtualenvs/np-py3.7/lib/python3.7/site-packages/pandas/core/internals/blocks.py\u001b[0m in \u001b[0;36mastype\u001b[0;34m(self, dtype, copy, errors, values, **kwargs)\u001b[0m\n\u001b[1;32m    532\u001b[0m     \u001b[0;32mdef\u001b[0m \u001b[0mastype\u001b[0m\u001b[0;34m(\u001b[0m\u001b[0mself\u001b[0m\u001b[0;34m,\u001b[0m \u001b[0mdtype\u001b[0m\u001b[0;34m,\u001b[0m \u001b[0mcopy\u001b[0m\u001b[0;34m=\u001b[0m\u001b[0;32mFalse\u001b[0m\u001b[0;34m,\u001b[0m \u001b[0merrors\u001b[0m\u001b[0;34m=\u001b[0m\u001b[0;34m'raise'\u001b[0m\u001b[0;34m,\u001b[0m \u001b[0mvalues\u001b[0m\u001b[0;34m=\u001b[0m\u001b[0;32mNone\u001b[0m\u001b[0;34m,\u001b[0m \u001b[0;34m**\u001b[0m\u001b[0mkwargs\u001b[0m\u001b[0;34m)\u001b[0m\u001b[0;34m:\u001b[0m\u001b[0;34m\u001b[0m\u001b[0;34m\u001b[0m\u001b[0m\n\u001b[1;32m    533\u001b[0m         return self._astype(dtype, copy=copy, errors=errors, values=values,\n\u001b[0;32m--> 534\u001b[0;31m                             **kwargs)\n\u001b[0m\u001b[1;32m    535\u001b[0m \u001b[0;34m\u001b[0m\u001b[0m\n\u001b[1;32m    536\u001b[0m     def _astype(self, dtype, copy=False, errors='raise', values=None,\n",
      "\u001b[0;32m~/.cache/pypoetry/virtualenvs/np-py3.7/lib/python3.7/site-packages/pandas/core/internals/blocks.py\u001b[0m in \u001b[0;36m_astype\u001b[0;34m(self, dtype, copy, errors, values, **kwargs)\u001b[0m\n\u001b[1;32m    631\u001b[0m \u001b[0;34m\u001b[0m\u001b[0m\n\u001b[1;32m    632\u001b[0m                     \u001b[0;31m# _astype_nansafe works fine with 1-d only\u001b[0m\u001b[0;34m\u001b[0m\u001b[0;34m\u001b[0m\u001b[0;34m\u001b[0m\u001b[0m\n\u001b[0;32m--> 633\u001b[0;31m                     \u001b[0mvalues\u001b[0m \u001b[0;34m=\u001b[0m \u001b[0mastype_nansafe\u001b[0m\u001b[0;34m(\u001b[0m\u001b[0mvalues\u001b[0m\u001b[0;34m.\u001b[0m\u001b[0mravel\u001b[0m\u001b[0;34m(\u001b[0m\u001b[0;34m)\u001b[0m\u001b[0;34m,\u001b[0m \u001b[0mdtype\u001b[0m\u001b[0;34m,\u001b[0m \u001b[0mcopy\u001b[0m\u001b[0;34m=\u001b[0m\u001b[0;32mTrue\u001b[0m\u001b[0;34m)\u001b[0m\u001b[0;34m\u001b[0m\u001b[0;34m\u001b[0m\u001b[0m\n\u001b[0m\u001b[1;32m    634\u001b[0m \u001b[0;34m\u001b[0m\u001b[0m\n\u001b[1;32m    635\u001b[0m                 \u001b[0;31m# TODO(extension)\u001b[0m\u001b[0;34m\u001b[0m\u001b[0;34m\u001b[0m\u001b[0;34m\u001b[0m\u001b[0m\n",
      "\u001b[0;32m~/.cache/pypoetry/virtualenvs/np-py3.7/lib/python3.7/site-packages/pandas/core/dtypes/cast.py\u001b[0m in \u001b[0;36mastype_nansafe\u001b[0;34m(arr, dtype, copy, skipna)\u001b[0m\n\u001b[1;32m    674\u001b[0m \u001b[0;34m\u001b[0m\u001b[0m\n\u001b[1;32m    675\u001b[0m         \u001b[0;32mif\u001b[0m \u001b[0;32mnot\u001b[0m \u001b[0mnp\u001b[0m\u001b[0;34m.\u001b[0m\u001b[0misfinite\u001b[0m\u001b[0;34m(\u001b[0m\u001b[0marr\u001b[0m\u001b[0;34m)\u001b[0m\u001b[0;34m.\u001b[0m\u001b[0mall\u001b[0m\u001b[0;34m(\u001b[0m\u001b[0;34m)\u001b[0m\u001b[0;34m:\u001b[0m\u001b[0;34m\u001b[0m\u001b[0;34m\u001b[0m\u001b[0m\n\u001b[0;32m--> 676\u001b[0;31m             raise ValueError('Cannot convert non-finite values (NA or inf) to '\n\u001b[0m\u001b[1;32m    677\u001b[0m                              'integer')\n\u001b[1;32m    678\u001b[0m \u001b[0;34m\u001b[0m\u001b[0m\n",
      "\u001b[0;31mValueError\u001b[0m: Cannot convert non-finite values (NA or inf) to integer"
     ]
    }
   ],
   "source": [
    "imdb_titles.startYear.astype(int)"
   ]
  },
  {
   "cell_type": "code",
   "execution_count": 26,
   "metadata": {
    "scrolled": true
   },
   "outputs": [
    {
     "data": {
      "text/plain": [
       "1783496    2015\n",
       "1783497    2018\n",
       "1783498     NaN\n",
       "1783499     NaN\n",
       "1783500    2019\n",
       "1783501    2019\n",
       "1783502    2007\n",
       "1783503    2015\n",
       "1783504    2019\n",
       "1783505    2019\n",
       "1783506     NaN\n",
       "1783507    2013\n",
       "1783508    2019\n",
       "1783509    2015\n",
       "1783510    2017\n",
       "1783511    2018\n",
       "1783512    2013\n",
       "1783513    2019\n",
       "1783514    2018\n",
       "1783515    2015\n",
       "Name: startYear, dtype: Int64"
      ]
     },
     "execution_count": 26,
     "metadata": {},
     "output_type": "execute_result"
    }
   ],
   "source": [
    "# To address that, pandas 0.24 Introduced nullable integers\n",
    "imdb_titles.startYear.astype(\"Int64\").tail(20)"
   ]
  },
  {
   "cell_type": "markdown",
   "metadata": {},
   "source": [
    "### Filtering\n",
    "\n",
    "Indexing in pandas Series / DataFrames (`[]`) support also boolean (masked) arrays. These arrays can be obtained by applying boolean operations on them.\n",
    "\n",
    "You can also use standard **comparison operators** like `<`, `<=`, `==`, `>=`, `>`, `!=`. \n",
    "\n",
    "It is possible to perform **logical operators** with boolean series too. But note that `and`, `or`, `not` are keywords. You \n",
    "\n",
    "As an example, find all movies!"
   ]
  },
  {
   "cell_type": "code",
   "execution_count": 27,
   "metadata": {},
   "outputs": [
    {
     "data": {
      "text/plain": [
       "72937       True\n",
       "1595722    False\n",
       "788885     False\n",
       "673605     False\n",
       "1776525    False\n",
       "800039     False\n",
       "721143     False\n",
       "175518      True\n",
       "599358     False\n",
       "300473     False\n",
       "Name: titleType, dtype: bool"
      ]
     },
     "execution_count": 27,
     "metadata": {},
     "output_type": "execute_result"
    }
   ],
   "source": [
    "is_movie = (imdb_titles.titleType == \"movie\")\n",
    "is_movie.sample(10)"
   ]
  },
  {
   "cell_type": "markdown",
   "metadata": {},
   "source": [
    "Now we can directly apply the boolean mask. (Note: This is no magic. You can construct the mask yourself)"
   ]
  },
  {
   "cell_type": "code",
   "execution_count": 28,
   "metadata": {},
   "outputs": [
    {
     "data": {
      "text/html": [
       "<div>\n",
       "<style scoped>\n",
       "    .dataframe tbody tr th:only-of-type {\n",
       "        vertical-align: middle;\n",
       "    }\n",
       "\n",
       "    .dataframe tbody tr th {\n",
       "        vertical-align: top;\n",
       "    }\n",
       "\n",
       "    .dataframe thead th {\n",
       "        text-align: right;\n",
       "    }\n",
       "</style>\n",
       "<table border=\"1\" class=\"dataframe\">\n",
       "  <thead>\n",
       "    <tr style=\"text-align: right;\">\n",
       "      <th></th>\n",
       "      <th>tconst</th>\n",
       "      <th>titleType</th>\n",
       "      <th>primaryTitle</th>\n",
       "      <th>originalTitle</th>\n",
       "      <th>isAdult</th>\n",
       "      <th>startYear</th>\n",
       "      <th>endYear</th>\n",
       "      <th>runtimeMinutes</th>\n",
       "      <th>genres</th>\n",
       "    </tr>\n",
       "  </thead>\n",
       "  <tbody>\n",
       "    <tr>\n",
       "      <th>694538</th>\n",
       "      <td>tt1554924</td>\n",
       "      <td>movie</td>\n",
       "      <td>Canção de Baal</td>\n",
       "      <td>Canção de Baal</td>\n",
       "      <td>0</td>\n",
       "      <td>2007.0</td>\n",
       "      <td>NaN</td>\n",
       "      <td>77.0</td>\n",
       "      <td>Musical</td>\n",
       "    </tr>\n",
       "    <tr>\n",
       "      <th>101087</th>\n",
       "      <td>tt0105077</td>\n",
       "      <td>movie</td>\n",
       "      <td>Over the Line</td>\n",
       "      <td>Out of Control</td>\n",
       "      <td>0</td>\n",
       "      <td>1992.0</td>\n",
       "      <td>NaN</td>\n",
       "      <td>108.0</td>\n",
       "      <td>Drama,Thriller</td>\n",
       "    </tr>\n",
       "    <tr>\n",
       "      <th>72963</th>\n",
       "      <td>tt0075371</td>\n",
       "      <td>movie</td>\n",
       "      <td>A Straight Laced Girl</td>\n",
       "      <td>Une fille cousue de fil blanc</td>\n",
       "      <td>0</td>\n",
       "      <td>1977.0</td>\n",
       "      <td>NaN</td>\n",
       "      <td>103.0</td>\n",
       "      <td>Drama</td>\n",
       "    </tr>\n",
       "    <tr>\n",
       "      <th>1150784</th>\n",
       "      <td>tt4072396</td>\n",
       "      <td>movie</td>\n",
       "      <td>The Search for Count Dante</td>\n",
       "      <td>The Search for Count Dante</td>\n",
       "      <td>0</td>\n",
       "      <td>2015.0</td>\n",
       "      <td>NaN</td>\n",
       "      <td>90.0</td>\n",
       "      <td>Action</td>\n",
       "    </tr>\n",
       "    <tr>\n",
       "      <th>523710</th>\n",
       "      <td>tt0967479</td>\n",
       "      <td>movie</td>\n",
       "      <td>Agla anam agla</td>\n",
       "      <td>Agla anam agla</td>\n",
       "      <td>0</td>\n",
       "      <td>1986.0</td>\n",
       "      <td>NaN</td>\n",
       "      <td>NaN</td>\n",
       "      <td>None</td>\n",
       "    </tr>\n",
       "    <tr>\n",
       "      <th>1128575</th>\n",
       "      <td>tt3881710</td>\n",
       "      <td>movie</td>\n",
       "      <td>The Legacy of Nonviolent Movements in Iran</td>\n",
       "      <td>The Legacy of Nonviolent Movements in Iran</td>\n",
       "      <td>0</td>\n",
       "      <td>2011.0</td>\n",
       "      <td>NaN</td>\n",
       "      <td>50.0</td>\n",
       "      <td>Documentary</td>\n",
       "    </tr>\n",
       "    <tr>\n",
       "      <th>395498</th>\n",
       "      <td>tt0421230</td>\n",
       "      <td>movie</td>\n",
       "      <td>New York Drag</td>\n",
       "      <td>New York Drag</td>\n",
       "      <td>0</td>\n",
       "      <td>2004.0</td>\n",
       "      <td>NaN</td>\n",
       "      <td>48.0</td>\n",
       "      <td>Documentary</td>\n",
       "    </tr>\n",
       "    <tr>\n",
       "      <th>116729</th>\n",
       "      <td>tt0121871</td>\n",
       "      <td>movie</td>\n",
       "      <td>White Crane Woman</td>\n",
       "      <td>White Crane Woman</td>\n",
       "      <td>0</td>\n",
       "      <td>NaN</td>\n",
       "      <td>NaN</td>\n",
       "      <td>NaN</td>\n",
       "      <td>None</td>\n",
       "    </tr>\n",
       "    <tr>\n",
       "      <th>178984</th>\n",
       "      <td>tt0188800</td>\n",
       "      <td>movie</td>\n",
       "      <td>Kôkishin</td>\n",
       "      <td>Kôkishin</td>\n",
       "      <td>0</td>\n",
       "      <td>1995.0</td>\n",
       "      <td>NaN</td>\n",
       "      <td>NaN</td>\n",
       "      <td>None</td>\n",
       "    </tr>\n",
       "    <tr>\n",
       "      <th>1778178</th>\n",
       "      <td>tt9854664</td>\n",
       "      <td>movie</td>\n",
       "      <td>Love Crazy</td>\n",
       "      <td>Love Crazy</td>\n",
       "      <td>0</td>\n",
       "      <td>NaN</td>\n",
       "      <td>NaN</td>\n",
       "      <td>NaN</td>\n",
       "      <td>None</td>\n",
       "    </tr>\n",
       "  </tbody>\n",
       "</table>\n",
       "</div>"
      ],
      "text/plain": [
       "            tconst titleType                                primaryTitle  \\\n",
       "694538   tt1554924     movie                              Canção de Baal   \n",
       "101087   tt0105077     movie                               Over the Line   \n",
       "72963    tt0075371     movie                       A Straight Laced Girl   \n",
       "1150784  tt4072396     movie                  The Search for Count Dante   \n",
       "523710   tt0967479     movie                              Agla anam agla   \n",
       "1128575  tt3881710     movie  The Legacy of Nonviolent Movements in Iran   \n",
       "395498   tt0421230     movie                               New York Drag   \n",
       "116729   tt0121871     movie                           White Crane Woman   \n",
       "178984   tt0188800     movie                                    Kôkishin   \n",
       "1778178  tt9854664     movie                                  Love Crazy   \n",
       "\n",
       "                                      originalTitle  isAdult  startYear  \\\n",
       "694538                               Canção de Baal        0     2007.0   \n",
       "101087                               Out of Control        0     1992.0   \n",
       "72963                 Une fille cousue de fil blanc        0     1977.0   \n",
       "1150784                  The Search for Count Dante        0     2015.0   \n",
       "523710                               Agla anam agla        0     1986.0   \n",
       "1128575  The Legacy of Nonviolent Movements in Iran        0     2011.0   \n",
       "395498                                New York Drag        0     2004.0   \n",
       "116729                            White Crane Woman        0        NaN   \n",
       "178984                                     Kôkishin        0     1995.0   \n",
       "1778178                                  Love Crazy        0        NaN   \n",
       "\n",
       "         endYear  runtimeMinutes          genres  \n",
       "694538       NaN            77.0         Musical  \n",
       "101087       NaN           108.0  Drama,Thriller  \n",
       "72963        NaN           103.0           Drama  \n",
       "1150784      NaN            90.0          Action  \n",
       "523710       NaN             NaN            None  \n",
       "1128575      NaN            50.0     Documentary  \n",
       "395498       NaN            48.0     Documentary  \n",
       "116729       NaN             NaN            None  \n",
       "178984       NaN             NaN            None  \n",
       "1778178      NaN             NaN            None  "
      ]
     },
     "execution_count": 28,
     "metadata": {},
     "output_type": "execute_result"
    }
   ],
   "source": [
    "imdb_titles[is_movie].sample(10)"
   ]
  },
  {
   "cell_type": "markdown",
   "metadata": {},
   "source": [
    "Or maybe we should include TV movies as well?"
   ]
  },
  {
   "cell_type": "code",
   "execution_count": 29,
   "metadata": {},
   "outputs": [
    {
     "data": {
      "text/html": [
       "<div>\n",
       "<style scoped>\n",
       "    .dataframe tbody tr th:only-of-type {\n",
       "        vertical-align: middle;\n",
       "    }\n",
       "\n",
       "    .dataframe tbody tr th {\n",
       "        vertical-align: top;\n",
       "    }\n",
       "\n",
       "    .dataframe thead th {\n",
       "        text-align: right;\n",
       "    }\n",
       "</style>\n",
       "<table border=\"1\" class=\"dataframe\">\n",
       "  <thead>\n",
       "    <tr style=\"text-align: right;\">\n",
       "      <th></th>\n",
       "      <th>tconst</th>\n",
       "      <th>titleType</th>\n",
       "      <th>primaryTitle</th>\n",
       "      <th>originalTitle</th>\n",
       "      <th>isAdult</th>\n",
       "      <th>startYear</th>\n",
       "      <th>endYear</th>\n",
       "      <th>runtimeMinutes</th>\n",
       "      <th>genres</th>\n",
       "    </tr>\n",
       "  </thead>\n",
       "  <tbody>\n",
       "    <tr>\n",
       "      <th>1311002</th>\n",
       "      <td>tt5354356</td>\n",
       "      <td>movie</td>\n",
       "      <td>Dropping Pounds</td>\n",
       "      <td>Dropping Pounds</td>\n",
       "      <td>0</td>\n",
       "      <td>NaN</td>\n",
       "      <td>NaN</td>\n",
       "      <td>NaN</td>\n",
       "      <td>Documentary</td>\n",
       "    </tr>\n",
       "    <tr>\n",
       "      <th>388153</th>\n",
       "      <td>tt0413501</td>\n",
       "      <td>movie</td>\n",
       "      <td>Yalancinin mumu</td>\n",
       "      <td>Yalancinin mumu</td>\n",
       "      <td>0</td>\n",
       "      <td>1965.0</td>\n",
       "      <td>NaN</td>\n",
       "      <td>NaN</td>\n",
       "      <td>Comedy</td>\n",
       "    </tr>\n",
       "    <tr>\n",
       "      <th>28990</th>\n",
       "      <td>tt0029485</td>\n",
       "      <td>movie</td>\n",
       "      <td>Riders of the Rockies</td>\n",
       "      <td>Riders of the Rockies</td>\n",
       "      <td>0</td>\n",
       "      <td>1937.0</td>\n",
       "      <td>NaN</td>\n",
       "      <td>56.0</td>\n",
       "      <td>Action,Comedy,Music</td>\n",
       "    </tr>\n",
       "    <tr>\n",
       "      <th>703589</th>\n",
       "      <td>tt1583367</td>\n",
       "      <td>tvMovie</td>\n",
       "      <td>Sonja</td>\n",
       "      <td>Sonja</td>\n",
       "      <td>0</td>\n",
       "      <td>2007.0</td>\n",
       "      <td>NaN</td>\n",
       "      <td>55.0</td>\n",
       "      <td>Drama</td>\n",
       "    </tr>\n",
       "    <tr>\n",
       "      <th>1248786</th>\n",
       "      <td>tt4871050</td>\n",
       "      <td>movie</td>\n",
       "      <td>Walang Patawad!</td>\n",
       "      <td>Walang Patawad!</td>\n",
       "      <td>0</td>\n",
       "      <td>1961.0</td>\n",
       "      <td>NaN</td>\n",
       "      <td>NaN</td>\n",
       "      <td>Action,Thriller</td>\n",
       "    </tr>\n",
       "    <tr>\n",
       "      <th>114550</th>\n",
       "      <td>tt0119321</td>\n",
       "      <td>movie</td>\n",
       "      <td>The Hotel Manor Inn</td>\n",
       "      <td>The Hotel Manor Inn</td>\n",
       "      <td>0</td>\n",
       "      <td>1997.0</td>\n",
       "      <td>NaN</td>\n",
       "      <td>NaN</td>\n",
       "      <td>None</td>\n",
       "    </tr>\n",
       "    <tr>\n",
       "      <th>198634</th>\n",
       "      <td>tt0210263</td>\n",
       "      <td>movie</td>\n",
       "      <td>La royale goumbé</td>\n",
       "      <td>La royale goumbé</td>\n",
       "      <td>0</td>\n",
       "      <td>1958.0</td>\n",
       "      <td>NaN</td>\n",
       "      <td>NaN</td>\n",
       "      <td>None</td>\n",
       "    </tr>\n",
       "    <tr>\n",
       "      <th>232883</th>\n",
       "      <td>tt0247125</td>\n",
       "      <td>movie</td>\n",
       "      <td>Prófugos</td>\n",
       "      <td>Prófugos</td>\n",
       "      <td>0</td>\n",
       "      <td>1940.0</td>\n",
       "      <td>NaN</td>\n",
       "      <td>NaN</td>\n",
       "      <td>None</td>\n",
       "    </tr>\n",
       "    <tr>\n",
       "      <th>1493469</th>\n",
       "      <td>tt6889032</td>\n",
       "      <td>movie</td>\n",
       "      <td>The Cake General</td>\n",
       "      <td>Tårtgeneralen</td>\n",
       "      <td>0</td>\n",
       "      <td>2018.0</td>\n",
       "      <td>NaN</td>\n",
       "      <td>101.0</td>\n",
       "      <td>Comedy,Drama</td>\n",
       "    </tr>\n",
       "    <tr>\n",
       "      <th>312995</th>\n",
       "      <td>tt0332764</td>\n",
       "      <td>tvMovie</td>\n",
       "      <td>Den stundesløse</td>\n",
       "      <td>Den stundesløse</td>\n",
       "      <td>0</td>\n",
       "      <td>1973.0</td>\n",
       "      <td>NaN</td>\n",
       "      <td>125.0</td>\n",
       "      <td>Comedy,Drama</td>\n",
       "    </tr>\n",
       "  </tbody>\n",
       "</table>\n",
       "</div>"
      ],
      "text/plain": [
       "            tconst titleType           primaryTitle          originalTitle  \\\n",
       "1311002  tt5354356     movie        Dropping Pounds        Dropping Pounds   \n",
       "388153   tt0413501     movie        Yalancinin mumu        Yalancinin mumu   \n",
       "28990    tt0029485     movie  Riders of the Rockies  Riders of the Rockies   \n",
       "703589   tt1583367   tvMovie                  Sonja                  Sonja   \n",
       "1248786  tt4871050     movie        Walang Patawad!        Walang Patawad!   \n",
       "114550   tt0119321     movie    The Hotel Manor Inn    The Hotel Manor Inn   \n",
       "198634   tt0210263     movie       La royale goumbé       La royale goumbé   \n",
       "232883   tt0247125     movie               Prófugos               Prófugos   \n",
       "1493469  tt6889032     movie       The Cake General          Tårtgeneralen   \n",
       "312995   tt0332764   tvMovie        Den stundesløse        Den stundesløse   \n",
       "\n",
       "         isAdult  startYear  endYear  runtimeMinutes               genres  \n",
       "1311002        0        NaN      NaN             NaN          Documentary  \n",
       "388153         0     1965.0      NaN             NaN               Comedy  \n",
       "28990          0     1937.0      NaN            56.0  Action,Comedy,Music  \n",
       "703589         0     2007.0      NaN            55.0                Drama  \n",
       "1248786        0     1961.0      NaN             NaN      Action,Thriller  \n",
       "114550         0     1997.0      NaN             NaN                 None  \n",
       "198634         0     1958.0      NaN             NaN                 None  \n",
       "232883         0     1940.0      NaN             NaN                 None  \n",
       "1493469        0     2018.0      NaN           101.0         Comedy,Drama  \n",
       "312995         0     1973.0      NaN           125.0         Comedy,Drama  "
      ]
     },
     "execution_count": 29,
     "metadata": {},
     "output_type": "execute_result"
    }
   ],
   "source": [
    "# isin takes an array of possible values\n",
    "movie_titles = imdb_titles[imdb_titles.titleType.isin([\"movie\", \"tvMovie\"])]\n",
    "movie_titles.sample(10)"
   ]
  },
  {
   "cell_type": "markdown",
   "metadata": {},
   "source": [
    "We may wonder why we have two title-ish columns: originalTitle and primaryTitle."
   ]
  },
  {
   "cell_type": "code",
   "execution_count": 30,
   "metadata": {},
   "outputs": [
    {
     "data": {
      "text/plain": [
       "False    578735\n",
       "True      62426\n",
       "Name: Different title, dtype: int64"
      ]
     },
     "execution_count": 30,
     "metadata": {},
     "output_type": "execute_result"
    }
   ],
   "source": [
    "different_title = (movie_titles.originalTitle != movie_titles.primaryTitle)\n",
    "different_title.name = \"Different title\"   # Series can have names (Note: DataFrames can't)\n",
    "different_title.value_counts()"
   ]
  },
  {
   "cell_type": "code",
   "execution_count": 35,
   "metadata": {},
   "outputs": [
    {
     "data": {
      "text/html": [
       "<div>\n",
       "<style scoped>\n",
       "    .dataframe tbody tr th:only-of-type {\n",
       "        vertical-align: middle;\n",
       "    }\n",
       "\n",
       "    .dataframe tbody tr th {\n",
       "        vertical-align: top;\n",
       "    }\n",
       "\n",
       "    .dataframe thead th {\n",
       "        text-align: right;\n",
       "    }\n",
       "</style>\n",
       "<table border=\"1\" class=\"dataframe\">\n",
       "  <thead>\n",
       "    <tr style=\"text-align: right;\">\n",
       "      <th></th>\n",
       "      <th>tconst</th>\n",
       "      <th>titleType</th>\n",
       "      <th>primaryTitle</th>\n",
       "      <th>originalTitle</th>\n",
       "      <th>isAdult</th>\n",
       "      <th>startYear</th>\n",
       "      <th>endYear</th>\n",
       "      <th>runtimeMinutes</th>\n",
       "      <th>genres</th>\n",
       "    </tr>\n",
       "  </thead>\n",
       "  <tbody>\n",
       "    <tr>\n",
       "      <th>23883</th>\n",
       "      <td>tt0024283</td>\n",
       "      <td>movie</td>\n",
       "      <td>Saturday Nights</td>\n",
       "      <td>Lördagskvällar</td>\n",
       "      <td>0</td>\n",
       "      <td>1933.0</td>\n",
       "      <td>NaN</td>\n",
       "      <td>85.0</td>\n",
       "      <td>Comedy</td>\n",
       "    </tr>\n",
       "    <tr>\n",
       "      <th>1074776</th>\n",
       "      <td>tt3529050</td>\n",
       "      <td>movie</td>\n",
       "      <td>Names Unknown</td>\n",
       "      <td>Perariyathavar</td>\n",
       "      <td>0</td>\n",
       "      <td>2014.0</td>\n",
       "      <td>NaN</td>\n",
       "      <td>110.0</td>\n",
       "      <td>Drama</td>\n",
       "    </tr>\n",
       "    <tr>\n",
       "      <th>97165</th>\n",
       "      <td>tt0100988</td>\n",
       "      <td>movie</td>\n",
       "      <td>Going It Alone</td>\n",
       "      <td>Yksinteoin</td>\n",
       "      <td>0</td>\n",
       "      <td>1990.0</td>\n",
       "      <td>NaN</td>\n",
       "      <td>81.0</td>\n",
       "      <td>Documentary</td>\n",
       "    </tr>\n",
       "    <tr>\n",
       "      <th>831488</th>\n",
       "      <td>tt2041470</td>\n",
       "      <td>movie</td>\n",
       "      <td>Green Days</td>\n",
       "      <td>Sojunghan nare kkum</td>\n",
       "      <td>0</td>\n",
       "      <td>2010.0</td>\n",
       "      <td>NaN</td>\n",
       "      <td>98.0</td>\n",
       "      <td>Animation,Drama,Family</td>\n",
       "    </tr>\n",
       "    <tr>\n",
       "      <th>354378</th>\n",
       "      <td>tt0376536</td>\n",
       "      <td>movie</td>\n",
       "      <td>The Awful Men</td>\n",
       "      <td>Chakawet rejala</td>\n",
       "      <td>0</td>\n",
       "      <td>1966.0</td>\n",
       "      <td>NaN</td>\n",
       "      <td>NaN</td>\n",
       "      <td>None</td>\n",
       "    </tr>\n",
       "    <tr>\n",
       "      <th>79404</th>\n",
       "      <td>tt0082176</td>\n",
       "      <td>movie</td>\n",
       "      <td>Christiane F.</td>\n",
       "      <td>Christiane F. - Wir Kinder vom Bahnhof Zoo</td>\n",
       "      <td>0</td>\n",
       "      <td>1981.0</td>\n",
       "      <td>NaN</td>\n",
       "      <td>138.0</td>\n",
       "      <td>Biography,Drama</td>\n",
       "    </tr>\n",
       "    <tr>\n",
       "      <th>498653</th>\n",
       "      <td>tt0851577</td>\n",
       "      <td>movie</td>\n",
       "      <td>The Island</td>\n",
       "      <td>Ostrov</td>\n",
       "      <td>0</td>\n",
       "      <td>2006.0</td>\n",
       "      <td>NaN</td>\n",
       "      <td>112.0</td>\n",
       "      <td>Drama</td>\n",
       "    </tr>\n",
       "    <tr>\n",
       "      <th>669769</th>\n",
       "      <td>tt1479277</td>\n",
       "      <td>movie</td>\n",
       "      <td>Lao Wu's Oscar</td>\n",
       "      <td>Lao Wu de Aosika</td>\n",
       "      <td>0</td>\n",
       "      <td>2009.0</td>\n",
       "      <td>NaN</td>\n",
       "      <td>100.0</td>\n",
       "      <td>Comedy,Romance</td>\n",
       "    </tr>\n",
       "    <tr>\n",
       "      <th>85963</th>\n",
       "      <td>tt0089100</td>\n",
       "      <td>movie</td>\n",
       "      <td>Erotic Passion</td>\n",
       "      <td>Erotiko pathos</td>\n",
       "      <td>0</td>\n",
       "      <td>1981.0</td>\n",
       "      <td>NaN</td>\n",
       "      <td>96.0</td>\n",
       "      <td>Crime,Drama</td>\n",
       "    </tr>\n",
       "    <tr>\n",
       "      <th>277797</th>\n",
       "      <td>tt0295238</td>\n",
       "      <td>movie</td>\n",
       "      <td>Personal Velocity</td>\n",
       "      <td>Personal Velocity: Three Portraits</td>\n",
       "      <td>0</td>\n",
       "      <td>2002.0</td>\n",
       "      <td>NaN</td>\n",
       "      <td>86.0</td>\n",
       "      <td>Drama,Romance</td>\n",
       "    </tr>\n",
       "  </tbody>\n",
       "</table>\n",
       "</div>"
      ],
      "text/plain": [
       "            tconst titleType       primaryTitle  \\\n",
       "23883    tt0024283     movie    Saturday Nights   \n",
       "1074776  tt3529050     movie      Names Unknown   \n",
       "97165    tt0100988     movie     Going It Alone   \n",
       "831488   tt2041470     movie         Green Days   \n",
       "354378   tt0376536     movie      The Awful Men   \n",
       "79404    tt0082176     movie      Christiane F.   \n",
       "498653   tt0851577     movie         The Island   \n",
       "669769   tt1479277     movie     Lao Wu's Oscar   \n",
       "85963    tt0089100     movie     Erotic Passion   \n",
       "277797   tt0295238     movie  Personal Velocity   \n",
       "\n",
       "                                      originalTitle  isAdult  startYear  \\\n",
       "23883                                Lördagskvällar        0     1933.0   \n",
       "1074776                              Perariyathavar        0     2014.0   \n",
       "97165                                    Yksinteoin        0     1990.0   \n",
       "831488                          Sojunghan nare kkum        0     2010.0   \n",
       "354378                              Chakawet rejala        0     1966.0   \n",
       "79404    Christiane F. - Wir Kinder vom Bahnhof Zoo        0     1981.0   \n",
       "498653                                       Ostrov        0     2006.0   \n",
       "669769                             Lao Wu de Aosika        0     2009.0   \n",
       "85963                                Erotiko pathos        0     1981.0   \n",
       "277797           Personal Velocity: Three Portraits        0     2002.0   \n",
       "\n",
       "         endYear  runtimeMinutes                  genres  \n",
       "23883        NaN            85.0                  Comedy  \n",
       "1074776      NaN           110.0                   Drama  \n",
       "97165        NaN            81.0             Documentary  \n",
       "831488       NaN            98.0  Animation,Drama,Family  \n",
       "354378       NaN             NaN                    None  \n",
       "79404        NaN           138.0         Biography,Drama  \n",
       "498653       NaN           112.0                   Drama  \n",
       "669769       NaN           100.0          Comedy,Romance  \n",
       "85963        NaN            96.0             Crime,Drama  \n",
       "277797       NaN            86.0           Drama,Romance  "
      ]
     },
     "execution_count": 35,
     "metadata": {},
     "output_type": "execute_result"
    }
   ],
   "source": [
    "movie_titles[different_title].sample(10)"
   ]
  },
  {
   "cell_type": "markdown",
   "metadata": {},
   "source": [
    "### Visualization intermezzo\n",
    "\n",
    "Without much further ado, let's create our first plot."
   ]
  },
  {
   "cell_type": "code",
   "execution_count": 36,
   "metadata": {},
   "outputs": [
    {
     "data": {
      "text/plain": [
       "<matplotlib.axes._subplots.AxesSubplot at 0x7f1fe5d4e7f0>"
      ]
     },
     "execution_count": 36,
     "metadata": {},
     "output_type": "execute_result"
    },
    {
     "data": {
      "image/png": "[encoded data removed]",
      "text/plain": [
       "<Figure size 432x288 with 1 Axes>"
      ]
     },
     "metadata": {
      "needs_background": "light"
     },
     "output_type": "display_data"
    }
   ],
   "source": [
    "different_title.value_counts().plot(kind=\"bar\")"
   ]
  },
  {
   "cell_type": "markdown",
   "metadata": {},
   "source": [
    "**Exercise:** Display some random movies that have different original and primary titles."
   ]
  },
  {
   "cell_type": "code",
   "execution_count": 40,
   "metadata": {},
   "outputs": [
    {
     "data": {
      "text/html": [
       "<img src onerror=\"var cell = this.closest('.jp-CodeCell, .cell');var editor = cell.querySelector('.jp-Editor, .input_area');editor.style.background='Bisque';this.parentNode.removeChild(this)\">"
      ],
      "text/plain": [
       "<IPython.core.display.HTML object>"
      ]
     },
     "metadata": {},
     "output_type": "display_data"
    },
    {
     "data": {
      "text/html": [
       "<div>\n",
       "<style scoped>\n",
       "    .dataframe tbody tr th:only-of-type {\n",
       "        vertical-align: middle;\n",
       "    }\n",
       "\n",
       "    .dataframe tbody tr th {\n",
       "        vertical-align: top;\n",
       "    }\n",
       "\n",
       "    .dataframe thead th {\n",
       "        text-align: right;\n",
       "    }\n",
       "</style>\n",
       "<table border=\"1\" class=\"dataframe\">\n",
       "  <thead>\n",
       "    <tr style=\"text-align: right;\">\n",
       "      <th></th>\n",
       "      <th>tconst</th>\n",
       "      <th>titleType</th>\n",
       "      <th>primaryTitle</th>\n",
       "      <th>originalTitle</th>\n",
       "      <th>isAdult</th>\n",
       "      <th>startYear</th>\n",
       "      <th>endYear</th>\n",
       "      <th>runtimeMinutes</th>\n",
       "      <th>genres</th>\n",
       "    </tr>\n",
       "  </thead>\n",
       "  <tbody>\n",
       "    <tr>\n",
       "      <th>185632</th>\n",
       "      <td>tt0196021</td>\n",
       "      <td>movie</td>\n",
       "      <td>Promise to the Unknown One</td>\n",
       "      <td>Promesse à l'inconnue</td>\n",
       "      <td>0</td>\n",
       "      <td>1942.0</td>\n",
       "      <td>NaN</td>\n",
       "      <td>90.0</td>\n",
       "      <td>None</td>\n",
       "    </tr>\n",
       "    <tr>\n",
       "      <th>1088321</th>\n",
       "      <td>tt3615424</td>\n",
       "      <td>movie</td>\n",
       "      <td>Toward Nowa Huta</td>\n",
       "      <td>Richtung Nowa Huta</td>\n",
       "      <td>0</td>\n",
       "      <td>2012.0</td>\n",
       "      <td>NaN</td>\n",
       "      <td>78.0</td>\n",
       "      <td>Documentary</td>\n",
       "    </tr>\n",
       "    <tr>\n",
       "      <th>46247</th>\n",
       "      <td>tt0047085</td>\n",
       "      <td>movie</td>\n",
       "      <td>High and Dry</td>\n",
       "      <td>The 'Maggie'</td>\n",
       "      <td>0</td>\n",
       "      <td>1954.0</td>\n",
       "      <td>NaN</td>\n",
       "      <td>92.0</td>\n",
       "      <td>Comedy</td>\n",
       "    </tr>\n",
       "    <tr>\n",
       "      <th>465975</th>\n",
       "      <td>tt0494993</td>\n",
       "      <td>movie</td>\n",
       "      <td>Tarzan and the Magical Lamp</td>\n",
       "      <td>Tarzan Aur Jadui Chirag</td>\n",
       "      <td>0</td>\n",
       "      <td>1966.0</td>\n",
       "      <td>NaN</td>\n",
       "      <td>NaN</td>\n",
       "      <td>Adventure</td>\n",
       "    </tr>\n",
       "    <tr>\n",
       "      <th>40017</th>\n",
       "      <td>tt0040703</td>\n",
       "      <td>movie</td>\n",
       "      <td>Lost Daughter</td>\n",
       "      <td>Portrait from Life</td>\n",
       "      <td>0</td>\n",
       "      <td>1949.0</td>\n",
       "      <td>NaN</td>\n",
       "      <td>90.0</td>\n",
       "      <td>Drama,Mystery,Thriller</td>\n",
       "    </tr>\n",
       "    <tr>\n",
       "      <th>1031323</th>\n",
       "      <td>tt3212738</td>\n",
       "      <td>movie</td>\n",
       "      <td>Hostage</td>\n",
       "      <td>Jak jsme hráli cáru</td>\n",
       "      <td>0</td>\n",
       "      <td>2014.0</td>\n",
       "      <td>NaN</td>\n",
       "      <td>97.0</td>\n",
       "      <td>Comedy,Drama,History</td>\n",
       "    </tr>\n",
       "    <tr>\n",
       "      <th>60604</th>\n",
       "      <td>tt0062091</td>\n",
       "      <td>movie</td>\n",
       "      <td>The Dance of Death</td>\n",
       "      <td>Paarungen</td>\n",
       "      <td>0</td>\n",
       "      <td>1967.0</td>\n",
       "      <td>NaN</td>\n",
       "      <td>83.0</td>\n",
       "      <td>Drama</td>\n",
       "    </tr>\n",
       "    <tr>\n",
       "      <th>214598</th>\n",
       "      <td>tt0227707</td>\n",
       "      <td>movie</td>\n",
       "      <td>The Girls Aunt</td>\n",
       "      <td>La tía de las muchachas</td>\n",
       "      <td>0</td>\n",
       "      <td>1938.0</td>\n",
       "      <td>NaN</td>\n",
       "      <td>114.0</td>\n",
       "      <td>Comedy,Drama</td>\n",
       "    </tr>\n",
       "    <tr>\n",
       "      <th>593429</th>\n",
       "      <td>tt1209367</td>\n",
       "      <td>movie</td>\n",
       "      <td>The Swimsuit Issue</td>\n",
       "      <td>Allt flyter</td>\n",
       "      <td>0</td>\n",
       "      <td>2008.0</td>\n",
       "      <td>NaN</td>\n",
       "      <td>100.0</td>\n",
       "      <td>Comedy,Drama</td>\n",
       "    </tr>\n",
       "    <tr>\n",
       "      <th>830344</th>\n",
       "      <td>tt2035534</td>\n",
       "      <td>movie</td>\n",
       "      <td>The Olympic Games at Athens, Greece</td>\n",
       "      <td>Jeux olympiques dAthènes</td>\n",
       "      <td>0</td>\n",
       "      <td>1906.0</td>\n",
       "      <td>NaN</td>\n",
       "      <td>NaN</td>\n",
       "      <td>Documentary,Sport</td>\n",
       "    </tr>\n",
       "  </tbody>\n",
       "</table>\n",
       "</div>"
      ],
      "text/plain": [
       "            tconst titleType                         primaryTitle  \\\n",
       "185632   tt0196021     movie           Promise to the Unknown One   \n",
       "1088321  tt3615424     movie                     Toward Nowa Huta   \n",
       "46247    tt0047085     movie                         High and Dry   \n",
       "465975   tt0494993     movie          Tarzan and the Magical Lamp   \n",
       "40017    tt0040703     movie                        Lost Daughter   \n",
       "1031323  tt3212738     movie                              Hostage   \n",
       "60604    tt0062091     movie                   The Dance of Death   \n",
       "214598   tt0227707     movie                       The Girls Aunt   \n",
       "593429   tt1209367     movie                   The Swimsuit Issue   \n",
       "830344   tt2035534     movie  The Olympic Games at Athens, Greece   \n",
       "\n",
       "                    originalTitle  isAdult  startYear  endYear  \\\n",
       "185632      Promesse à l'inconnue        0     1942.0      NaN   \n",
       "1088321        Richtung Nowa Huta        0     2012.0      NaN   \n",
       "46247                The 'Maggie'        0     1954.0      NaN   \n",
       "465975    Tarzan Aur Jadui Chirag        0     1966.0      NaN   \n",
       "40017          Portrait from Life        0     1949.0      NaN   \n",
       "1031323       Jak jsme hráli cáru        0     2014.0      NaN   \n",
       "60604                   Paarungen        0     1967.0      NaN   \n",
       "214598    La tía de las muchachas        0     1938.0      NaN   \n",
       "593429                Allt flyter        0     2008.0      NaN   \n",
       "830344   Jeux olympiques dAthènes        0     1906.0      NaN   \n",
       "\n",
       "         runtimeMinutes                  genres  \n",
       "185632             90.0                    None  \n",
       "1088321            78.0             Documentary  \n",
       "46247              92.0                  Comedy  \n",
       "465975              NaN               Adventure  \n",
       "40017              90.0  Drama,Mystery,Thriller  \n",
       "1031323            97.0    Comedy,Drama,History  \n",
       "60604              83.0                   Drama  \n",
       "214598            114.0            Comedy,Drama  \n",
       "593429            100.0            Comedy,Drama  \n",
       "830344              NaN       Documentary,Sport  "
      ]
     },
     "execution_count": 40,
     "metadata": {},
     "output_type": "execute_result"
    }
   ],
   "source": [
    "%exercise\n",
    "\n",
    "movie_titles[different_title].sample(10)"
   ]
  },
  {
   "cell_type": "markdown",
   "metadata": {},
   "source": [
    "We may also want to get rid of wrong / incomplete data."
   ]
  },
  {
   "cell_type": "code",
   "execution_count": 41,
   "metadata": {},
   "outputs": [
    {
     "data": {
      "text/plain": [
       "2020.0    340\n",
       "2021.0     36\n",
       "2022.0     14\n",
       "2024.0      2\n",
       "2023.0      1\n",
       "2115.0      1\n",
       "2025.0      1\n",
       "Name: startYear, dtype: int64"
      ]
     },
     "execution_count": 41,
     "metadata": {},
     "output_type": "execute_result"
    }
   ],
   "source": [
    "# Movies from the future?\n",
    "imdb_titles[imdb_titles.startYear > 2019].startYear.value_counts()"
   ]
  },
  {
   "cell_type": "code",
   "execution_count": 55,
   "metadata": {},
   "outputs": [
    {
     "name": "stderr",
     "output_type": "stream",
     "text": [
      "/home/zhukovgreen/.cache/pypoetry/virtualenvs/np-py3.7/lib/python3.7/site-packages/ipykernel_launcher.py:1: UserWarning: Boolean Series key will be reindexed to match DataFrame index.\n",
      "  \"\"\"Entry point for launching an IPython kernel.\n"
     ]
    },
    {
     "data": {
      "text/html": [
       "<div>\n",
       "<style scoped>\n",
       "    .dataframe tbody tr th:only-of-type {\n",
       "        vertical-align: middle;\n",
       "    }\n",
       "\n",
       "    .dataframe tbody tr th {\n",
       "        vertical-align: top;\n",
       "    }\n",
       "\n",
       "    .dataframe thead th {\n",
       "        text-align: right;\n",
       "    }\n",
       "</style>\n",
       "<table border=\"1\" class=\"dataframe\">\n",
       "  <thead>\n",
       "    <tr style=\"text-align: right;\">\n",
       "      <th></th>\n",
       "      <th>tconst</th>\n",
       "      <th>titleType</th>\n",
       "      <th>primaryTitle</th>\n",
       "      <th>originalTitle</th>\n",
       "      <th>isAdult</th>\n",
       "      <th>startYear</th>\n",
       "      <th>endYear</th>\n",
       "      <th>runtimeMinutes</th>\n",
       "      <th>genres</th>\n",
       "    </tr>\n",
       "  </thead>\n",
       "  <tbody>\n",
       "    <tr>\n",
       "      <th>980561</th>\n",
       "      <td>tt2832342</td>\n",
       "      <td>tvSeries</td>\n",
       "      <td>Whitlam: The Power and the Passion</td>\n",
       "      <td>Whitlam: The Power and the Passion</td>\n",
       "      <td>0</td>\n",
       "      <td>2013.0</td>\n",
       "      <td>2013.0</td>\n",
       "      <td>115.0</td>\n",
       "      <td>Documentary</td>\n",
       "    </tr>\n",
       "    <tr>\n",
       "      <th>350119</th>\n",
       "      <td>tt0372062</td>\n",
       "      <td>tvSeries</td>\n",
       "      <td>Gary the Rat</td>\n",
       "      <td>Gary the Rat</td>\n",
       "      <td>0</td>\n",
       "      <td>2003.0</td>\n",
       "      <td>2003.0</td>\n",
       "      <td>30.0</td>\n",
       "      <td>Animation,Comedy,Fantasy</td>\n",
       "    </tr>\n",
       "    <tr>\n",
       "      <th>1381202</th>\n",
       "      <td>tt5926494</td>\n",
       "      <td>tvSeries</td>\n",
       "      <td>Extinct</td>\n",
       "      <td>Extinct</td>\n",
       "      <td>0</td>\n",
       "      <td>2017.0</td>\n",
       "      <td>2017.0</td>\n",
       "      <td>52.0</td>\n",
       "      <td>Action,Adventure,Drama</td>\n",
       "    </tr>\n",
       "    <tr>\n",
       "      <th>491766</th>\n",
       "      <td>tt0829445</td>\n",
       "      <td>tvSeries</td>\n",
       "      <td>The Dude Martin Show</td>\n",
       "      <td>The Dude Martin Show</td>\n",
       "      <td>0</td>\n",
       "      <td>1949.0</td>\n",
       "      <td>1951.0</td>\n",
       "      <td>60.0</td>\n",
       "      <td>Music</td>\n",
       "    </tr>\n",
       "    <tr>\n",
       "      <th>1699873</th>\n",
       "      <td>tt8936586</td>\n",
       "      <td>tvMiniSeries</td>\n",
       "      <td>Joseph Plaut plaudert</td>\n",
       "      <td>Joseph Plaut plaudert</td>\n",
       "      <td>0</td>\n",
       "      <td>1963.0</td>\n",
       "      <td>1964.0</td>\n",
       "      <td>15.0</td>\n",
       "      <td>Family</td>\n",
       "    </tr>\n",
       "    <tr>\n",
       "      <th>1338084</th>\n",
       "      <td>tt5595034</td>\n",
       "      <td>tvSeries</td>\n",
       "      <td>Duay Rang Hang Rak</td>\n",
       "      <td>Duay Rang Hang Rak</td>\n",
       "      <td>0</td>\n",
       "      <td>2006.0</td>\n",
       "      <td>2007.0</td>\n",
       "      <td>90.0</td>\n",
       "      <td>Drama</td>\n",
       "    </tr>\n",
       "    <tr>\n",
       "      <th>1642537</th>\n",
       "      <td>tt8329360</td>\n",
       "      <td>tvSeries</td>\n",
       "      <td>Vendredi, si ça me dit!</td>\n",
       "      <td>Vendredi, si ça me dit!</td>\n",
       "      <td>0</td>\n",
       "      <td>2008.0</td>\n",
       "      <td>2008.0</td>\n",
       "      <td>50.0</td>\n",
       "      <td>Talk-Show</td>\n",
       "    </tr>\n",
       "    <tr>\n",
       "      <th>779595</th>\n",
       "      <td>tt1835129</td>\n",
       "      <td>tvSeries</td>\n",
       "      <td>Death Valley</td>\n",
       "      <td>Death Valley</td>\n",
       "      <td>0</td>\n",
       "      <td>2011.0</td>\n",
       "      <td>2011.0</td>\n",
       "      <td>22.0</td>\n",
       "      <td>Comedy,Horror</td>\n",
       "    </tr>\n",
       "    <tr>\n",
       "      <th>97366</th>\n",
       "      <td>tt0101194</td>\n",
       "      <td>tvSeries</td>\n",
       "      <td>Second Thoughts</td>\n",
       "      <td>Second Thoughts</td>\n",
       "      <td>0</td>\n",
       "      <td>1991.0</td>\n",
       "      <td>1994.0</td>\n",
       "      <td>30.0</td>\n",
       "      <td>Comedy</td>\n",
       "    </tr>\n",
       "    <tr>\n",
       "      <th>1529232</th>\n",
       "      <td>tt7207472</td>\n",
       "      <td>tvSeries</td>\n",
       "      <td>Wambidgee</td>\n",
       "      <td>Wambidgee</td>\n",
       "      <td>0</td>\n",
       "      <td>1962.0</td>\n",
       "      <td>1962.0</td>\n",
       "      <td>7.0</td>\n",
       "      <td>Animation,Drama,Fantasy</td>\n",
       "    </tr>\n",
       "  </tbody>\n",
       "</table>\n",
       "</div>"
      ],
      "text/plain": [
       "            tconst     titleType                        primaryTitle  \\\n",
       "980561   tt2832342      tvSeries  Whitlam: The Power and the Passion   \n",
       "350119   tt0372062      tvSeries                        Gary the Rat   \n",
       "1381202  tt5926494      tvSeries                             Extinct   \n",
       "491766   tt0829445      tvSeries                The Dude Martin Show   \n",
       "1699873  tt8936586  tvMiniSeries               Joseph Plaut plaudert   \n",
       "1338084  tt5595034      tvSeries                  Duay Rang Hang Rak   \n",
       "1642537  tt8329360      tvSeries             Vendredi, si ça me dit!   \n",
       "779595   tt1835129      tvSeries                        Death Valley   \n",
       "97366    tt0101194      tvSeries                     Second Thoughts   \n",
       "1529232  tt7207472      tvSeries                           Wambidgee   \n",
       "\n",
       "                              originalTitle  isAdult  startYear  endYear  \\\n",
       "980561   Whitlam: The Power and the Passion        0     2013.0   2013.0   \n",
       "350119                         Gary the Rat        0     2003.0   2003.0   \n",
       "1381202                             Extinct        0     2017.0   2017.0   \n",
       "491766                 The Dude Martin Show        0     1949.0   1951.0   \n",
       "1699873               Joseph Plaut plaudert        0     1963.0   1964.0   \n",
       "1338084                  Duay Rang Hang Rak        0     2006.0   2007.0   \n",
       "1642537             Vendredi, si ça me dit!        0     2008.0   2008.0   \n",
       "779595                         Death Valley        0     2011.0   2011.0   \n",
       "97366                       Second Thoughts        0     1991.0   1994.0   \n",
       "1529232                           Wambidgee        0     1962.0   1962.0   \n",
       "\n",
       "         runtimeMinutes                    genres  \n",
       "980561            115.0               Documentary  \n",
       "350119             30.0  Animation,Comedy,Fantasy  \n",
       "1381202            52.0    Action,Adventure,Drama  \n",
       "491766             60.0                     Music  \n",
       "1699873            15.0                    Family  \n",
       "1338084            90.0                     Drama  \n",
       "1642537            50.0                 Talk-Show  \n",
       "779595             22.0             Comedy,Horror  \n",
       "97366              30.0                    Comedy  \n",
       "1529232             7.0   Animation,Drama,Fantasy  "
      ]
     },
     "execution_count": 55,
     "metadata": {},
     "output_type": "execute_result"
    }
   ],
   "source": [
    "imdb_titles.dropna()[imdb_titles.startYear < 2020].sample(10)"
   ]
  },
  {
   "cell_type": "code",
   "execution_count": 80,
   "metadata": {},
   "outputs": [
    {
     "data": {
      "text/html": [
       "<div>\n",
       "<style scoped>\n",
       "    .dataframe tbody tr th:only-of-type {\n",
       "        vertical-align: middle;\n",
       "    }\n",
       "\n",
       "    .dataframe tbody tr th {\n",
       "        vertical-align: top;\n",
       "    }\n",
       "\n",
       "    .dataframe thead th {\n",
       "        text-align: right;\n",
       "    }\n",
       "</style>\n",
       "<table border=\"1\" class=\"dataframe\">\n",
       "  <thead>\n",
       "    <tr style=\"text-align: right;\">\n",
       "      <th></th>\n",
       "      <th>tconst</th>\n",
       "      <th>titleType</th>\n",
       "      <th>primaryTitle</th>\n",
       "      <th>originalTitle</th>\n",
       "      <th>isAdult</th>\n",
       "      <th>startYear</th>\n",
       "      <th>endYear</th>\n",
       "      <th>runtimeMinutes</th>\n",
       "      <th>genres</th>\n",
       "    </tr>\n",
       "  </thead>\n",
       "  <tbody>\n",
       "  </tbody>\n",
       "</table>\n",
       "</div>"
      ],
      "text/plain": [
       "Empty DataFrame\n",
       "Columns: [tconst, titleType, primaryTitle, originalTitle, isAdult, startYear, endYear, runtimeMinutes, genres]\n",
       "Index: []"
      ]
     },
     "execution_count": 80,
     "metadata": {},
     "output_type": "execute_result"
    }
   ],
   "source": [
    "imdb_titles[imdb_titles.startYear < 2020 & ~imdb_titles.startYear.isna()]"
   ]
  },
  {
   "cell_type": "code",
   "execution_count": 68,
   "metadata": {},
   "outputs": [
    {
     "data": {
      "text/html": [
       "<div>\n",
       "<style scoped>\n",
       "    .dataframe tbody tr th:only-of-type {\n",
       "        vertical-align: middle;\n",
       "    }\n",
       "\n",
       "    .dataframe tbody tr th {\n",
       "        vertical-align: top;\n",
       "    }\n",
       "\n",
       "    .dataframe thead th {\n",
       "        text-align: right;\n",
       "    }\n",
       "</style>\n",
       "<table border=\"1\" class=\"dataframe\">\n",
       "  <thead>\n",
       "    <tr style=\"text-align: right;\">\n",
       "      <th></th>\n",
       "      <th>tconst</th>\n",
       "      <th>titleType</th>\n",
       "      <th>primaryTitle</th>\n",
       "      <th>originalTitle</th>\n",
       "      <th>isAdult</th>\n",
       "      <th>startYear</th>\n",
       "      <th>endYear</th>\n",
       "      <th>runtimeMinutes</th>\n",
       "      <th>genres</th>\n",
       "    </tr>\n",
       "  </thead>\n",
       "  <tbody>\n",
       "    <tr>\n",
       "      <th>44459</th>\n",
       "      <td>tt0045246</td>\n",
       "      <td>short</td>\n",
       "      <td>Torticola contre Frankensberg</td>\n",
       "      <td>Torticola contre Frankensberg</td>\n",
       "      <td>0</td>\n",
       "      <td>NaN</td>\n",
       "      <td>NaN</td>\n",
       "      <td>36.0</td>\n",
       "      <td>Comedy,Sci-Fi,Short</td>\n",
       "    </tr>\n",
       "    <tr>\n",
       "      <th>113817</th>\n",
       "      <td>tt0118530</td>\n",
       "      <td>movie</td>\n",
       "      <td>18</td>\n",
       "      <td>18</td>\n",
       "      <td>0</td>\n",
       "      <td>NaN</td>\n",
       "      <td>NaN</td>\n",
       "      <td>NaN</td>\n",
       "      <td>Romance</td>\n",
       "    </tr>\n",
       "    <tr>\n",
       "      <th>114229</th>\n",
       "      <td>tt0118981</td>\n",
       "      <td>movie</td>\n",
       "      <td>Dil Deewana Maane Na</td>\n",
       "      <td>Dil Deewana Maane Na</td>\n",
       "      <td>0</td>\n",
       "      <td>NaN</td>\n",
       "      <td>NaN</td>\n",
       "      <td>NaN</td>\n",
       "      <td>Drama,Romance</td>\n",
       "    </tr>\n",
       "    <tr>\n",
       "      <th>115677</th>\n",
       "      <td>tt0120589</td>\n",
       "      <td>movie</td>\n",
       "      <td>Arigo</td>\n",
       "      <td>Arigo</td>\n",
       "      <td>0</td>\n",
       "      <td>NaN</td>\n",
       "      <td>NaN</td>\n",
       "      <td>NaN</td>\n",
       "      <td>Drama</td>\n",
       "    </tr>\n",
       "    <tr>\n",
       "      <th>115916</th>\n",
       "      <td>tt0120892</td>\n",
       "      <td>movie</td>\n",
       "      <td>Winding Stair</td>\n",
       "      <td>Winding Stair</td>\n",
       "      <td>0</td>\n",
       "      <td>NaN</td>\n",
       "      <td>NaN</td>\n",
       "      <td>NaN</td>\n",
       "      <td>Thriller</td>\n",
       "    </tr>\n",
       "  </tbody>\n",
       "</table>\n",
       "</div>"
      ],
      "text/plain": [
       "           tconst titleType                   primaryTitle  \\\n",
       "44459   tt0045246     short  Torticola contre Frankensberg   \n",
       "113817  tt0118530     movie                             18   \n",
       "114229  tt0118981     movie           Dil Deewana Maane Na   \n",
       "115677  tt0120589     movie                          Arigo   \n",
       "115916  tt0120892     movie                  Winding Stair   \n",
       "\n",
       "                        originalTitle  isAdult  startYear  endYear  \\\n",
       "44459   Torticola contre Frankensberg        0        NaN      NaN   \n",
       "113817                             18        0        NaN      NaN   \n",
       "114229           Dil Deewana Maane Na        0        NaN      NaN   \n",
       "115677                          Arigo        0        NaN      NaN   \n",
       "115916                  Winding Stair        0        NaN      NaN   \n",
       "\n",
       "        runtimeMinutes               genres  \n",
       "44459             36.0  Comedy,Sci-Fi,Short  \n",
       "113817             NaN              Romance  \n",
       "114229             NaN        Drama,Romance  \n",
       "115677             NaN                Drama  \n",
       "115916             NaN             Thriller  "
      ]
     },
     "execution_count": 68,
     "metadata": {},
     "output_type": "execute_result"
    }
   ],
   "source": [
    "# Movies with startYear undefined\n",
    "imdb_titles[imdb_titles.startYear.isna()].head()"
   ]
  },
  {
   "cell_type": "markdown",
   "metadata": {},
   "source": [
    "**Exercise:** Use the `imdb_titles.startYear > 2019` filter and `dropna` method to get rid of rows with wrong / undefined years."
   ]
  },
  {
   "cell_type": "code",
   "execution_count": null,
   "metadata": {},
   "outputs": [],
   "source": [
    "%exercise\n",
    "\n",
    "imdb_correct_titles = imdb_titles[___].dropna(subset=___)"
   ]
  },
  {
   "cell_type": "code",
   "execution_count": null,
   "metadata": {},
   "outputs": [],
   "source": [
    "%validate\n",
    "\n",
    "assert not (imdb_correct_titles.startYear > 2019).any()\n",
    "assert not imdb_correct_titles.startYear.isna().any()\n",
    "assert imdb_correct_titles.shape == (1694587, 9)"
   ]
  },
  {
   "cell_type": "markdown",
   "metadata": {},
   "source": [
    "**Exercise:** Drop `titleType` and `endYear` columns and rows with `NaN` values (use `dropna`)."
   ]
  },
  {
   "cell_type": "code",
   "execution_count": null,
   "metadata": {},
   "outputs": [],
   "source": [
    "%exercise\n",
    "\n",
    "movie_titles = (movie_titles\n",
    "                .drop(columns=___)\n",
    "                .___\n",
    "                )"
   ]
  },
  {
   "cell_type": "code",
   "execution_count": null,
   "metadata": {},
   "outputs": [],
   "source": [
    "%validate\n",
    "\n",
    "assert not any(result.isna().any())\n",
    "assert sorted(result.columns) == ['genres', 'isAdult', 'originalTitle',  'primaryTitle', \n",
    "                                        'runtimeMinutes', 'startYear', 'tconst']"
   ]
  },
  {
   "cell_type": "markdown",
   "metadata": {},
   "source": [
    "## Sorting"
   ]
  },
  {
   "cell_type": "code",
   "execution_count": 69,
   "metadata": {},
   "outputs": [
    {
     "data": {
      "text/html": [
       "<div>\n",
       "<style scoped>\n",
       "    .dataframe tbody tr th:only-of-type {\n",
       "        vertical-align: middle;\n",
       "    }\n",
       "\n",
       "    .dataframe tbody tr th {\n",
       "        vertical-align: top;\n",
       "    }\n",
       "\n",
       "    .dataframe thead th {\n",
       "        text-align: right;\n",
       "    }\n",
       "</style>\n",
       "<table border=\"1\" class=\"dataframe\">\n",
       "  <thead>\n",
       "    <tr style=\"text-align: right;\">\n",
       "      <th></th>\n",
       "      <th>tconst</th>\n",
       "      <th>titleType</th>\n",
       "      <th>primaryTitle</th>\n",
       "      <th>originalTitle</th>\n",
       "      <th>isAdult</th>\n",
       "      <th>startYear</th>\n",
       "      <th>endYear</th>\n",
       "      <th>runtimeMinutes</th>\n",
       "      <th>genres</th>\n",
       "    </tr>\n",
       "  </thead>\n",
       "  <tbody>\n",
       "    <tr>\n",
       "      <th>1637093</th>\n",
       "      <td>tt8273150</td>\n",
       "      <td>movie</td>\n",
       "      <td>Logistics</td>\n",
       "      <td>Logistics</td>\n",
       "      <td>0</td>\n",
       "      <td>2012.0</td>\n",
       "      <td>NaN</td>\n",
       "      <td>51420.0</td>\n",
       "      <td>Documentary</td>\n",
       "    </tr>\n",
       "    <tr>\n",
       "      <th>960463</th>\n",
       "      <td>tt2659636</td>\n",
       "      <td>movie</td>\n",
       "      <td>Modern Times Forever</td>\n",
       "      <td>Modern Times Forever</td>\n",
       "      <td>0</td>\n",
       "      <td>2011.0</td>\n",
       "      <td>NaN</td>\n",
       "      <td>14400.0</td>\n",
       "      <td>Documentary</td>\n",
       "    </tr>\n",
       "    <tr>\n",
       "      <th>913452</th>\n",
       "      <td>tt2355497</td>\n",
       "      <td>movie</td>\n",
       "      <td>Beijing 2003</td>\n",
       "      <td>Beijing 2003</td>\n",
       "      <td>0</td>\n",
       "      <td>2004.0</td>\n",
       "      <td>NaN</td>\n",
       "      <td>9000.0</td>\n",
       "      <td>Documentary</td>\n",
       "    </tr>\n",
       "    <tr>\n",
       "      <th>1559278</th>\n",
       "      <td>tt7492094</td>\n",
       "      <td>movie</td>\n",
       "      <td>Nari</td>\n",
       "      <td>Nari</td>\n",
       "      <td>0</td>\n",
       "      <td>2017.0</td>\n",
       "      <td>NaN</td>\n",
       "      <td>6017.0</td>\n",
       "      <td>Documentary</td>\n",
       "    </tr>\n",
       "    <tr>\n",
       "      <th>1272030</th>\n",
       "      <td>tt5068890</td>\n",
       "      <td>movie</td>\n",
       "      <td>Hunger!</td>\n",
       "      <td>Hunger!</td>\n",
       "      <td>0</td>\n",
       "      <td>2015.0</td>\n",
       "      <td>NaN</td>\n",
       "      <td>6000.0</td>\n",
       "      <td>Documentary,Drama</td>\n",
       "    </tr>\n",
       "  </tbody>\n",
       "</table>\n",
       "</div>"
      ],
      "text/plain": [
       "            tconst titleType          primaryTitle         originalTitle  \\\n",
       "1637093  tt8273150     movie             Logistics             Logistics   \n",
       "960463   tt2659636     movie  Modern Times Forever  Modern Times Forever   \n",
       "913452   tt2355497     movie          Beijing 2003          Beijing 2003   \n",
       "1559278  tt7492094     movie                  Nari                  Nari   \n",
       "1272030  tt5068890     movie               Hunger!               Hunger!   \n",
       "\n",
       "         isAdult  startYear  endYear  runtimeMinutes             genres  \n",
       "1637093        0     2012.0      NaN         51420.0        Documentary  \n",
       "960463         0     2011.0      NaN         14400.0        Documentary  \n",
       "913452         0     2004.0      NaN          9000.0        Documentary  \n",
       "1559278        0     2017.0      NaN          6017.0        Documentary  \n",
       "1272030        0     2015.0      NaN          6000.0  Documentary,Drama  "
      ]
     },
     "execution_count": 69,
     "metadata": {},
     "output_type": "execute_result"
    }
   ],
   "source": [
    "# Display 5 longest movies \n",
    "movie_titles.sort_values(\"runtimeMinutes\", ascending=False).head()"
   ]
  },
  {
   "cell_type": "markdown",
   "metadata": {},
   "source": [
    "Hmm, let's look at *Modern Times Forever* - an apt title :)"
   ]
  },
  {
   "cell_type": "code",
   "execution_count": 70,
   "metadata": {},
   "outputs": [
    {
     "data": {
      "text/html": [
       "\n",
       "        <iframe\n",
       "            width=\"900\"\n",
       "            height=\"400\"\n",
       "            src=\"https://en.wikipedia.org/wiki/Modern_Times_Forever_(Stora_Enso_Building,_Helsinki)\"\n",
       "            frameborder=\"0\"\n",
       "            allowfullscreen\n",
       "        ></iframe>\n",
       "        "
      ],
      "text/plain": [
       "<IPython.lib.display.IFrame at 0x7f1ff9cb7400>"
      ]
     },
     "execution_count": 70,
     "metadata": {},
     "output_type": "execute_result"
    }
   ],
   "source": [
    "IFrame(\n",
    "    src=\"https://en.wikipedia.org/wiki/Modern_Times_Forever_(Stora_Enso_Building,_Helsinki)\",\n",
    "    width=900,\n",
    "    height=400,\n",
    ")"
   ]
  },
  {
   "cell_type": "code",
   "execution_count": 71,
   "metadata": {},
   "outputs": [
    {
     "data": {
      "text/html": [
       "<div>\n",
       "<style scoped>\n",
       "    .dataframe tbody tr th:only-of-type {\n",
       "        vertical-align: middle;\n",
       "    }\n",
       "\n",
       "    .dataframe tbody tr th {\n",
       "        vertical-align: top;\n",
       "    }\n",
       "\n",
       "    .dataframe thead th {\n",
       "        text-align: right;\n",
       "    }\n",
       "</style>\n",
       "<table border=\"1\" class=\"dataframe\">\n",
       "  <thead>\n",
       "    <tr style=\"text-align: right;\">\n",
       "      <th></th>\n",
       "      <th>tconst</th>\n",
       "      <th>titleType</th>\n",
       "      <th>primaryTitle</th>\n",
       "      <th>originalTitle</th>\n",
       "      <th>isAdult</th>\n",
       "      <th>startYear</th>\n",
       "      <th>endYear</th>\n",
       "      <th>runtimeMinutes</th>\n",
       "      <th>genres</th>\n",
       "    </tr>\n",
       "  </thead>\n",
       "  <tbody>\n",
       "    <tr>\n",
       "      <th>1637093</th>\n",
       "      <td>tt8273150</td>\n",
       "      <td>movie</td>\n",
       "      <td>Logistics</td>\n",
       "      <td>Logistics</td>\n",
       "      <td>0</td>\n",
       "      <td>2012.0</td>\n",
       "      <td>NaN</td>\n",
       "      <td>51420.0</td>\n",
       "      <td>Documentary</td>\n",
       "    </tr>\n",
       "    <tr>\n",
       "      <th>960463</th>\n",
       "      <td>tt2659636</td>\n",
       "      <td>movie</td>\n",
       "      <td>Modern Times Forever</td>\n",
       "      <td>Modern Times Forever</td>\n",
       "      <td>0</td>\n",
       "      <td>2011.0</td>\n",
       "      <td>NaN</td>\n",
       "      <td>14400.0</td>\n",
       "      <td>Documentary</td>\n",
       "    </tr>\n",
       "    <tr>\n",
       "      <th>913452</th>\n",
       "      <td>tt2355497</td>\n",
       "      <td>movie</td>\n",
       "      <td>Beijing 2003</td>\n",
       "      <td>Beijing 2003</td>\n",
       "      <td>0</td>\n",
       "      <td>2004.0</td>\n",
       "      <td>NaN</td>\n",
       "      <td>9000.0</td>\n",
       "      <td>Documentary</td>\n",
       "    </tr>\n",
       "    <tr>\n",
       "      <th>1559278</th>\n",
       "      <td>tt7492094</td>\n",
       "      <td>movie</td>\n",
       "      <td>Nari</td>\n",
       "      <td>Nari</td>\n",
       "      <td>0</td>\n",
       "      <td>2017.0</td>\n",
       "      <td>NaN</td>\n",
       "      <td>6017.0</td>\n",
       "      <td>Documentary</td>\n",
       "    </tr>\n",
       "    <tr>\n",
       "      <th>1272030</th>\n",
       "      <td>tt5068890</td>\n",
       "      <td>movie</td>\n",
       "      <td>Hunger!</td>\n",
       "      <td>Hunger!</td>\n",
       "      <td>0</td>\n",
       "      <td>2015.0</td>\n",
       "      <td>NaN</td>\n",
       "      <td>6000.0</td>\n",
       "      <td>Documentary,Drama</td>\n",
       "    </tr>\n",
       "  </tbody>\n",
       "</table>\n",
       "</div>"
      ],
      "text/plain": [
       "            tconst titleType          primaryTitle         originalTitle  \\\n",
       "1637093  tt8273150     movie             Logistics             Logistics   \n",
       "960463   tt2659636     movie  Modern Times Forever  Modern Times Forever   \n",
       "913452   tt2355497     movie          Beijing 2003          Beijing 2003   \n",
       "1559278  tt7492094     movie                  Nari                  Nari   \n",
       "1272030  tt5068890     movie               Hunger!               Hunger!   \n",
       "\n",
       "         isAdult  startYear  endYear  runtimeMinutes             genres  \n",
       "1637093        0     2012.0      NaN         51420.0        Documentary  \n",
       "960463         0     2011.0      NaN         14400.0        Documentary  \n",
       "913452         0     2004.0      NaN          9000.0        Documentary  \n",
       "1559278        0     2017.0      NaN          6017.0        Documentary  \n",
       "1272030        0     2015.0      NaN          6000.0  Documentary,Drama  "
      ]
     },
     "execution_count": 71,
     "metadata": {},
     "output_type": "execute_result"
    }
   ],
   "source": [
    "# Alternative\n",
    "movie_titles.nlargest(5, \"runtimeMinutes\")"
   ]
  },
  {
   "cell_type": "markdown",
   "metadata": {},
   "source": [
    "**Exercise:** Find the 10 oldest movies that are longer than 2 hours"
   ]
  },
  {
   "cell_type": "code",
   "execution_count": null,
   "metadata": {},
   "outputs": [],
   "source": [
    "%exercise\n",
    "\n",
    "result = movie_titles[___].___(___, ___)\n",
    "result"
   ]
  },
  {
   "cell_type": "code",
   "execution_count": null,
   "metadata": {},
   "outputs": [],
   "source": [
    "%validate\n",
    "\n",
    "assert result.iloc[9][\"startYear\"] == 1914"
   ]
  },
  {
   "cell_type": "code",
   "execution_count": 72,
   "metadata": {},
   "outputs": [
    {
     "data": {
      "text/html": [
       "<div>\n",
       "<style scoped>\n",
       "    .dataframe tbody tr th:only-of-type {\n",
       "        vertical-align: middle;\n",
       "    }\n",
       "\n",
       "    .dataframe tbody tr th {\n",
       "        vertical-align: top;\n",
       "    }\n",
       "\n",
       "    .dataframe thead th {\n",
       "        text-align: right;\n",
       "    }\n",
       "</style>\n",
       "<table border=\"1\" class=\"dataframe\">\n",
       "  <thead>\n",
       "    <tr style=\"text-align: right;\">\n",
       "      <th></th>\n",
       "      <th>tconst</th>\n",
       "      <th>titleType</th>\n",
       "      <th>primaryTitle</th>\n",
       "      <th>originalTitle</th>\n",
       "      <th>isAdult</th>\n",
       "      <th>startYear</th>\n",
       "      <th>endYear</th>\n",
       "      <th>runtimeMinutes</th>\n",
       "      <th>genres</th>\n",
       "    </tr>\n",
       "  </thead>\n",
       "  <tbody>\n",
       "    <tr>\n",
       "      <th>80173</th>\n",
       "      <td>tt0082971</td>\n",
       "      <td>movie</td>\n",
       "      <td>Indiana Jones and the Raiders of the Lost Ark</td>\n",
       "      <td>Raiders of the Lost Ark</td>\n",
       "      <td>0</td>\n",
       "      <td>1981.0</td>\n",
       "      <td>NaN</td>\n",
       "      <td>115.0</td>\n",
       "      <td>Action,Adventure</td>\n",
       "    </tr>\n",
       "    <tr>\n",
       "      <th>84429</th>\n",
       "      <td>tt0087469</td>\n",
       "      <td>movie</td>\n",
       "      <td>Indiana Jones and the Temple of Doom</td>\n",
       "      <td>Indiana Jones and the Temple of Doom</td>\n",
       "      <td>0</td>\n",
       "      <td>1984.0</td>\n",
       "      <td>NaN</td>\n",
       "      <td>118.0</td>\n",
       "      <td>Action,Adventure</td>\n",
       "    </tr>\n",
       "    <tr>\n",
       "      <th>93943</th>\n",
       "      <td>tt0097576</td>\n",
       "      <td>movie</td>\n",
       "      <td>Indiana Jones and the Last Crusade</td>\n",
       "      <td>Indiana Jones and the Last Crusade</td>\n",
       "      <td>0</td>\n",
       "      <td>1989.0</td>\n",
       "      <td>NaN</td>\n",
       "      <td>127.0</td>\n",
       "      <td>Action,Adventure</td>\n",
       "    </tr>\n",
       "    <tr>\n",
       "      <th>346174</th>\n",
       "      <td>tt0367882</td>\n",
       "      <td>movie</td>\n",
       "      <td>Indiana Jones and the Kingdom of the Crystal S...</td>\n",
       "      <td>Indiana Jones and the Kingdom of the Crystal S...</td>\n",
       "      <td>0</td>\n",
       "      <td>2008.0</td>\n",
       "      <td>NaN</td>\n",
       "      <td>122.0</td>\n",
       "      <td>Action,Adventure</td>\n",
       "    </tr>\n",
       "    <tr>\n",
       "      <th>538286</th>\n",
       "      <td>tt10075650</td>\n",
       "      <td>movie</td>\n",
       "      <td>Indiana Jones and the Sanctuary of the Black O...</td>\n",
       "      <td>Indiana Jones and the Sanctuary of the Black O...</td>\n",
       "      <td>0</td>\n",
       "      <td>2019.0</td>\n",
       "      <td>NaN</td>\n",
       "      <td>100.0</td>\n",
       "      <td>Action,Adventure,Romance</td>\n",
       "    </tr>\n",
       "    <tr>\n",
       "      <th>720746</th>\n",
       "      <td>tt1639457</td>\n",
       "      <td>movie</td>\n",
       "      <td>Indiana Jones und der Speer des Schicksals</td>\n",
       "      <td>Indiana Jones und der Speer des Schicksals</td>\n",
       "      <td>0</td>\n",
       "      <td>2010.0</td>\n",
       "      <td>NaN</td>\n",
       "      <td>66.0</td>\n",
       "      <td>Action,Adventure</td>\n",
       "    </tr>\n",
       "    <tr>\n",
       "      <th>1184334</th>\n",
       "      <td>tt4337946</td>\n",
       "      <td>movie</td>\n",
       "      <td>Indiana Jones and the Legend of Bimini</td>\n",
       "      <td>Indiana Jones and the Legend of Bimini</td>\n",
       "      <td>0</td>\n",
       "      <td>2014.0</td>\n",
       "      <td>NaN</td>\n",
       "      <td>65.0</td>\n",
       "      <td>Action</td>\n",
       "    </tr>\n",
       "    <tr>\n",
       "      <th>1194828</th>\n",
       "      <td>tt4432124</td>\n",
       "      <td>movie</td>\n",
       "      <td>Indiana Jones and the Secret of the Apalachee</td>\n",
       "      <td>Indiana Jones and the Secret of the Apalachee</td>\n",
       "      <td>0</td>\n",
       "      <td>2011.0</td>\n",
       "      <td>NaN</td>\n",
       "      <td>50.0</td>\n",
       "      <td>None</td>\n",
       "    </tr>\n",
       "    <tr>\n",
       "      <th>1516684</th>\n",
       "      <td>tt7097828</td>\n",
       "      <td>movie</td>\n",
       "      <td>Indiana Jones and the Chronicle of Peace</td>\n",
       "      <td>Indiana Jones and the Chronicle of Peace</td>\n",
       "      <td>0</td>\n",
       "      <td>NaN</td>\n",
       "      <td>NaN</td>\n",
       "      <td>NaN</td>\n",
       "      <td>Action,Adventure</td>\n",
       "    </tr>\n",
       "    <tr>\n",
       "      <th>1646583</th>\n",
       "      <td>tt8370876</td>\n",
       "      <td>movie</td>\n",
       "      <td>Indiana Jones and the Crown of Thorns</td>\n",
       "      <td>Indiana Jones and the Crown of Thorns</td>\n",
       "      <td>0</td>\n",
       "      <td>2018.0</td>\n",
       "      <td>NaN</td>\n",
       "      <td>54.0</td>\n",
       "      <td>Adventure</td>\n",
       "    </tr>\n",
       "  </tbody>\n",
       "</table>\n",
       "</div>"
      ],
      "text/plain": [
       "             tconst titleType  \\\n",
       "80173     tt0082971     movie   \n",
       "84429     tt0087469     movie   \n",
       "93943     tt0097576     movie   \n",
       "346174    tt0367882     movie   \n",
       "538286   tt10075650     movie   \n",
       "720746    tt1639457     movie   \n",
       "1184334   tt4337946     movie   \n",
       "1194828   tt4432124     movie   \n",
       "1516684   tt7097828     movie   \n",
       "1646583   tt8370876     movie   \n",
       "\n",
       "                                              primaryTitle  \\\n",
       "80173        Indiana Jones and the Raiders of the Lost Ark   \n",
       "84429                 Indiana Jones and the Temple of Doom   \n",
       "93943                   Indiana Jones and the Last Crusade   \n",
       "346174   Indiana Jones and the Kingdom of the Crystal S...   \n",
       "538286   Indiana Jones and the Sanctuary of the Black O...   \n",
       "720746          Indiana Jones und der Speer des Schicksals   \n",
       "1184334             Indiana Jones and the Legend of Bimini   \n",
       "1194828      Indiana Jones and the Secret of the Apalachee   \n",
       "1516684           Indiana Jones and the Chronicle of Peace   \n",
       "1646583              Indiana Jones and the Crown of Thorns   \n",
       "\n",
       "                                             originalTitle  isAdult  \\\n",
       "80173                              Raiders of the Lost Ark        0   \n",
       "84429                 Indiana Jones and the Temple of Doom        0   \n",
       "93943                   Indiana Jones and the Last Crusade        0   \n",
       "346174   Indiana Jones and the Kingdom of the Crystal S...        0   \n",
       "538286   Indiana Jones and the Sanctuary of the Black O...        0   \n",
       "720746          Indiana Jones und der Speer des Schicksals        0   \n",
       "1184334             Indiana Jones and the Legend of Bimini        0   \n",
       "1194828      Indiana Jones and the Secret of the Apalachee        0   \n",
       "1516684           Indiana Jones and the Chronicle of Peace        0   \n",
       "1646583              Indiana Jones and the Crown of Thorns        0   \n",
       "\n",
       "         startYear  endYear  runtimeMinutes                    genres  \n",
       "80173       1981.0      NaN           115.0          Action,Adventure  \n",
       "84429       1984.0      NaN           118.0          Action,Adventure  \n",
       "93943       1989.0      NaN           127.0          Action,Adventure  \n",
       "346174      2008.0      NaN           122.0          Action,Adventure  \n",
       "538286      2019.0      NaN           100.0  Action,Adventure,Romance  \n",
       "720746      2010.0      NaN            66.0          Action,Adventure  \n",
       "1184334     2014.0      NaN            65.0                    Action  \n",
       "1194828     2011.0      NaN            50.0                      None  \n",
       "1516684        NaN      NaN             NaN          Action,Adventure  \n",
       "1646583     2018.0      NaN            54.0                 Adventure  "
      ]
     },
     "execution_count": 72,
     "metadata": {},
     "output_type": "execute_result"
    }
   ],
   "source": [
    "movie_titles[(movie_titles[\"primaryTitle\"].str.startswith(\"Indiana Jones\")) & (movie_titles[\"titleType\"] == \"movie\")]"
   ]
  },
  {
   "cell_type": "markdown",
   "metadata": {},
   "source": [
    "## Arithmetics and string manipulation"
   ]
  },
  {
   "cell_type": "markdown",
   "metadata": {},
   "source": [
    "Standard **arithmetic operators** work on numerical columms too. And so do mathematical functions. Note all such operations are performed in a vector-like fashion."
   ]
  },
  {
   "cell_type": "code",
   "execution_count": 73,
   "metadata": {},
   "outputs": [
    {
     "data": {
      "text/html": [
       "<div>\n",
       "<style scoped>\n",
       "    .dataframe tbody tr th:only-of-type {\n",
       "        vertical-align: middle;\n",
       "    }\n",
       "\n",
       "    .dataframe tbody tr th {\n",
       "        vertical-align: top;\n",
       "    }\n",
       "\n",
       "    .dataframe thead th {\n",
       "        text-align: right;\n",
       "    }\n",
       "</style>\n",
       "<table border=\"1\" class=\"dataframe\">\n",
       "  <thead>\n",
       "    <tr style=\"text-align: right;\">\n",
       "      <th></th>\n",
       "      <th>originalTitle</th>\n",
       "      <th>startYear</th>\n",
       "      <th>age</th>\n",
       "    </tr>\n",
       "  </thead>\n",
       "  <tbody>\n",
       "    <tr>\n",
       "      <th>196616</th>\n",
       "      <td>Los desarraigados</td>\n",
       "      <td>1976.0</td>\n",
       "      <td>43.0</td>\n",
       "    </tr>\n",
       "    <tr>\n",
       "      <th>1400675</th>\n",
       "      <td>Casi leyendas</td>\n",
       "      <td>2017.0</td>\n",
       "      <td>2.0</td>\n",
       "    </tr>\n",
       "    <tr>\n",
       "      <th>569077</th>\n",
       "      <td>Mari 17</td>\n",
       "      <td>1990.0</td>\n",
       "      <td>29.0</td>\n",
       "    </tr>\n",
       "    <tr>\n",
       "      <th>960503</th>\n",
       "      <td>Gudu</td>\n",
       "      <td>2013.0</td>\n",
       "      <td>6.0</td>\n",
       "    </tr>\n",
       "    <tr>\n",
       "      <th>366156</th>\n",
       "      <td>Maze</td>\n",
       "      <td>1997.0</td>\n",
       "      <td>22.0</td>\n",
       "    </tr>\n",
       "    <tr>\n",
       "      <th>929464</th>\n",
       "      <td>Dømmer ikke</td>\n",
       "      <td>1919.0</td>\n",
       "      <td>100.0</td>\n",
       "    </tr>\n",
       "    <tr>\n",
       "      <th>288961</th>\n",
       "      <td>Portrait of God</td>\n",
       "      <td>2001.0</td>\n",
       "      <td>18.0</td>\n",
       "    </tr>\n",
       "    <tr>\n",
       "      <th>788039</th>\n",
       "      <td>Off Beat</td>\n",
       "      <td>2011.0</td>\n",
       "      <td>8.0</td>\n",
       "    </tr>\n",
       "    <tr>\n",
       "      <th>1616471</th>\n",
       "      <td>Let There Be Drums!</td>\n",
       "      <td>NaN</td>\n",
       "      <td>NaN</td>\n",
       "    </tr>\n",
       "    <tr>\n",
       "      <th>34935</th>\n",
       "      <td>We'll Meet Again</td>\n",
       "      <td>1943.0</td>\n",
       "      <td>76.0</td>\n",
       "    </tr>\n",
       "    <tr>\n",
       "      <th>488800</th>\n",
       "      <td>Faustbook</td>\n",
       "      <td>2006.0</td>\n",
       "      <td>13.0</td>\n",
       "    </tr>\n",
       "    <tr>\n",
       "      <th>1083239</th>\n",
       "      <td>Dan Carrillo/Alex Topete Wedding Untitled Project</td>\n",
       "      <td>NaN</td>\n",
       "      <td>NaN</td>\n",
       "    </tr>\n",
       "    <tr>\n",
       "      <th>866818</th>\n",
       "      <td>No Better Place to Die</td>\n",
       "      <td>NaN</td>\n",
       "      <td>NaN</td>\n",
       "    </tr>\n",
       "    <tr>\n",
       "      <th>1473338</th>\n",
       "      <td>Untitled Ru Paul Project</td>\n",
       "      <td>NaN</td>\n",
       "      <td>NaN</td>\n",
       "    </tr>\n",
       "    <tr>\n",
       "      <th>1510400</th>\n",
       "      <td>Savage Attack</td>\n",
       "      <td>NaN</td>\n",
       "      <td>NaN</td>\n",
       "    </tr>\n",
       "    <tr>\n",
       "      <th>1540376</th>\n",
       "      <td>Habbilni Ha Nirbah</td>\n",
       "      <td>2018.0</td>\n",
       "      <td>1.0</td>\n",
       "    </tr>\n",
       "    <tr>\n",
       "      <th>1419689</th>\n",
       "      <td>Electric Amazon</td>\n",
       "      <td>2015.0</td>\n",
       "      <td>4.0</td>\n",
       "    </tr>\n",
       "    <tr>\n",
       "      <th>570300</th>\n",
       "      <td>Gôzen no adaûchi kanetani goro</td>\n",
       "      <td>1918.0</td>\n",
       "      <td>101.0</td>\n",
       "    </tr>\n",
       "    <tr>\n",
       "      <th>1036785</th>\n",
       "      <td>The Good Son</td>\n",
       "      <td>2012.0</td>\n",
       "      <td>7.0</td>\n",
       "    </tr>\n",
       "    <tr>\n",
       "      <th>996160</th>\n",
       "      <td>Millefeuille</td>\n",
       "      <td>2012.0</td>\n",
       "      <td>7.0</td>\n",
       "    </tr>\n",
       "  </tbody>\n",
       "</table>\n",
       "</div>"
      ],
      "text/plain": [
       "                                             originalTitle  startYear    age\n",
       "196616                                   Los desarraigados     1976.0   43.0\n",
       "1400675                                      Casi leyendas     2017.0    2.0\n",
       "569077                                             Mari 17     1990.0   29.0\n",
       "960503                                                Gudu     2013.0    6.0\n",
       "366156                                                Maze     1997.0   22.0\n",
       "929464                                         Dømmer ikke     1919.0  100.0\n",
       "288961                                     Portrait of God     2001.0   18.0\n",
       "788039                                            Off Beat     2011.0    8.0\n",
       "1616471                                Let There Be Drums!        NaN    NaN\n",
       "34935                                     We'll Meet Again     1943.0   76.0\n",
       "488800                                           Faustbook     2006.0   13.0\n",
       "1083239  Dan Carrillo/Alex Topete Wedding Untitled Project        NaN    NaN\n",
       "866818                              No Better Place to Die        NaN    NaN\n",
       "1473338                           Untitled Ru Paul Project        NaN    NaN\n",
       "1510400                                      Savage Attack        NaN    NaN\n",
       "1540376                                 Habbilni Ha Nirbah     2018.0    1.0\n",
       "1419689                                    Electric Amazon     2015.0    4.0\n",
       "570300                      Gôzen no adaûchi kanetani goro     1918.0  101.0\n",
       "1036785                                       The Good Son     2012.0    7.0\n",
       "996160                                        Millefeuille     2012.0    7.0"
      ]
     },
     "execution_count": 73,
     "metadata": {},
     "output_type": "execute_result"
    }
   ],
   "source": [
    "movie_titles[[\"originalTitle\", \"startYear\"]].assign(age = 2019 - movie_titles[\"startYear\"]).sample(20)"
   ]
  },
  {
   "cell_type": "markdown",
   "metadata": {},
   "source": [
    "**Exercise:** Calculate the length of movies in hours."
   ]
  },
  {
   "cell_type": "code",
   "execution_count": null,
   "metadata": {},
   "outputs": [],
   "source": [
    "%exercise\n",
    "\n",
    "result = movie_titles[[\"originalTitle\", \"runtimeMinutes\"]].assign(... = ...)\n",
    "result.sample(10)"
   ]
  },
  {
   "cell_type": "code",
   "execution_count": null,
   "metadata": {},
   "outputs": [],
   "source": [
    "%validate\n",
    "\n",
    "assert result.iloc[0][\"hours\"] == 0.75"
   ]
  },
  {
   "cell_type": "code",
   "execution_count": 79,
   "metadata": {},
   "outputs": [
    {
     "data": {
      "text/plain": [
       "1700440         NaN\n",
       "447653     0.202150\n",
       "1585833         NaN\n",
       "1003092    0.994827\n",
       "1518590         NaN\n",
       "256635          NaN\n",
       "16392      0.994827\n",
       "581443     0.513978\n",
       "805210          NaN\n",
       "300175    -0.176076\n",
       "Name: runtimeMinutes, dtype: float64"
      ]
     },
     "execution_count": 79,
     "metadata": {},
     "output_type": "execute_result"
    }
   ],
   "source": [
    "# If only the following had any sense!\n",
    "np.sin(movie_titles[\"runtimeMinutes\"]).sample(10)"
   ]
  },
  {
   "cell_type": "markdown",
   "metadata": {},
   "source": [
    "### Summary statistics\n",
    "\n",
    "Note that the following methods return scalars"
   ]
  },
  {
   "cell_type": "code",
   "execution_count": 76,
   "metadata": {},
   "outputs": [
    {
     "data": {
      "text/plain": [
       "85.29042253731454"
      ]
     },
     "execution_count": 76,
     "metadata": {},
     "output_type": "execute_result"
    }
   ],
   "source": [
    "# Average length of the movies\n",
    "movie_titles[\"runtimeMinutes\"].mean()"
   ]
  },
  {
   "cell_type": "code",
   "execution_count": 77,
   "metadata": {},
   "outputs": [
    {
     "data": {
      "text/plain": [
       "95.34197126375825"
      ]
     },
     "execution_count": 77,
     "metadata": {},
     "output_type": "execute_result"
    }
   ],
   "source": [
    "# Standard deviation\n",
    "movie_titles[\"runtimeMinutes\"].std()"
   ]
  },
  {
   "cell_type": "code",
   "execution_count": 78,
   "metadata": {},
   "outputs": [
    {
     "data": {
      "text/plain": [
       "2115.0"
      ]
     },
     "execution_count": 78,
     "metadata": {},
     "output_type": "execute_result"
    }
   ],
   "source": [
    "movie_titles[\"startYear\"].max()"
   ]
  },
  {
   "cell_type": "markdown",
   "metadata": {},
   "source": [
    "**Exercise:** How many years would it take to watch all movies in the catalogue?"
   ]
  },
  {
   "cell_type": "code",
   "execution_count": null,
   "metadata": {},
   "outputs": [],
   "source": [
    "%exercise\n",
    "result = movie_titles[\"runtimeMinutes\"] ...\n",
    "result"
   ]
  },
  {
   "cell_type": "code",
   "execution_count": 75,
   "metadata": {},
   "outputs": [
    {
     "data": {
      "text/html": [
       "<img src onerror=\"var cell = this.closest('.jp-CodeCell, .cell');var editor = cell.querySelector('.jp-Editor, .input_area');editor.style.background='Khaki';this.parentNode.removeChild(this)\">"
      ],
      "text/plain": [
       "<IPython.core.display.HTML object>"
      ]
     },
     "metadata": {},
     "output_type": "display_data"
    },
    {
     "ename": "NameError",
     "evalue": "name 'result' is not defined",
     "output_type": "error",
     "traceback": [
      "\u001b[0;31m---------------------------------------------------------------------------\u001b[0m",
      "\u001b[0;31mNameError\u001b[0m                                 Traceback (most recent call last)",
      "\u001b[0;32m<ipython-input-75-97e5e12dd249>\u001b[0m in \u001b[0;36m<module>\u001b[0;34m\u001b[0m\n\u001b[1;32m      1\u001b[0m \u001b[0mget_ipython\u001b[0m\u001b[0;34m(\u001b[0m\u001b[0;34m)\u001b[0m\u001b[0;34m.\u001b[0m\u001b[0mrun_line_magic\u001b[0m\u001b[0;34m(\u001b[0m\u001b[0;34m'validate'\u001b[0m\u001b[0;34m,\u001b[0m \u001b[0;34m''\u001b[0m\u001b[0;34m)\u001b[0m\u001b[0;34m\u001b[0m\u001b[0;34m\u001b[0m\u001b[0m\n\u001b[1;32m      2\u001b[0m \u001b[0;34m\u001b[0m\u001b[0m\n\u001b[0;32m----> 3\u001b[0;31m \u001b[0;32massert\u001b[0m \u001b[0mnp\u001b[0m\u001b[0;34m.\u001b[0m\u001b[0mround\u001b[0m\u001b[0;34m(\u001b[0m\u001b[0mresult\u001b[0m\u001b[0;34m,\u001b[0m \u001b[0;36m3\u001b[0m\u001b[0;34m)\u001b[0m \u001b[0;34m==\u001b[0m \u001b[0;36m65.154\u001b[0m\u001b[0;34m\u001b[0m\u001b[0;34m\u001b[0m\u001b[0m\n\u001b[0m",
      "\u001b[0;31mNameError\u001b[0m: name 'result' is not defined"
     ]
    }
   ],
   "source": [
    "%validate\n",
    "\n",
    "assert np.round(result, 3) == 65.154"
   ]
  },
  {
   "cell_type": "markdown",
   "metadata": {},
   "source": [
    "### Basic string operations\n",
    "\n",
    "These are typically accessed using the `.str` \"accessor\" of the Series like this:\n",
    "    \n",
    "- series.str.lower\n",
    "- series.str.split\n",
    "- series.str.startswith\n",
    "- series.str.contains\n",
    "- ..."
   ]
  },
  {
   "cell_type": "code",
   "execution_count": 74,
   "metadata": {},
   "outputs": [
    {
     "data": {
      "text/html": [
       "<div>\n",
       "<style scoped>\n",
       "    .dataframe tbody tr th:only-of-type {\n",
       "        vertical-align: middle;\n",
       "    }\n",
       "\n",
       "    .dataframe tbody tr th {\n",
       "        vertical-align: top;\n",
       "    }\n",
       "\n",
       "    .dataframe thead th {\n",
       "        text-align: right;\n",
       "    }\n",
       "</style>\n",
       "<table border=\"1\" class=\"dataframe\">\n",
       "  <thead>\n",
       "    <tr style=\"text-align: right;\">\n",
       "      <th></th>\n",
       "      <th>tconst</th>\n",
       "      <th>titleType</th>\n",
       "      <th>primaryTitle</th>\n",
       "      <th>originalTitle</th>\n",
       "      <th>isAdult</th>\n",
       "      <th>startYear</th>\n",
       "      <th>endYear</th>\n",
       "      <th>runtimeMinutes</th>\n",
       "      <th>genres</th>\n",
       "    </tr>\n",
       "  </thead>\n",
       "  <tbody>\n",
       "    <tr>\n",
       "      <th>74269</th>\n",
       "      <td>tt0076759</td>\n",
       "      <td>movie</td>\n",
       "      <td>Star Wars: Episode IV - A New Hope</td>\n",
       "      <td>Star Wars</td>\n",
       "      <td>0</td>\n",
       "      <td>1977.0</td>\n",
       "      <td>NaN</td>\n",
       "      <td>121.0</td>\n",
       "      <td>Action,Adventure,Fantasy</td>\n",
       "    </tr>\n",
       "    <tr>\n",
       "      <th>77992</th>\n",
       "      <td>tt0080684</td>\n",
       "      <td>movie</td>\n",
       "      <td>Star Wars: Episode V - The Empire Strikes Back</td>\n",
       "      <td>Star Wars: Episode V - The Empire Strikes Back</td>\n",
       "      <td>0</td>\n",
       "      <td>1980.0</td>\n",
       "      <td>NaN</td>\n",
       "      <td>124.0</td>\n",
       "      <td>Action,Adventure,Fantasy</td>\n",
       "    </tr>\n",
       "    <tr>\n",
       "      <th>83221</th>\n",
       "      <td>tt0086190</td>\n",
       "      <td>movie</td>\n",
       "      <td>Star Wars: Episode VI - Return of the Jedi</td>\n",
       "      <td>Star Wars: Episode VI - Return of the Jedi</td>\n",
       "      <td>0</td>\n",
       "      <td>1983.0</td>\n",
       "      <td>NaN</td>\n",
       "      <td>131.0</td>\n",
       "      <td>Action,Adventure,Fantasy</td>\n",
       "    </tr>\n",
       "    <tr>\n",
       "      <th>115929</th>\n",
       "      <td>tt0120915</td>\n",
       "      <td>movie</td>\n",
       "      <td>Star Wars: Episode I - The Phantom Menace</td>\n",
       "      <td>Star Wars: Episode I - The Phantom Menace</td>\n",
       "      <td>0</td>\n",
       "      <td>1999.0</td>\n",
       "      <td>NaN</td>\n",
       "      <td>136.0</td>\n",
       "      <td>Action,Adventure,Fantasy</td>\n",
       "    </tr>\n",
       "    <tr>\n",
       "      <th>116640</th>\n",
       "      <td>tt0121765</td>\n",
       "      <td>movie</td>\n",
       "      <td>Star Wars: Episode II - Attack of the Clones</td>\n",
       "      <td>Star Wars: Episode II - Attack of the Clones</td>\n",
       "      <td>0</td>\n",
       "      <td>2002.0</td>\n",
       "      <td>NaN</td>\n",
       "      <td>142.0</td>\n",
       "      <td>Action,Adventure,Fantasy</td>\n",
       "    </tr>\n",
       "    <tr>\n",
       "      <th>116641</th>\n",
       "      <td>tt0121766</td>\n",
       "      <td>movie</td>\n",
       "      <td>Star Wars: Episode III - Revenge of the Sith</td>\n",
       "      <td>Star Wars: Episode III - Revenge of the Sith</td>\n",
       "      <td>0</td>\n",
       "      <td>2005.0</td>\n",
       "      <td>NaN</td>\n",
       "      <td>140.0</td>\n",
       "      <td>Action,Adventure,Fantasy</td>\n",
       "    </tr>\n",
       "    <tr>\n",
       "      <th>938394</th>\n",
       "      <td>tt2488496</td>\n",
       "      <td>movie</td>\n",
       "      <td>Star Wars: Episode VII - The Force Awakens</td>\n",
       "      <td>Star Wars: Episode VII - The Force Awakens</td>\n",
       "      <td>0</td>\n",
       "      <td>2015.0</td>\n",
       "      <td>NaN</td>\n",
       "      <td>136.0</td>\n",
       "      <td>Action,Adventure,Fantasy</td>\n",
       "    </tr>\n",
       "    <tr>\n",
       "      <th>943257</th>\n",
       "      <td>tt2527336</td>\n",
       "      <td>movie</td>\n",
       "      <td>Star Wars: Episode VIII - The Last Jedi</td>\n",
       "      <td>Star Wars: Episode VIII - The Last Jedi</td>\n",
       "      <td>0</td>\n",
       "      <td>2017.0</td>\n",
       "      <td>NaN</td>\n",
       "      <td>152.0</td>\n",
       "      <td>Action,Adventure,Fantasy</td>\n",
       "    </tr>\n",
       "    <tr>\n",
       "      <th>943258</th>\n",
       "      <td>tt2527338</td>\n",
       "      <td>movie</td>\n",
       "      <td>Star Wars: Episode IX</td>\n",
       "      <td>Star Wars: Episode IX</td>\n",
       "      <td>0</td>\n",
       "      <td>2019.0</td>\n",
       "      <td>NaN</td>\n",
       "      <td>NaN</td>\n",
       "      <td>Action,Adventure,Fantasy</td>\n",
       "    </tr>\n",
       "    <tr>\n",
       "      <th>1654283</th>\n",
       "      <td>tt8452558</td>\n",
       "      <td>movie</td>\n",
       "      <td>Star Wars: Episode 1½: A Deadly Interception</td>\n",
       "      <td>Star Wars: Episode 1½: A Deadly Interception</td>\n",
       "      <td>0</td>\n",
       "      <td>2007.0</td>\n",
       "      <td>NaN</td>\n",
       "      <td>48.0</td>\n",
       "      <td>Action,Adventure,Fantasy</td>\n",
       "    </tr>\n",
       "  </tbody>\n",
       "</table>\n",
       "</div>"
      ],
      "text/plain": [
       "            tconst titleType                                    primaryTitle  \\\n",
       "74269    tt0076759     movie              Star Wars: Episode IV - A New Hope   \n",
       "77992    tt0080684     movie  Star Wars: Episode V - The Empire Strikes Back   \n",
       "83221    tt0086190     movie      Star Wars: Episode VI - Return of the Jedi   \n",
       "115929   tt0120915     movie       Star Wars: Episode I - The Phantom Menace   \n",
       "116640   tt0121765     movie    Star Wars: Episode II - Attack of the Clones   \n",
       "116641   tt0121766     movie    Star Wars: Episode III - Revenge of the Sith   \n",
       "938394   tt2488496     movie      Star Wars: Episode VII - The Force Awakens   \n",
       "943257   tt2527336     movie         Star Wars: Episode VIII - The Last Jedi   \n",
       "943258   tt2527338     movie                           Star Wars: Episode IX   \n",
       "1654283  tt8452558     movie    Star Wars: Episode 1½: A Deadly Interception   \n",
       "\n",
       "                                          originalTitle  isAdult  startYear  \\\n",
       "74269                                         Star Wars        0     1977.0   \n",
       "77992    Star Wars: Episode V - The Empire Strikes Back        0     1980.0   \n",
       "83221        Star Wars: Episode VI - Return of the Jedi        0     1983.0   \n",
       "115929        Star Wars: Episode I - The Phantom Menace        0     1999.0   \n",
       "116640     Star Wars: Episode II - Attack of the Clones        0     2002.0   \n",
       "116641     Star Wars: Episode III - Revenge of the Sith        0     2005.0   \n",
       "938394       Star Wars: Episode VII - The Force Awakens        0     2015.0   \n",
       "943257          Star Wars: Episode VIII - The Last Jedi        0     2017.0   \n",
       "943258                            Star Wars: Episode IX        0     2019.0   \n",
       "1654283    Star Wars: Episode 1½: A Deadly Interception        0     2007.0   \n",
       "\n",
       "         endYear  runtimeMinutes                    genres  \n",
       "74269        NaN           121.0  Action,Adventure,Fantasy  \n",
       "77992        NaN           124.0  Action,Adventure,Fantasy  \n",
       "83221        NaN           131.0  Action,Adventure,Fantasy  \n",
       "115929       NaN           136.0  Action,Adventure,Fantasy  \n",
       "116640       NaN           142.0  Action,Adventure,Fantasy  \n",
       "116641       NaN           140.0  Action,Adventure,Fantasy  \n",
       "938394       NaN           136.0  Action,Adventure,Fantasy  \n",
       "943257       NaN           152.0  Action,Adventure,Fantasy  \n",
       "943258       NaN             NaN  Action,Adventure,Fantasy  \n",
       "1654283      NaN            48.0  Action,Adventure,Fantasy  "
      ]
     },
     "execution_count": 74,
     "metadata": {},
     "output_type": "execute_result"
    }
   ],
   "source": [
    "movie_titles[(movie_titles[\"primaryTitle\"].str.startswith(\"Star Wars: Episode\")) & (movie_titles[\"titleType\"] == \"movie\")]"
   ]
  },
  {
   "cell_type": "markdown",
   "metadata": {},
   "source": [
    "**Exercise:** Find all Pink Panther movies. Note that their title does not necessarily start with \"Pink\""
   ]
  },
  {
   "cell_type": "code",
   "execution_count": null,
   "metadata": {},
   "outputs": [],
   "source": [
    "%exercise\n",
    "\n",
    "is_pink = ...\n",
    "pink = movie_titles[is_pink]\n",
    "pink"
   ]
  },
  {
   "cell_type": "code",
   "execution_count": null,
   "metadata": {},
   "outputs": [],
   "source": [
    "%validate\n",
    "\n",
    "assert pink.shape[0] == 14"
   ]
  },
  {
   "cell_type": "code",
   "execution_count": null,
   "metadata": {},
   "outputs": [],
   "source": [
    "# String arithmetics work too!\n",
    "url = \"https://www.imdb.com/title/\" + movie_titles[\"tconst\"]\n",
    "movie_titles[[\"primaryTitle\"]].assign(url=url).sample(10)"
   ]
  },
  {
   "cell_type": "markdown",
   "metadata": {},
   "source": [
    "Let's investigate the genres a bit:"
   ]
  },
  {
   "cell_type": "code",
   "execution_count": null,
   "metadata": {},
   "outputs": [],
   "source": [
    "split_genres = movie_titles.genres.str.split(\",\").dropna()\n",
    "split_genres.sample(10)"
   ]
  },
  {
   "cell_type": "code",
   "execution_count": null,
   "metadata": {},
   "outputs": [],
   "source": [
    "genres = {genre for row in split_genres.iteritems() for genre in row[1]}"
   ]
  },
  {
   "cell_type": "code",
   "execution_count": null,
   "metadata": {},
   "outputs": [],
   "source": [
    "genres"
   ]
  },
  {
   "cell_type": "code",
   "execution_count": null,
   "metadata": {},
   "outputs": [],
   "source": [
    "# \"One-hot\" encoding of genres\n",
    "movie_with_genres = movie_titles[['primaryTitle']].assign(\n",
    "    **{genre : movie_titles.genres.str.contains(genre) * 1 for genre in genres}\n",
    ")\n",
    "movie_with_genres.sample(10)"
   ]
  },
  {
   "cell_type": "code",
   "execution_count": null,
   "metadata": {},
   "outputs": [],
   "source": [
    "genre_counts = movie_with_genres[movie_with_genres == 1].iloc[:,1:].count()\n",
    "genre_counts"
   ]
  },
  {
   "cell_type": "code",
   "execution_count": null,
   "metadata": {},
   "outputs": [],
   "source": [
    "genre_counts.plot(kind=\"bar\")"
   ]
  },
  {
   "cell_type": "code",
   "execution_count": null,
   "metadata": {},
   "outputs": [],
   "source": [
    "movie_titles[\"startYear\"].plot(kind=\"hist\")"
   ]
  },
  {
   "cell_type": "markdown",
   "metadata": {},
   "source": [
    "We see the one outlier and in general, the plots are not so nice. Being explicit sometimes helps."
   ]
  },
  {
   "cell_type": "code",
   "execution_count": null,
   "metadata": {},
   "outputs": [],
   "source": [
    "ax = movie_titles[\"startYear\"].plot(kind=\"hist\", bins=23, range=(1890, 2020))"
   ]
  },
  {
   "cell_type": "markdown",
   "metadata": {},
   "source": [
    "No movies before 1900 / 1910? Really? Let's check:"
   ]
  },
  {
   "cell_type": "code",
   "execution_count": null,
   "metadata": {},
   "outputs": [],
   "source": [
    "ax = movie_titles[\"startYear\"].plot(kind=\"hist\", bins=23, range=(1890, 2020))\n",
    "ax.set_yscale(\"log\")"
   ]
  },
  {
   "cell_type": "markdown",
   "metadata": {},
   "source": [
    "**Exercise:** Plot a histogram of runtime minutes (limiting to a reasonable range)."
   ]
  },
  {
   "cell_type": "code",
   "execution_count": null,
   "metadata": {},
   "outputs": [],
   "source": [
    "%exercise\n",
    "\n",
    "movie_titles[___].plot(___)"
   ]
  },
  {
   "cell_type": "code",
   "execution_count": null,
   "metadata": {},
   "outputs": [],
   "source": [
    "# Note: this is something that could be mor easily done with .groupby operation\n",
    "average_genre_length = (movie_with_genres.iloc[:,1:].apply(lambda s: s * movie_titles[\"runtimeMinutes\"])).sum() / genre_counts"
   ]
  },
  {
   "cell_type": "code",
   "execution_count": null,
   "metadata": {},
   "outputs": [],
   "source": [
    "average_genre_length"
   ]
  },
  {
   "cell_type": "markdown",
   "metadata": {},
   "source": [
    "**Exercise:** Sort the genres from the longest to shortest and visualize them using a bar plot."
   ]
  },
  {
   "cell_type": "code",
   "execution_count": null,
   "metadata": {},
   "outputs": [],
   "source": [
    "%exercise\n",
    "\n",
    "___.___.plot(___)"
   ]
  },
  {
   "cell_type": "markdown",
   "metadata": {},
   "source": [
    "**Exercise**: Find proper filters for the Lord of the Rings trilogy. Note that you will probably need to combine more conditions (multiple solutions possible)."
   ]
  },
  {
   "cell_type": "code",
   "execution_count": null,
   "metadata": {},
   "outputs": [],
   "source": [
    "%exercise\n",
    "\n",
    "is_lotr = ...\n",
    "is_real_lotr = is_lotr & \n",
    "\n",
    "movie_titles[is_real_lotr]"
   ]
  },
  {
   "cell_type": "markdown",
   "metadata": {},
   "source": [
    "**Exercise**: What is longer? The Lord of the Rings trilogy or The Hobbit \"trilogy\"?\n",
    "\n",
    "Use the previous as a base to find the Hobbit movies. Then calculate the total length of each trio."
   ]
  },
  {
   "cell_type": "code",
   "execution_count": null,
   "metadata": {},
   "outputs": [],
   "source": [
    "%exercise\n",
    "\n",
    "is_hobbit = ...\n",
    "is_real_hobbit = ...\n",
    "\n",
    "hobbit_length = ...\n",
    "lotr_length = ...\n",
    "\n",
    "print(f\"The Hobbit length: {hobbit_length}, The Lord of the Rings length: {lotr_length}\")\n",
    "\n",
    "pd.concat([movie_titles[is_real_lotr], movie_titles[is_real_hobbit]]).sort_values(\"startYear\")"
   ]
  },
  {
   "cell_type": "code",
   "execution_count": null,
   "metadata": {},
   "outputs": [],
   "source": [
    "%validate\n",
    "\n",
    "assert hobbit_length % 100 == 74\n",
    "assert lotr_length // 100 == 5"
   ]
  },
  {
   "cell_type": "markdown",
   "metadata": {},
   "source": [
    "**Exercise:** Find the movie with the (primary) longest title.\n",
    "\n",
    "Hint: `idxmax()` method on the Series returns the index of the item with the maximum value. You can't (at least should) not use the maximum value itself."
   ]
  },
  {
   "cell_type": "code",
   "execution_count": 81,
   "metadata": {},
   "outputs": [
    {
     "data": {
      "text/plain": [
       "Index(['tconst', 'titleType', 'primaryTitle', 'originalTitle', 'isAdult',\n",
       "       'startYear', 'endYear', 'runtimeMinutes', 'genres'],\n",
       "      dtype='object')"
      ]
     },
     "execution_count": 81,
     "metadata": {},
     "output_type": "execute_result"
    }
   ],
   "source": [
    "imdb_titles.columns"
   ]
  },
  {
   "cell_type": "code",
   "execution_count": 94,
   "metadata": {},
   "outputs": [
    {
     "data": {
      "text/html": [
       "<div>\n",
       "<style scoped>\n",
       "    .dataframe tbody tr th:only-of-type {\n",
       "        vertical-align: middle;\n",
       "    }\n",
       "\n",
       "    .dataframe tbody tr th {\n",
       "        vertical-align: top;\n",
       "    }\n",
       "\n",
       "    .dataframe thead th {\n",
       "        text-align: right;\n",
       "    }\n",
       "</style>\n",
       "<table border=\"1\" class=\"dataframe\">\n",
       "  <thead>\n",
       "    <tr style=\"text-align: right;\">\n",
       "      <th></th>\n",
       "      <th>tconst</th>\n",
       "      <th>titleType</th>\n",
       "      <th>primaryTitle</th>\n",
       "      <th>originalTitle</th>\n",
       "      <th>isAdult</th>\n",
       "      <th>startYear</th>\n",
       "      <th>endYear</th>\n",
       "      <th>runtimeMinutes</th>\n",
       "      <th>genres</th>\n",
       "    </tr>\n",
       "  </thead>\n",
       "  <tbody>\n",
       "    <tr>\n",
       "      <th>1584230</th>\n",
       "      <td>tt7727908</td>\n",
       "      <td>video</td>\n",
       "      <td>Yufukuna kurashi kara gokuhin seikatsu e kyu t...</td>\n",
       "      <td>Yufukuna kurashi kara gokuhin seikatsu e kyu t...</td>\n",
       "      <td>1</td>\n",
       "      <td>2013.0</td>\n",
       "      <td>NaN</td>\n",
       "      <td>129.0</td>\n",
       "      <td>Adult,Drama</td>\n",
       "    </tr>\n",
       "  </tbody>\n",
       "</table>\n",
       "</div>"
      ],
      "text/plain": [
       "            tconst titleType  \\\n",
       "1584230  tt7727908     video   \n",
       "\n",
       "                                              primaryTitle  \\\n",
       "1584230  Yufukuna kurashi kara gokuhin seikatsu e kyu t...   \n",
       "\n",
       "                                             originalTitle  isAdult  \\\n",
       "1584230  Yufukuna kurashi kara gokuhin seikatsu e kyu t...        1   \n",
       "\n",
       "         startYear  endYear  runtimeMinutes       genres  \n",
       "1584230     2013.0      NaN           129.0  Adult,Drama  "
      ]
     },
     "execution_count": 94,
     "metadata": {},
     "output_type": "execute_result"
    }
   ],
   "source": [
    "imdb_titles[imdb_titles[\"primaryTitle\"].str.len() == imdb_titles[\"primaryTitle\"].str.len().max()]"
   ]
  },
  {
   "cell_type": "code",
   "execution_count": 95,
   "metadata": {},
   "outputs": [
    {
     "data": {
      "text/plain": [
       "408"
      ]
     },
     "execution_count": 95,
     "metadata": {},
     "output_type": "execute_result"
    }
   ],
   "source": [
    "imdb_titles[\"primaryTitle\"].str.len().max()"
   ]
  },
  {
   "cell_type": "code",
   "execution_count": null,
   "metadata": {},
   "outputs": [],
   "source": []
  },
  {
   "cell_type": "code",
   "execution_count": 98,
   "metadata": {},
   "outputs": [
    {
     "data": {
      "text/html": [
       "<img src onerror=\"var cell = this.closest('.jp-CodeCell, .cell');var editor = cell.querySelector('.jp-Editor, .input_area');editor.style.background='Bisque';this.parentNode.removeChild(this)\">"
      ],
      "text/plain": [
       "<IPython.core.display.HTML object>"
      ]
     },
     "metadata": {},
     "output_type": "display_data"
    },
    {
     "ename": "KeyError",
     "evalue": "1584230",
     "output_type": "error",
     "traceback": [
      "\u001b[0;31m---------------------------------------------------------------------------\u001b[0m",
      "\u001b[0;31mKeyError\u001b[0m                                  Traceback (most recent call last)",
      "\u001b[0;32m~/.cache/pypoetry/virtualenvs/np-py3.7/lib/python3.7/site-packages/pandas/core/indexes/base.py\u001b[0m in \u001b[0;36mget_loc\u001b[0;34m(self, key, method, tolerance)\u001b[0m\n\u001b[1;32m   2656\u001b[0m             \u001b[0;32mtry\u001b[0m\u001b[0;34m:\u001b[0m\u001b[0;34m\u001b[0m\u001b[0;34m\u001b[0m\u001b[0m\n\u001b[0;32m-> 2657\u001b[0;31m                 \u001b[0;32mreturn\u001b[0m \u001b[0mself\u001b[0m\u001b[0;34m.\u001b[0m\u001b[0m_engine\u001b[0m\u001b[0;34m.\u001b[0m\u001b[0mget_loc\u001b[0m\u001b[0;34m(\u001b[0m\u001b[0mkey\u001b[0m\u001b[0;34m)\u001b[0m\u001b[0;34m\u001b[0m\u001b[0;34m\u001b[0m\u001b[0m\n\u001b[0m\u001b[1;32m   2658\u001b[0m             \u001b[0;32mexcept\u001b[0m \u001b[0mKeyError\u001b[0m\u001b[0;34m:\u001b[0m\u001b[0;34m\u001b[0m\u001b[0;34m\u001b[0m\u001b[0m\n",
      "\u001b[0;32mpandas/_libs/index.pyx\u001b[0m in \u001b[0;36mpandas._libs.index.IndexEngine.get_loc\u001b[0;34m()\u001b[0m\n",
      "\u001b[0;32mpandas/_libs/index.pyx\u001b[0m in \u001b[0;36mpandas._libs.index.IndexEngine.get_loc\u001b[0;34m()\u001b[0m\n",
      "\u001b[0;32mpandas/_libs/hashtable_class_helper.pxi\u001b[0m in \u001b[0;36mpandas._libs.hashtable.PyObjectHashTable.get_item\u001b[0;34m()\u001b[0m\n",
      "\u001b[0;32mpandas/_libs/hashtable_class_helper.pxi\u001b[0m in \u001b[0;36mpandas._libs.hashtable.PyObjectHashTable.get_item\u001b[0;34m()\u001b[0m\n",
      "\u001b[0;31mKeyError\u001b[0m: 1584230",
      "\nDuring handling of the above exception, another exception occurred:\n",
      "\u001b[0;31mKeyError\u001b[0m                                  Traceback (most recent call last)",
      "\u001b[0;32m<ipython-input-98-8732209a05df>\u001b[0m in \u001b[0;36m<module>\u001b[0;34m\u001b[0m\n\u001b[1;32m      1\u001b[0m \u001b[0mget_ipython\u001b[0m\u001b[0;34m(\u001b[0m\u001b[0;34m)\u001b[0m\u001b[0;34m.\u001b[0m\u001b[0mrun_line_magic\u001b[0m\u001b[0;34m(\u001b[0m\u001b[0;34m'exercise'\u001b[0m\u001b[0;34m,\u001b[0m \u001b[0;34m''\u001b[0m\u001b[0;34m)\u001b[0m\u001b[0;34m\u001b[0m\u001b[0;34m\u001b[0m\u001b[0m\n\u001b[1;32m      2\u001b[0m \u001b[0;34m\u001b[0m\u001b[0m\n\u001b[0;32m----> 3\u001b[0;31m \u001b[0mlongest_title_movie\u001b[0m \u001b[0;34m=\u001b[0m \u001b[0mimdb_titles\u001b[0m\u001b[0;34m[\u001b[0m\u001b[0mimdb_titles\u001b[0m\u001b[0;34m.\u001b[0m\u001b[0mprimaryTitle\u001b[0m\u001b[0;34m.\u001b[0m\u001b[0mstr\u001b[0m\u001b[0;34m.\u001b[0m\u001b[0mlen\u001b[0m\u001b[0;34m(\u001b[0m\u001b[0;34m)\u001b[0m\u001b[0;34m.\u001b[0m\u001b[0midxmax\u001b[0m\u001b[0;34m(\u001b[0m\u001b[0;34m)\u001b[0m\u001b[0;34m]\u001b[0m\u001b[0;34m\u001b[0m\u001b[0;34m\u001b[0m\u001b[0m\n\u001b[0m\u001b[1;32m      4\u001b[0m \u001b[0;34m\u001b[0m\u001b[0m\n\u001b[1;32m      5\u001b[0m \u001b[0mprint\u001b[0m\u001b[0;34m(\u001b[0m\u001b[0mlongest_title_movie\u001b[0m\u001b[0;34m[\u001b[0m\u001b[0;34m\"primaryTitle\"\u001b[0m\u001b[0;34m]\u001b[0m\u001b[0;34m)\u001b[0m\u001b[0;34m\u001b[0m\u001b[0;34m\u001b[0m\u001b[0m\n",
      "\u001b[0;32m~/.cache/pypoetry/virtualenvs/np-py3.7/lib/python3.7/site-packages/pandas/core/frame.py\u001b[0m in \u001b[0;36m__getitem__\u001b[0;34m(self, key)\u001b[0m\n\u001b[1;32m   2925\u001b[0m             \u001b[0;32mif\u001b[0m \u001b[0mself\u001b[0m\u001b[0;34m.\u001b[0m\u001b[0mcolumns\u001b[0m\u001b[0;34m.\u001b[0m\u001b[0mnlevels\u001b[0m \u001b[0;34m>\u001b[0m \u001b[0;36m1\u001b[0m\u001b[0;34m:\u001b[0m\u001b[0;34m\u001b[0m\u001b[0;34m\u001b[0m\u001b[0m\n\u001b[1;32m   2926\u001b[0m                 \u001b[0;32mreturn\u001b[0m \u001b[0mself\u001b[0m\u001b[0;34m.\u001b[0m\u001b[0m_getitem_multilevel\u001b[0m\u001b[0;34m(\u001b[0m\u001b[0mkey\u001b[0m\u001b[0;34m)\u001b[0m\u001b[0;34m\u001b[0m\u001b[0;34m\u001b[0m\u001b[0m\n\u001b[0;32m-> 2927\u001b[0;31m             \u001b[0mindexer\u001b[0m \u001b[0;34m=\u001b[0m \u001b[0mself\u001b[0m\u001b[0;34m.\u001b[0m\u001b[0mcolumns\u001b[0m\u001b[0;34m.\u001b[0m\u001b[0mget_loc\u001b[0m\u001b[0;34m(\u001b[0m\u001b[0mkey\u001b[0m\u001b[0;34m)\u001b[0m\u001b[0;34m\u001b[0m\u001b[0;34m\u001b[0m\u001b[0m\n\u001b[0m\u001b[1;32m   2928\u001b[0m             \u001b[0;32mif\u001b[0m \u001b[0mis_integer\u001b[0m\u001b[0;34m(\u001b[0m\u001b[0mindexer\u001b[0m\u001b[0;34m)\u001b[0m\u001b[0;34m:\u001b[0m\u001b[0;34m\u001b[0m\u001b[0;34m\u001b[0m\u001b[0m\n\u001b[1;32m   2929\u001b[0m                 \u001b[0mindexer\u001b[0m \u001b[0;34m=\u001b[0m \u001b[0;34m[\u001b[0m\u001b[0mindexer\u001b[0m\u001b[0;34m]\u001b[0m\u001b[0;34m\u001b[0m\u001b[0;34m\u001b[0m\u001b[0m\n",
      "\u001b[0;32m~/.cache/pypoetry/virtualenvs/np-py3.7/lib/python3.7/site-packages/pandas/core/indexes/base.py\u001b[0m in \u001b[0;36mget_loc\u001b[0;34m(self, key, method, tolerance)\u001b[0m\n\u001b[1;32m   2657\u001b[0m                 \u001b[0;32mreturn\u001b[0m \u001b[0mself\u001b[0m\u001b[0;34m.\u001b[0m\u001b[0m_engine\u001b[0m\u001b[0;34m.\u001b[0m\u001b[0mget_loc\u001b[0m\u001b[0;34m(\u001b[0m\u001b[0mkey\u001b[0m\u001b[0;34m)\u001b[0m\u001b[0;34m\u001b[0m\u001b[0;34m\u001b[0m\u001b[0m\n\u001b[1;32m   2658\u001b[0m             \u001b[0;32mexcept\u001b[0m \u001b[0mKeyError\u001b[0m\u001b[0;34m:\u001b[0m\u001b[0;34m\u001b[0m\u001b[0;34m\u001b[0m\u001b[0m\n\u001b[0;32m-> 2659\u001b[0;31m                 \u001b[0;32mreturn\u001b[0m \u001b[0mself\u001b[0m\u001b[0;34m.\u001b[0m\u001b[0m_engine\u001b[0m\u001b[0;34m.\u001b[0m\u001b[0mget_loc\u001b[0m\u001b[0;34m(\u001b[0m\u001b[0mself\u001b[0m\u001b[0;34m.\u001b[0m\u001b[0m_maybe_cast_indexer\u001b[0m\u001b[0;34m(\u001b[0m\u001b[0mkey\u001b[0m\u001b[0;34m)\u001b[0m\u001b[0;34m)\u001b[0m\u001b[0;34m\u001b[0m\u001b[0;34m\u001b[0m\u001b[0m\n\u001b[0m\u001b[1;32m   2660\u001b[0m         \u001b[0mindexer\u001b[0m \u001b[0;34m=\u001b[0m \u001b[0mself\u001b[0m\u001b[0;34m.\u001b[0m\u001b[0mget_indexer\u001b[0m\u001b[0;34m(\u001b[0m\u001b[0;34m[\u001b[0m\u001b[0mkey\u001b[0m\u001b[0;34m]\u001b[0m\u001b[0;34m,\u001b[0m \u001b[0mmethod\u001b[0m\u001b[0;34m=\u001b[0m\u001b[0mmethod\u001b[0m\u001b[0;34m,\u001b[0m \u001b[0mtolerance\u001b[0m\u001b[0;34m=\u001b[0m\u001b[0mtolerance\u001b[0m\u001b[0;34m)\u001b[0m\u001b[0;34m\u001b[0m\u001b[0;34m\u001b[0m\u001b[0m\n\u001b[1;32m   2661\u001b[0m         \u001b[0;32mif\u001b[0m \u001b[0mindexer\u001b[0m\u001b[0;34m.\u001b[0m\u001b[0mndim\u001b[0m \u001b[0;34m>\u001b[0m \u001b[0;36m1\u001b[0m \u001b[0;32mor\u001b[0m \u001b[0mindexer\u001b[0m\u001b[0;34m.\u001b[0m\u001b[0msize\u001b[0m \u001b[0;34m>\u001b[0m \u001b[0;36m1\u001b[0m\u001b[0;34m:\u001b[0m\u001b[0;34m\u001b[0m\u001b[0;34m\u001b[0m\u001b[0m\n",
      "\u001b[0;32mpandas/_libs/index.pyx\u001b[0m in \u001b[0;36mpandas._libs.index.IndexEngine.get_loc\u001b[0;34m()\u001b[0m\n",
      "\u001b[0;32mpandas/_libs/index.pyx\u001b[0m in \u001b[0;36mpandas._libs.index.IndexEngine.get_loc\u001b[0;34m()\u001b[0m\n",
      "\u001b[0;32mpandas/_libs/hashtable_class_helper.pxi\u001b[0m in \u001b[0;36mpandas._libs.hashtable.PyObjectHashTable.get_item\u001b[0;34m()\u001b[0m\n",
      "\u001b[0;32mpandas/_libs/hashtable_class_helper.pxi\u001b[0m in \u001b[0;36mpandas._libs.hashtable.PyObjectHashTable.get_item\u001b[0;34m()\u001b[0m\n",
      "\u001b[0;31mKeyError\u001b[0m: 1584230"
     ]
    }
   ],
   "source": [
    "%exercise\n",
    "\n",
    "longest_title_movie = imdb_titles[imdb_titles.primaryTitle.str.len().idxmax()]\n",
    "\n",
    "print(longest_title_movie[\"primaryTitle\"])\n",
    "\n",
    "longest_title_movie"
   ]
  },
  {
   "cell_type": "code",
   "execution_count": null,
   "metadata": {},
   "outputs": [],
   "source": [
    "%validate\n",
    "\n",
    "assert longest_title_movie[\"primaryTitle\"][2] == \"s\""
   ]
  }
 ],
 "metadata": {
  "kernelspec": {
   "display_name": "Python 3",
   "language": "python",
   "name": "python3"
  },
  "language_info": {
   "codemirror_mode": {
    "name": "ipython",
    "version": 3
   },
   "file_extension": ".py",
   "mimetype": "text/x-python",
   "name": "python",
   "nbconvert_exporter": "python",
   "pygments_lexer": "ipython3",
   "version": "3.7.3+"
  }
 },
 "nbformat": 4,
 "nbformat_minor": 2
}
