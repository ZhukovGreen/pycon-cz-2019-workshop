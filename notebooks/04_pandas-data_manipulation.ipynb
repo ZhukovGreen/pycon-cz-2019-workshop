{
 "cells": [
  {
   "cell_type": "markdown",
   "metadata": {},
   "source": [
    "# Pandas - Data manipulations\n",
    "\n",
    "This notebook is the third part of the collection devoted to the pandas library."
   ]
  },
  {
   "cell_type": "code",
   "execution_count": null,
   "metadata": {},
   "outputs": [],
   "source": [
    "# Necesssary import evil\n",
    "\n",
    "import jupy_helpers\n",
    "import pandas as pd\n",
    "import numpy as np\n",
    "from IPython.display import display, HTML, IFrame\n",
    "\n",
    "np.random.seed(42)"
   ]
  },
  {
   "cell_type": "code",
   "execution_count": null,
   "metadata": {},
   "outputs": [],
   "source": [
    "%matplotlib inline  \n",
    "# This will enable us to see plots embedded in the notebook"
   ]
  },
  {
   "cell_type": "code",
   "execution_count": null,
   "metadata": {},
   "outputs": [],
   "source": [
    "# make the cells wide\n",
    "display(HTML(\"<style>.container { width:95% !important; }</style>\"))"
   ]
  },
  {
   "cell_type": "markdown",
   "metadata": {},
   "source": [
    "In the previous notebook, we imported data from several data formats.\n",
    "Let's start from there and see what basic manipulations we can do\n",
    "with the DataFrames."
   ]
  },
  {
   "cell_type": "code",
   "execution_count": null,
   "metadata": {},
   "outputs": [],
   "source": [
    "con = 'sqlite:///./workshop_data.sqlite'"
   ]
  },
  {
   "cell_type": "code",
   "execution_count": null,
   "metadata": {},
   "outputs": [],
   "source": [
    "# Read the data that we stored in the previous example\n",
    "imdb_titles = pd.read_sql('imdb_titles', con)\n",
    "imdb_ratings = pd.read_sql('imdb_ratings', con)\n",
    "boxoffice = pd.read_sql('boxoffice', con)\n",
    "rotten_tomatoes = pd.read_sql(\"rotten_tomatoes\", con)"
   ]
  },
  {
   "cell_type": "code",
   "execution_count": 1,
   "metadata": {},
   "outputs": [],
   "source": [
    "# alternative for Binder\n",
    "\n",
    "# imdb_titles = pd.read_csv('../data/title.basics.tsv.gz', sep='\\t', na_values=\"\\\\N\"),\n",
    "# imdb_ratings = pd.read_csv('../data/title.ratings.tsv.gz', sep='\\t', na_values=\"\\\\N\"),\n",
    "# boxoffice = pd.read_csv('../data/boxoffice_march_2019.csv.gz'),\n",
    "# rotten_tomatoes = pd.read_csv(\"../data/rotten_tomatoes_top_movies_2019-01-15.csv\"),\n",
    "# awards = pd.read_sql(\"awards\", con='sqlite:///../data/awards.sqlite')"
   ]
  },
  {
   "cell_type": "markdown",
   "metadata": {},
   "source": [
    "## First look at the data\n",
    "\n",
    "Let's see what we have in the datasets..."
   ]
  },
  {
   "cell_type": "code",
   "execution_count": null,
   "metadata": {},
   "outputs": [],
   "source": [
    "imdb_titles.head()"
   ]
  },
  {
   "cell_type": "code",
   "execution_count": null,
   "metadata": {},
   "outputs": [],
   "source": [
    "imdb_titles.tail()"
   ]
  },
  {
   "cell_type": "markdown",
   "metadata": {},
   "source": [
    "For an unknown, potentially unevenly distributed dataset, looking at the beginning / end is typically not the best idea. We'd rather sample randomly:"
   ]
  },
  {
   "cell_type": "code",
   "execution_count": null,
   "metadata": {},
   "outputs": [],
   "source": [
    "# Show a few examples\n",
    "imdb_titles.sample(20)"
   ]
  },
  {
   "cell_type": "markdown",
   "metadata": {},
   "source": [
    "`describe` is often useful to get the basics statistics."
   ]
  },
  {
   "cell_type": "code",
   "execution_count": null,
   "metadata": {},
   "outputs": [],
   "source": [
    "imdb_titles.describe(include=\"all\")"
   ]
  },
  {
   "cell_type": "markdown",
   "metadata": {},
   "source": [
    "Notice that only some columns, to be procise columns with properly recognized numeric type, are reported."
   ]
  },
  {
   "cell_type": "markdown",
   "metadata": {},
   "source": [
    "### Column data types"
   ]
  },
  {
   "cell_type": "code",
   "execution_count": null,
   "metadata": {},
   "outputs": [],
   "source": [
    "imdb_titles.dtypes"
   ]
  },
  {
   "cell_type": "markdown",
   "metadata": {},
   "source": [
    "Let's investigate some of the columns...\n",
    "\n",
    "**tconst** is probably the key used in the IMDB database. We will get to this later.\n",
    "\n",
    "To analyze **titleType**, we can look at its typical values."
   ]
  },
  {
   "cell_type": "code",
   "execution_count": null,
   "metadata": {},
   "outputs": [],
   "source": [
    "imdb_titles.titleType.describe()"
   ]
  },
  {
   "cell_type": "markdown",
   "metadata": {},
   "source": [
    "Not too many different values."
   ]
  },
  {
   "cell_type": "code",
   "execution_count": null,
   "metadata": {},
   "outputs": [],
   "source": [
    "imdb_titles.titleType.unique()"
   ]
  },
  {
   "cell_type": "code",
   "execution_count": null,
   "metadata": {
    "scrolled": true
   },
   "outputs": [],
   "source": [
    "imdb_titles.titleType.value_counts(normalize=True)"
   ]
  },
  {
   "cell_type": "markdown",
   "metadata": {},
   "source": [
    "This column is a very good candidate to turn into a pandas-special, **Categorical** data type. (See https://pandas.pydata.org/pandas-docs/stable/user_guide/categorical.html)"
   ]
  },
  {
   "cell_type": "code",
   "execution_count": null,
   "metadata": {},
   "outputs": [],
   "source": [
    "imdb_titles.titleType.memory_usage()   # ~8 bytes per item"
   ]
  },
  {
   "cell_type": "code",
   "execution_count": null,
   "metadata": {},
   "outputs": [],
   "source": [
    "title_type = imdb_titles.titleType.astype(\"category\")\n",
    "title_type.sample(10)"
   ]
  },
  {
   "cell_type": "code",
   "execution_count": null,
   "metadata": {},
   "outputs": [],
   "source": [
    "title_type.memory_usage()              # ~1 byte per item"
   ]
  },
  {
   "cell_type": "markdown",
   "metadata": {},
   "source": [
    "**Exercise:** Remember that assigning or replacing a column inside a dataframe works the same way as setting a value inside a dict. Please, replace the original \"titleType\" column with the new Categorical series:"
   ]
  },
  {
   "cell_type": "code",
   "execution_count": null,
   "metadata": {},
   "outputs": [],
   "source": [
    "%exercise\n",
    "\n",
    "... = ..."
   ]
  },
  {
   "cell_type": "code",
   "execution_count": null,
   "metadata": {},
   "outputs": [],
   "source": [
    "%validate\n",
    "\n",
    "assert imdb_titles['titleType'].dtype.name == 'category'"
   ]
  },
  {
   "cell_type": "markdown",
   "metadata": {},
   "source": [
    "Pandas is generally quite good at guessing (inferring) number types. \n",
    "You may wonder why `startYear` is float and not int though. \n",
    "This is a consequence of not having an integer nan in numpy. There's been many discussions about this."
   ]
  },
  {
   "cell_type": "code",
   "execution_count": null,
   "metadata": {},
   "outputs": [],
   "source": [
    "imdb_titles.startYear.dtype"
   ]
  },
  {
   "cell_type": "markdown",
   "metadata": {},
   "source": [
    "`ValueError: Cannot convert non-finite values (NA or inf) to integer` \n",
    " is throw if you try to convert to `int`"
   ]
  },
  {
   "cell_type": "code",
   "execution_count": null,
   "metadata": {},
   "outputs": [],
   "source": [
    "imdb_titles.startYear.astype(int)"
   ]
  },
  {
   "cell_type": "code",
   "execution_count": null,
   "metadata": {
    "scrolled": true
   },
   "outputs": [],
   "source": [
    "# To address that, pandas 0.24 Introduced nullable integers\n",
    "imdb_titles.startYear.astype(\"Int64\").tail(20)"
   ]
  },
  {
   "cell_type": "markdown",
   "metadata": {},
   "source": [
    "### Filtering\n",
    "\n",
    "Indexing in pandas Series / DataFrames (`[]`) support also boolean (masked) arrays. These arrays can be obtained by applying boolean operations on them.\n",
    "\n",
    "You can also use standard **comparison operators** like `<`, `<=`, `==`, `>=`, `>`, `!=`. \n",
    "\n",
    "It is possible to perform **logical operators** with boolean series too. But note that `and`, `or`, `not` are keywords. You \n",
    "\n",
    "As an example, find all movies!"
   ]
  },
  {
   "cell_type": "code",
   "execution_count": null,
   "metadata": {},
   "outputs": [],
   "source": [
    "is_movie = (imdb_titles.titleType == \"movie\")\n",
    "is_movie.sample(10)"
   ]
  },
  {
   "cell_type": "markdown",
   "metadata": {},
   "source": [
    "Now we can directly apply the boolean mask. (Note: This is no magic. You can construct the mask yourself)"
   ]
  },
  {
   "cell_type": "code",
   "execution_count": null,
   "metadata": {},
   "outputs": [],
   "source": [
    "imdb_titles[is_movie].sample(10)"
   ]
  },
  {
   "cell_type": "markdown",
   "metadata": {},
   "source": [
    "Or maybe we should include TV movies as well?"
   ]
  },
  {
   "cell_type": "code",
   "execution_count": null,
   "metadata": {},
   "outputs": [],
   "source": [
    "# isin takes an array of possible values\n",
    "movie_titles = imdb_titles[imdb_titles.titleType.isin([\"movie\", \"tvMovie\"])]\n",
    "movie_titles.sample(10)"
   ]
  },
  {
   "cell_type": "markdown",
   "metadata": {},
   "source": [
    "We may wonder why we have two title-ish columns: originalTitle and primaryTitle."
   ]
  },
  {
   "cell_type": "code",
   "execution_count": null,
   "metadata": {},
   "outputs": [],
   "source": [
    "different_title = (movie_titles.originalTitle != movie_titles.primaryTitle)\n",
    "different_title.name = \"Different title\"   # Series can have names (Note: DataFrames can't)\n",
    "different_title.value_counts()"
   ]
  },
  {
   "cell_type": "markdown",
   "metadata": {},
   "source": [
    "### Visualization intermezzo\n",
    "\n",
    "Without much further ado, let's create our first plot."
   ]
  },
  {
   "cell_type": "code",
   "execution_count": null,
   "metadata": {},
   "outputs": [],
   "source": [
    "different_title.value_counts().plot(kind=\"bar\")"
   ]
  },
  {
   "cell_type": "markdown",
   "metadata": {},
   "source": [
    "**Exercise:** Display some random movies that have different original and primary titles."
   ]
  },
  {
   "cell_type": "code",
   "execution_count": null,
   "metadata": {},
   "outputs": [],
   "source": [
    "%exercise\n",
    "\n",
    "movie_titles[___].___"
   ]
  },
  {
   "cell_type": "markdown",
   "metadata": {},
   "source": [
    "We may also want to get rid of wrong / incomplete data."
   ]
  },
  {
   "cell_type": "code",
   "execution_count": null,
   "metadata": {},
   "outputs": [],
   "source": [
    "# Movies from the future?\n",
    "imdb_titles[imdb_titles.startYear > 2019].startYear.value_counts()"
   ]
  },
  {
   "cell_type": "code",
   "execution_count": null,
   "metadata": {},
   "outputs": [],
   "source": [
    "# Movies with startYear undefined\n",
    "imdb_titles[imdb_titles.startYear.isna()].head()"
   ]
  },
  {
   "cell_type": "markdown",
   "metadata": {},
   "source": [
    "**Exercise:** Use the `imdb_titles.startYear > 2019` filter and `dropna` method to get rid of rows with wrong / undefined years."
   ]
  },
  {
   "cell_type": "code",
   "execution_count": null,
   "metadata": {},
   "outputs": [],
   "source": [
    "%exercise\n",
    "\n",
    "imdb_correct_titles = imdb_titles[___].dropna(subset=___)"
   ]
  },
  {
   "cell_type": "code",
   "execution_count": null,
   "metadata": {},
   "outputs": [],
   "source": [
    "%validate\n",
    "\n",
    "assert not (imdb_correct_titles.startYear > 2019).any()\n",
    "assert not imdb_correct_titles.startYear.isna().any()\n",
    "assert imdb_correct_titles.shape == (1694587, 9)"
   ]
  },
  {
   "cell_type": "markdown",
   "metadata": {},
   "source": [
    "**Exercise:** Drop `titleType` and `endYear` columns and rows with `NaN` values (use `dropna`)."
   ]
  },
  {
   "cell_type": "code",
   "execution_count": null,
   "metadata": {},
   "outputs": [],
   "source": [
    "%exercise\n",
    "\n",
    "movie_titles = (movie_titles\n",
    "                .drop(columns=___)\n",
    "                .___\n",
    "                )"
   ]
  },
  {
   "cell_type": "code",
   "execution_count": null,
   "metadata": {},
   "outputs": [],
   "source": [
    "%validate\n",
    "\n",
    "assert not any(result.isna().any())\n",
    "assert sorted(result.columns) == ['genres', 'isAdult', 'originalTitle',  'primaryTitle', \n",
    "                                        'runtimeMinutes', 'startYear', 'tconst']"
   ]
  },
  {
   "cell_type": "markdown",
   "metadata": {},
   "source": [
    "## Sorting"
   ]
  },
  {
   "cell_type": "code",
   "execution_count": null,
   "metadata": {},
   "outputs": [],
   "source": [
    "# Display 5 longest movies \n",
    "movie_titles.sort_values(\"runtimeMinutes\", ascending=False).head()"
   ]
  },
  {
   "cell_type": "markdown",
   "metadata": {},
   "source": [
    "Hmm, let's look at *Modern Times Forever* - an apt title :)"
   ]
  },
  {
   "cell_type": "code",
   "execution_count": null,
   "metadata": {},
   "outputs": [],
   "source": [
    "IFrame(\n",
    "    src=\"https://en.wikipedia.org/wiki/Modern_Times_Forever_(Stora_Enso_Building,_Helsinki)\",\n",
    "    width=900,\n",
    "    height=400,\n",
    ")"
   ]
  },
  {
   "cell_type": "code",
   "execution_count": null,
   "metadata": {},
   "outputs": [],
   "source": [
    "# Alternative\n",
    "movie_titles.nlargest(5, \"runtimeMinutes\")"
   ]
  },
  {
   "cell_type": "markdown",
   "metadata": {},
   "source": [
    "**Exercise:** Find the 10 oldest movies that are longer than 2 hours"
   ]
  },
  {
   "cell_type": "code",
   "execution_count": null,
   "metadata": {},
   "outputs": [],
   "source": [
    "%exercise\n",
    "\n",
    "result = movie_titles[___].___(___, ___)\n",
    "result"
   ]
  },
  {
   "cell_type": "code",
   "execution_count": null,
   "metadata": {},
   "outputs": [],
   "source": [
    "%validate\n",
    "\n",
    "assert result.iloc[9][\"startYear\"] == 1914"
   ]
  },
  {
   "cell_type": "code",
   "execution_count": null,
   "metadata": {},
   "outputs": [],
   "source": [
    "movie_titles[(movie_titles[\"primaryTitle\"].str.startswith(\"Indiana Jones\")) & (movie_titles[\"titleType\"] == \"movie\")]"
   ]
  },
  {
   "cell_type": "markdown",
   "metadata": {},
   "source": [
    "## Arithmetics and string manipulation"
   ]
  },
  {
   "cell_type": "markdown",
   "metadata": {},
   "source": [
    "Standard **arithmetic operators** work on numerical columms too. And so do mathematical functions. Note all such operations are performed in a vector-like fashion."
   ]
  },
  {
   "cell_type": "code",
   "execution_count": null,
   "metadata": {},
   "outputs": [],
   "source": [
    "movie_titles[[\"originalTitle\", \"startYear\"]].assign(age = 2019 - movie_titles[\"startYear\"]).sample(20)"
   ]
  },
  {
   "cell_type": "markdown",
   "metadata": {},
   "source": [
    "**Exercise:** Calculate the length of movies in hours."
   ]
  },
  {
   "cell_type": "code",
   "execution_count": null,
   "metadata": {},
   "outputs": [],
   "source": [
    "%exercise\n",
    "\n",
    "result = movie_titles[[\"originalTitle\", \"runtimeMinutes\"]].assign(... = ...)\n",
    "result.sample(10)"
   ]
  },
  {
   "cell_type": "code",
   "execution_count": null,
   "metadata": {},
   "outputs": [],
   "source": [
    "%validate\n",
    "\n",
    "assert result.iloc[0][\"hours\"] == 0.75"
   ]
  },
  {
   "cell_type": "code",
   "execution_count": null,
   "metadata": {},
   "outputs": [],
   "source": [
    "# If only the following had any sense!\n",
    "np.sin(movie_titles[\"runtimeMinutes\"]).sample(10)"
   ]
  },
  {
   "cell_type": "markdown",
   "metadata": {},
   "source": [
    "### Summary statistics\n",
    "\n",
    "Note that the following methods return scalars"
   ]
  },
  {
   "cell_type": "code",
   "execution_count": null,
   "metadata": {},
   "outputs": [],
   "source": [
    "# Average length of the movies\n",
    "movie_titles[\"runtimeMinutes\"].mean()"
   ]
  },
  {
   "cell_type": "code",
   "execution_count": null,
   "metadata": {},
   "outputs": [],
   "source": [
    "# Standard deviation\n",
    "movie_titles[\"runtimeMinutes\"].std()"
   ]
  },
  {
   "cell_type": "code",
   "execution_count": null,
   "metadata": {},
   "outputs": [],
   "source": [
    "movie_titles[\"startYear\"].max()"
   ]
  },
  {
   "cell_type": "markdown",
   "metadata": {},
   "source": [
    "**Exercise:** How many years would it take to watch all movies in the catalogue?"
   ]
  },
  {
   "cell_type": "code",
   "execution_count": null,
   "metadata": {},
   "outputs": [],
   "source": [
    "%exercise\n",
    "result = movie_titles[\"runtimeMinutes\"] ...\n",
    "result"
   ]
  },
  {
   "cell_type": "code",
   "execution_count": null,
   "metadata": {},
   "outputs": [],
   "source": [
    "%validate\n",
    "\n",
    "assert np.round(result, 3) == 65.154"
   ]
  },
  {
   "cell_type": "markdown",
   "metadata": {},
   "source": [
    "### Basic string operations\n",
    "\n",
    "These are typically accessed using the `.str` \"accessor\" of the Series like this:\n",
    "    \n",
    "- series.str.lower\n",
    "- series.str.split\n",
    "- series.str.startswith\n",
    "- series.str.contains\n",
    "- ..."
   ]
  },
  {
   "cell_type": "code",
   "execution_count": null,
   "metadata": {},
   "outputs": [],
   "source": [
    "movie_titles[(movie_titles[\"primaryTitle\"].str.startswith(\"Star Wars: Episode\")) & (movie_titles[\"titleType\"] == \"movie\")]"
   ]
  },
  {
   "cell_type": "markdown",
   "metadata": {},
   "source": [
    "**Exercise:** Find all Pink Panther movies. Note that their title does not necessarily start with \"Pink\""
   ]
  },
  {
   "cell_type": "code",
   "execution_count": null,
   "metadata": {},
   "outputs": [],
   "source": [
    "%exercise\n",
    "\n",
    "is_pink = ...\n",
    "pink = movie_titles[is_pink]\n",
    "pink"
   ]
  },
  {
   "cell_type": "code",
   "execution_count": null,
   "metadata": {},
   "outputs": [],
   "source": [
    "%validate\n",
    "\n",
    "assert pink.shape[0] == 14"
   ]
  },
  {
   "cell_type": "code",
   "execution_count": null,
   "metadata": {},
   "outputs": [],
   "source": [
    "# String arithmetics work too!\n",
    "url = \"https://www.imdb.com/title/\" + movie_titles[\"tconst\"]\n",
    "movie_titles[[\"primaryTitle\"]].assign(url=url).sample(10)"
   ]
  },
  {
   "cell_type": "markdown",
   "metadata": {},
   "source": [
    "Let's investigate the genres a bit:"
   ]
  },
  {
   "cell_type": "code",
   "execution_count": null,
   "metadata": {},
   "outputs": [],
   "source": [
    "split_genres = movie_titles.genres.str.split(\",\").dropna()\n",
    "split_genres.sample(10)"
   ]
  },
  {
   "cell_type": "code",
   "execution_count": null,
   "metadata": {},
   "outputs": [],
   "source": [
    "genres = {genre for row in split_genres.iteritems() for genre in row[1]}"
   ]
  },
  {
   "cell_type": "code",
   "execution_count": null,
   "metadata": {},
   "outputs": [],
   "source": [
    "genres"
   ]
  },
  {
   "cell_type": "code",
   "execution_count": null,
   "metadata": {},
   "outputs": [],
   "source": [
    "# \"One-hot\" encoding of genres\n",
    "movie_with_genres = movie_titles[['primaryTitle']].assign(\n",
    "    **{genre : movie_titles.genres.str.contains(genre) * 1 for genre in genres}\n",
    ")\n",
    "movie_with_genres.sample(10)"
   ]
  },
  {
   "cell_type": "code",
   "execution_count": null,
   "metadata": {},
   "outputs": [],
   "source": [
    "genre_counts = movie_with_genres[movie_with_genres == 1].iloc[:,1:].count()\n",
    "genre_counts"
   ]
  },
  {
   "cell_type": "code",
   "execution_count": null,
   "metadata": {},
   "outputs": [],
   "source": [
    "genre_counts.plot(kind=\"bar\")"
   ]
  },
  {
   "cell_type": "code",
   "execution_count": null,
   "metadata": {},
   "outputs": [],
   "source": [
    "movie_titles[\"startYear\"].plot(kind=\"hist\")"
   ]
  },
  {
   "cell_type": "markdown",
   "metadata": {},
   "source": [
    "We see the one outlier and in general, the plots are not so nice. Being explicit sometimes helps."
   ]
  },
  {
   "cell_type": "code",
   "execution_count": null,
   "metadata": {},
   "outputs": [],
   "source": [
    "ax = movie_titles[\"startYear\"].plot(kind=\"hist\", bins=23, range=(1890, 2020))"
   ]
  },
  {
   "cell_type": "markdown",
   "metadata": {},
   "source": [
    "No movies before 1900 / 1910? Really? Let's check:"
   ]
  },
  {
   "cell_type": "code",
   "execution_count": null,
   "metadata": {},
   "outputs": [],
   "source": [
    "ax = movie_titles[\"startYear\"].plot(kind=\"hist\", bins=23, range=(1890, 2020))\n",
    "ax.set_yscale(\"log\")"
   ]
  },
  {
   "cell_type": "markdown",
   "metadata": {},
   "source": [
    "**Exercise:** Plot a histogram of runtime minutes (limiting to a reasonable range)."
   ]
  },
  {
   "cell_type": "code",
   "execution_count": null,
   "metadata": {},
   "outputs": [],
   "source": [
    "%exercise\n",
    "\n",
    "movie_titles[___].plot(___)"
   ]
  },
  {
   "cell_type": "code",
   "execution_count": null,
   "metadata": {},
   "outputs": [],
   "source": [
    "# Note: this is something that could be mor easily done with .groupby operation\n",
    "average_genre_length = (movie_with_genres.iloc[:,1:].apply(lambda s: s * movie_titles[\"runtimeMinutes\"])).sum() / genre_counts"
   ]
  },
  {
   "cell_type": "code",
   "execution_count": null,
   "metadata": {},
   "outputs": [],
   "source": [
    "average_genre_length"
   ]
  },
  {
   "cell_type": "markdown",
   "metadata": {},
   "source": [
    "**Exercise:** Sort the genres from the longest to shortest and visualize them using a bar plot."
   ]
  },
  {
   "cell_type": "code",
   "execution_count": null,
   "metadata": {},
   "outputs": [],
   "source": [
    "%exercise\n",
    "\n",
    "___.___.plot(___)"
   ]
  },
  {
   "cell_type": "markdown",
   "metadata": {},
   "source": [
    "**Exercise**: Find proper filters for the Lord of the Rings trilogy. Note that you will probably need to combine more conditions (multiple solutions possible)."
   ]
  },
  {
   "cell_type": "code",
   "execution_count": null,
   "metadata": {},
   "outputs": [],
   "source": [
    "%exercise\n",
    "\n",
    "is_lotr = ...\n",
    "is_real_lotr = is_lotr & \n",
    "\n",
    "movie_titles[is_real_lotr]"
   ]
  },
  {
   "cell_type": "markdown",
   "metadata": {},
   "source": [
    "**Exercise**: What is longer? The Lord of the Rings trilogy or The Hobbit \"trilogy\"?\n",
    "\n",
    "Use the previous as a base to find the Hobbit movies. Then calculate the total length of each trio."
   ]
  },
  {
   "cell_type": "code",
   "execution_count": null,
   "metadata": {},
   "outputs": [],
   "source": [
    "%exercise\n",
    "\n",
    "is_hobbit = ...\n",
    "is_real_hobbit = ...\n",
    "\n",
    "hobbit_length = ...\n",
    "lotr_length = ...\n",
    "\n",
    "print(f\"The Hobbit length: {hobbit_length}, The Lord of the Rings length: {lotr_length}\")\n",
    "\n",
    "pd.concat([movie_titles[is_real_lotr], movie_titles[is_real_hobbit]]).sort_values(\"startYear\")"
   ]
  },
  {
   "cell_type": "code",
   "execution_count": null,
   "metadata": {},
   "outputs": [],
   "source": [
    "%validate\n",
    "\n",
    "assert hobbit_length % 100 == 74\n",
    "assert lotr_length // 100 == 5"
   ]
  },
  {
   "cell_type": "markdown",
   "metadata": {},
   "source": [
    "**Exercise:** Find the movie with the (primary) longest title.\n",
    "\n",
    "Hint: `idxmax()` method on the Series returns the index of the item with the maximum value. You can't (at least should) not use the maximum value itself."
   ]
  },
  {
   "cell_type": "code",
   "execution_count": null,
   "metadata": {},
   "outputs": [],
   "source": [
    "%exercise\n",
    "\n",
    "longest_title_movie = ...\n",
    "\n",
    "print(longest_title_movie[\"primaryTitle\"])\n",
    "\n",
    "longest_title_movie"
   ]
  },
  {
   "cell_type": "code",
   "execution_count": null,
   "metadata": {},
   "outputs": [],
   "source": [
    "%validate\n",
    "\n",
    "assert longest_title_movie[\"primaryTitle\"][2] == \"s\""
   ]
  }
 ],
 "metadata": {
  "kernelspec": {
   "display_name": "Python 3",
   "language": "python",
   "name": "python3"
  },
  "language_info": {
   "codemirror_mode": {
    "name": "ipython",
    "version": 3
   },
   "file_extension": ".py",
   "mimetype": "text/x-python",
   "name": "python",
   "nbconvert_exporter": "python",
   "pygments_lexer": "ipython3",
   "version": "3.7.3"
  }
 },
 "nbformat": 4,
 "nbformat_minor": 2
}
